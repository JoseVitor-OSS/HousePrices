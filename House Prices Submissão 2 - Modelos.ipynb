{
 "cells": [
  {
   "cell_type": "markdown",
   "id": "9ab1f7a6",
   "metadata": {},
   "source": [
    "# House Prices - Advanced Regression Techniques\n",
    "(Preços de casas - Técnicas Avançadas de Regressão)\n",
    "\n",
    "<img src=\"https://storage.googleapis.com/kaggle-media/competitions/House%20Prices/kaggle_5407_media_housesbanner.png\" width=800>\n",
    "\n",
    "\n",
    "- Vamos utilizar o [dataset disponível no Kaggle](https://www.kaggle.com/competitions/house-prices-advanced-regression-techniques/overview)\n",
    "    - É um dataset de **competição**\n",
    "    - Temos uma base com a **descrição de cada uma das colunas (data_description.txt)**\n",
    "- **Etapas do Projeto:**\n",
    "    - O projeto será realizado aplicando submissões no kaggle a medida que o tratamento dos dados forem tomando forma, isso possibilita verificar o desempenho dos modelos preditivos a modificações específicas neste tratamento."
   ]
  },
  {
   "cell_type": "markdown",
   "id": "0b2ba429",
   "metadata": {},
   "source": [
    "**Utilizando os modelos na base tratada**"
   ]
  },
  {
   "cell_type": "code",
   "execution_count": 76,
   "id": "a7dcf5d1",
   "metadata": {},
   "outputs": [],
   "source": [
    "import pandas as pd"
   ]
  },
  {
   "cell_type": "code",
   "execution_count": 77,
   "id": "93c257d4",
   "metadata": {},
   "outputs": [],
   "source": [
    "# Importando os datasets\n",
    "base_train = pd.read_csv('train_2.csv')\n",
    "base_test = pd.read_csv('test_2.csv')"
   ]
  },
  {
   "cell_type": "markdown",
   "id": "7f5177ab",
   "metadata": {},
   "source": [
    "## Submissões dos checkpoints\n",
    "- Escolher modelos mais indicados para as bases dado o observado no tratamento\n",
    "- Realizar seleção de features\n",
    "- Otimizar hiperparâmetros dos modelos\n",
    "- Submeter no Kaggle\n",
    "- Comparar desempenhos de tratamentos e modelos"
   ]
  },
  {
   "cell_type": "code",
   "execution_count": 78,
   "id": "8ee96940",
   "metadata": {},
   "outputs": [
    {
     "data": {
      "text/plain": [
       "Index(['OverallQual', 'GrLivArea', 'GarageArea/Car', 'YearBuilt', 'FullBath',\n",
       "       'GarageYrBlt', 'AreaTotalBsmt', 'YearRemodAdd', 'TotRmsAbvGrd',\n",
       "       'Fireplaces', 'OpenPorchSF', 'LotArea', 'MasVnrArea', 'LotFrontage',\n",
       "       'WoodDeckSF', 'HalfBath', 'BsmtFinSF1', 'SalePrice'],\n",
       "      dtype='object')"
      ]
     },
     "execution_count": 78,
     "metadata": {},
     "output_type": "execute_result"
    }
   ],
   "source": [
    "# Selecionar colunas numéricas\n",
    "col_n = base_train.columns[base_train.dtypes != 'object']\n",
    "col_n"
   ]
  },
  {
   "cell_type": "code",
   "execution_count": 79,
   "id": "f425bbe2",
   "metadata": {},
   "outputs": [],
   "source": [
    "# Atribuindo essas colunas a nossa base\n",
    "base_train = base_train.loc[:,col_n]"
   ]
  },
  {
   "cell_type": "code",
   "execution_count": 80,
   "id": "0bc50a42",
   "metadata": {},
   "outputs": [],
   "source": [
    "base_test = base_test.loc[:,col_n.drop('SalePrice')]"
   ]
  },
  {
   "cell_type": "markdown",
   "id": "5790019a",
   "metadata": {},
   "source": [
    "## Criando modelos"
   ]
  },
  {
   "cell_type": "markdown",
   "id": "ee0b769c",
   "metadata": {},
   "source": [
    "- **Vamos separar em treino e teste**\n",
    "    - https://scikit-learn.org/stable/modules/generated/sklearn.model_selection.train_test_split.html"
   ]
  },
  {
   "cell_type": "code",
   "execution_count": 81,
   "id": "7f7b8193",
   "metadata": {},
   "outputs": [],
   "source": [
    "# Selecionando X e y\n",
    "X = base_train.drop('SalePrice',axis=1)\n",
    "y = base_train.SalePrice"
   ]
  },
  {
   "cell_type": "code",
   "execution_count": 82,
   "id": "149956b5",
   "metadata": {},
   "outputs": [],
   "source": [
    "# Importando o train_test_split\n",
    "from sklearn.model_selection import train_test_split"
   ]
  },
  {
   "cell_type": "code",
   "execution_count": 83,
   "id": "6ec49ce2",
   "metadata": {},
   "outputs": [],
   "source": [
    "# Separando essa base em treino e teste\n",
    "X_train, X_test, y_train, y_test = train_test_split(X, y, test_size=0.33, random_state=42)"
   ]
  },
  {
   "cell_type": "markdown",
   "id": "85244b72",
   "metadata": {},
   "source": [
    "### Métrica de avaliação (RMSLE)\n",
    "- Essa função será utilizada para seleção de features e como scoring do GridSearchCV\n",
    "<img src=\"https://encrypted-tbn0.gstatic.com/images?q=tbn:ANd9GcRxDZcRHy4lOtYjOjcxhn72vPMjBGjRnPxkKA&s\" width=800>"
   ]
  },
  {
   "cell_type": "code",
   "execution_count": 84,
   "id": "fecf8c9e",
   "metadata": {},
   "outputs": [],
   "source": [
    "# Definir função que calcula essa métrica\n",
    "import numpy as np\n",
    "from sklearn.metrics import make_scorer\n",
    "\n",
    "# Função para calcular o RMSLE\n",
    "def rmsle(y_true, y_pred):\n",
    "    return np.sqrt(np.mean(np.power(np.log1p(y_pred) - np.log1p(y_true), 2)))"
   ]
  },
  {
   "cell_type": "markdown",
   "id": "72614e5e",
   "metadata": {},
   "source": [
    "## Seleção de algorítmos:\n",
    "- Observamos que nossa base possui as seguintes características:\n",
    "    - Poucos dados (linhas)\n",
    "    - Muitas features\n",
    "    - Aproximadamente a mesma quantidade de variáveis numéricas e categóricas\n",
    "    - Correlação não linear features vs target\n",
    "    - Distribuição um tanto assimétrica da target\n",
    "### Selecionar 3 modelos para testar \n",
    "    - Gradient Booster (indicado na própria competição)\n",
    "    - XGBoost Regressor (Variação do Gradiente boosting)\n",
    "    - Lasso (Apesar de ser um modelo linear lida bem com alta dimensionalidade e poucos dados)"
   ]
  },
  {
   "cell_type": "markdown",
   "id": "429874e1",
   "metadata": {},
   "source": [
    "## Gradient Boosting"
   ]
  },
  {
   "cell_type": "markdown",
   "id": "e4aa332b",
   "metadata": {},
   "source": [
    "#### Determinar a importancia das features de acordo com o modelo "
   ]
  },
  {
   "cell_type": "code",
   "execution_count": 85,
   "id": "50ca87b4",
   "metadata": {},
   "outputs": [
    {
     "name": "stdout",
     "output_type": "stream",
     "text": [
      "OverallQual       0.511439\n",
      "GrLivArea         0.154484\n",
      "AreaTotalBsmt     0.073603\n",
      "GarageArea/Car    0.060761\n",
      "BsmtFinSF1        0.052841\n",
      "YearBuilt         0.035564\n",
      "LotArea           0.025207\n",
      "YearRemodAdd      0.022317\n",
      "Fireplaces        0.013399\n",
      "LotFrontage       0.011185\n",
      "MasVnrArea        0.008288\n",
      "TotRmsAbvGrd      0.008072\n",
      "GarageYrBlt       0.007268\n",
      "WoodDeckSF        0.006867\n",
      "OpenPorchSF       0.004238\n",
      "HalfBath          0.003823\n",
      "FullBath          0.000647\n",
      "dtype: float64\n"
     ]
    }
   ],
   "source": [
    "# Importar o algorítmo\n",
    "from sklearn.ensemble import GradientBoostingRegressor\n",
    "# Setar o random state para todos os modelos, isso possibilita tirar a aleatoriedade e sempre obter os mesmos valores\n",
    "random_state = 0\n",
    "# Chamar o modelo\n",
    "GB = GradientBoostingRegressor(random_state=0)\n",
    "# Fit do modelo\n",
    "GB.fit(X_train, y_train)\n",
    "# Extrair importâncias das features de acordo com o modelo\n",
    "importances = GB.feature_importances_\n",
    "# Ordenar de forma decrescente as features com melhor importancia\n",
    "feature_importance_GB = pd.Series(abs(importances), index=X_train.columns).sort_values(ascending=False)\n",
    "print(feature_importance_GB)"
   ]
  },
  {
   "cell_type": "markdown",
   "id": "b064b5c5",
   "metadata": {},
   "source": [
    "### Utilizar o modelo em ordem crescente de features com a maior importancia e observar melhor desempenho"
   ]
  },
  {
   "cell_type": "code",
   "execution_count": 86,
   "id": "b6f088e2",
   "metadata": {},
   "outputs": [
    {
     "data": {
      "text/plain": [
       "[0.22968195305513636,\n",
       " 0.2113581682522095,\n",
       " 0.18940974603934943,\n",
       " 0.17843366592625132,\n",
       " 0.17087527885581175,\n",
       " 0.16298788639825235,\n",
       " 0.16055600029783607,\n",
       " 0.15585132425393566,\n",
       " 0.15642468382267294,\n",
       " 0.15943116780333716,\n",
       " 0.16121436139046766,\n",
       " 0.159098641774488,\n",
       " 0.16093979377554185,\n",
       " 0.16079038832965384,\n",
       " 0.1577727988319676,\n",
       " 0.15621039273407258,\n",
       " 0.15634823119228053]"
      ]
     },
     "execution_count": 86,
     "metadata": {},
     "output_type": "execute_result"
    }
   ],
   "source": [
    "from sklearn.metrics import mean_squared_error\n",
    "\n",
    "performance_GB = []\n",
    "\n",
    "# Observar quantidade ideal de dimenssão neste modelo (maldição da dimensionalidade)\n",
    "\n",
    "for i in range(1, len(X_train.columns)+1):  \n",
    "    X_train_selected = X_train.loc[:,feature_importance_GB.index[:i]]\n",
    "    X_test_selected = X_test.loc[:,feature_importance_GB.index[:i]]\n",
    "    \n",
    "    GB = GradientBoostingRegressor(random_state=0)\n",
    "    GB.fit(X_train_selected, y_train)\n",
    "    \n",
    "    y_pred = GB.predict(X_test_selected)\n",
    "    \n",
    "    performance_GB.append(rmsle(y_test, y_pred))\n",
    "    \n",
    "performance_GB"
   ]
  },
  {
   "cell_type": "markdown",
   "id": "560511a8",
   "metadata": {},
   "source": [
    "### RMSLE em função da quantidade de features"
   ]
  },
  {
   "cell_type": "code",
   "execution_count": 87,
   "id": "662858c0",
   "metadata": {},
   "outputs": [
    {
     "data": {
      "text/plain": [
       "<Figure size 2400x1600 with 0 Axes>"
      ]
     },
     "metadata": {},
     "output_type": "display_data"
    },
    {
     "data": {
      "image/png": "[encoded data removed]",
      "text/plain": [
       "<Figure size 640x480 with 1 Axes>"
      ]
     },
     "metadata": {},
     "output_type": "display_data"
    }
   ],
   "source": [
    "import matplotlib.pyplot as plt\n",
    "import numpy as np\n",
    "\n",
    "plt.figure(figsize=(24, 16))\n",
    "# plot\n",
    "fig, ax = plt.subplots()\n",
    "\n",
    "ax.plot(range(len(performance_GB)), performance_GB, linewidth=2.0, marker='o')\n",
    "\n",
    "ax.set_title('Performance do Modelo Gradient Boosting', fontsize=18)\n",
    "ax.set_xlabel('Número de Features', fontsize=10)\n",
    "ax.set_ylabel('Erro (RMSLE)', fontsize=10)\n",
    "\n",
    "plt.show()"
   ]
  },
  {
   "cell_type": "code",
   "execution_count": 88,
   "id": "03d428bb",
   "metadata": {},
   "outputs": [
    {
     "data": {
      "text/plain": [
       "7"
      ]
     },
     "execution_count": 88,
     "metadata": {},
     "output_type": "execute_result"
    }
   ],
   "source": [
    "# Valore ideal de features\n",
    "performance_GB.index(min(performance_GB))"
   ]
  },
  {
   "cell_type": "code",
   "execution_count": 117,
   "id": "a09a4e3e",
   "metadata": {},
   "outputs": [
    {
     "data": {
      "text/plain": [
       "0.15585132425393566"
      ]
     },
     "execution_count": 117,
     "metadata": {},
     "output_type": "execute_result"
    }
   ],
   "source": [
    "# Treinando com a quantidade ideal de features\n",
    "GB = GradientBoostingRegressor(random_state=0)\n",
    "GB.fit(X_train.loc[:,feature_importance_GB.index[:performance_GB.index(min(performance_GB))+1]], y_train)\n",
    "\n",
    "y_pred_gb = GB.predict(X_test.loc[:,feature_importance_GB.index[:performance_GB.index(min(performance_GB))+1]])\n",
    "\n",
    "RMSLE_GB = rmsle(y_test, y_pred_gb)\n",
    "RMSLE_GB"
   ]
  },
  {
   "cell_type": "markdown",
   "id": "27316e33",
   "metadata": {},
   "source": [
    "## XGBoost"
   ]
  },
  {
   "cell_type": "code",
   "execution_count": 90,
   "id": "4a06693e",
   "metadata": {},
   "outputs": [
    {
     "name": "stdout",
     "output_type": "stream",
     "text": [
      "OverallQual       0.579294\n",
      "GrLivArea         0.074986\n",
      "AreaTotalBsmt     0.061350\n",
      "Fireplaces        0.044057\n",
      "BsmtFinSF1        0.037621\n",
      "OpenPorchSF       0.034277\n",
      "TotRmsAbvGrd      0.025078\n",
      "YearRemodAdd      0.024936\n",
      "GarageArea/Car    0.020665\n",
      "GarageYrBlt       0.017429\n",
      "LotArea           0.017398\n",
      "WoodDeckSF        0.014895\n",
      "YearBuilt         0.014595\n",
      "FullBath          0.011576\n",
      "LotFrontage       0.009548\n",
      "HalfBath          0.007541\n",
      "MasVnrArea        0.004754\n",
      "dtype: float32\n"
     ]
    }
   ],
   "source": [
    "import xgboost as xgb\n",
    "#Criando modelo e fazendo o fit\n",
    "XG = xgb.XGBRegressor(random_state=random_state)\n",
    "XG.fit(X_train, y_train)\n",
    "# Determinando as importâncias individuais de cada feature\n",
    "importances_XG = XG.feature_importances_\n",
    "# Armazenando as importancias em ordem decrescente\n",
    "feature_importance_XG = pd.Series(abs(importances_XG), index=X_train.columns).sort_values(ascending=False)\n",
    "print(feature_importance_XG)"
   ]
  },
  {
   "cell_type": "markdown",
   "id": "e1fd70e4",
   "metadata": {},
   "source": [
    "### Utilizar o modelo em ordem crescente de features com a maior importancia e observar melhor desempenho"
   ]
  },
  {
   "cell_type": "code",
   "execution_count": 91,
   "id": "0beff7c3",
   "metadata": {},
   "outputs": [
    {
     "data": {
      "text/plain": [
       "[0.2296800561534658,\n",
       " 0.2181568306590205,\n",
       " 0.2056744058409165,\n",
       " 0.19571526729008654,\n",
       " 0.1856642400649277,\n",
       " 0.18409130539476162,\n",
       " 0.18087998259038593,\n",
       " 0.1743235766716785,\n",
       " 0.1690993335465544,\n",
       " 0.16580285253797963,\n",
       " 0.1675997670371092,\n",
       " 0.1632341594190768,\n",
       " 0.16045571504881548,\n",
       " 0.1627293522140229,\n",
       " 0.16430144465250698,\n",
       " 0.16653536553291484,\n",
       " 0.16374402136535104]"
      ]
     },
     "execution_count": 91,
     "metadata": {},
     "output_type": "execute_result"
    }
   ],
   "source": [
    "performance_XG = []\n",
    "\n",
    "# Observar quantidade ideal de dimenssão neste modelo (maldição da dimensionalidade)\n",
    "\n",
    "for i in range(1, len(X_train.columns)+1):  \n",
    "    X_train_selected = X_train.loc[:,feature_importance_XG.index[:i]]\n",
    "    X_test_selected = X_test.loc[:,feature_importance_XG.index[:i]]\n",
    "    \n",
    "    XG = xgb.XGBRegressor(random_state=random_state)\n",
    "    XG.fit(X_train_selected, y_train)\n",
    "    \n",
    "    y_pred = XG.predict(X_test_selected)\n",
    "    \n",
    "    performance_XG.append(rmsle(y_test, y_pred))\n",
    "    \n",
    "performance_XG"
   ]
  },
  {
   "cell_type": "markdown",
   "id": "7d27309d",
   "metadata": {},
   "source": [
    "### RMSLE em função da quantidade de features"
   ]
  },
  {
   "cell_type": "code",
   "execution_count": 92,
   "id": "e2d0141b",
   "metadata": {},
   "outputs": [
    {
     "data": {
      "text/plain": [
       "<Figure size 2400x1600 with 0 Axes>"
      ]
     },
     "metadata": {},
     "output_type": "display_data"
    },
    {
     "data": {
      "image/png": "[encoded data removed]",
      "text/plain": [
       "<Figure size 640x480 with 1 Axes>"
      ]
     },
     "metadata": {},
     "output_type": "display_data"
    }
   ],
   "source": [
    "import matplotlib.pyplot as plt\n",
    "import numpy as np\n",
    "\n",
    "plt.figure(figsize=(24, 16))\n",
    "# plot\n",
    "fig, ax = plt.subplots()\n",
    "\n",
    "ax.plot(range(len(performance_XG)), performance_XG, linewidth=2.0, marker='o')\n",
    "\n",
    "ax.set_title('Performance do XGBoosting', fontsize=18)\n",
    "ax.set_xlabel('Número de Features', fontsize=10)\n",
    "ax.set_ylabel('Erro (RMSLE)', fontsize=10)\n",
    "\n",
    "plt.show()"
   ]
  },
  {
   "cell_type": "code",
   "execution_count": 93,
   "id": "8c819607",
   "metadata": {},
   "outputs": [
    {
     "data": {
      "text/plain": [
       "12"
      ]
     },
     "execution_count": 93,
     "metadata": {},
     "output_type": "execute_result"
    }
   ],
   "source": [
    "# Valore ideal de features\n",
    "performance_XG.index(min(performance_XG))"
   ]
  },
  {
   "cell_type": "code",
   "execution_count": 94,
   "id": "bc8c9fc5",
   "metadata": {},
   "outputs": [
    {
     "data": {
      "text/plain": [
       "0.16045571504881548"
      ]
     },
     "execution_count": 94,
     "metadata": {},
     "output_type": "execute_result"
    }
   ],
   "source": [
    "# Treinando com a quantidade ideal de features\n",
    "XG = xgb.XGBRegressor(random_state=random_state)\n",
    "XG.fit(X_train.loc[:,feature_importance_XG.index[:performance_XG.index(min(performance_XG))+1]], y_train)\n",
    "\n",
    "y_pred_xg = XG.predict(X_test.loc[:,feature_importance_XG.index[:performance_XG.index(min(performance_XG))+1]])\n",
    "\n",
    "RMSLE_XG = rmsle(y_test, y_pred_xg)\n",
    "RMSLE_XG"
   ]
  },
  {
   "cell_type": "markdown",
   "id": "e4d3be99",
   "metadata": {},
   "source": [
    "## Lasso"
   ]
  },
  {
   "cell_type": "markdown",
   "id": "e706a6a4",
   "metadata": {},
   "source": [
    "### Aqui é preciso normalizar as features para poder determinar suas importancias, devem estar na mesma escala\n",
    "#### Utilizar o MinMaxEscaler para poder definir uma escala padrão"
   ]
  },
  {
   "cell_type": "code",
   "execution_count": 95,
   "id": "5ed39a17",
   "metadata": {},
   "outputs": [],
   "source": [
    "from sklearn.preprocessing import MinMaxScaler\n",
    "\n",
    "# Criar o objeto scaler\n",
    "scaler = MinMaxScaler(feature_range=(-1,1))\n",
    "\n",
    "# Ajustar o scaler com os dados de treino\n",
    "scaler.fit(base_train.drop('SalePrice', axis=1))\n",
    "\n",
    "# Transformar os dados de treino\n",
    "base_train_norm = base_train.copy()\n",
    "base_train_norm[base_train.drop('SalePrice', axis=1).columns] = scaler.transform(base_train.drop('SalePrice', axis=1))\n",
    "\n",
    "# Transformar os dados de teste\n",
    "base_test_norm = base_test.copy()\n",
    "base_test_norm[base_test.columns] = scaler.transform(base_test)"
   ]
  },
  {
   "cell_type": "code",
   "execution_count": 96,
   "id": "e1d33635",
   "metadata": {},
   "outputs": [
    {
     "data": {
      "text/html": [
       "<div>\n",
       "<style scoped>\n",
       "    .dataframe tbody tr th:only-of-type {\n",
       "        vertical-align: middle;\n",
       "    }\n",
       "\n",
       "    .dataframe tbody tr th {\n",
       "        vertical-align: top;\n",
       "    }\n",
       "\n",
       "    .dataframe thead th {\n",
       "        text-align: right;\n",
       "    }\n",
       "</style>\n",
       "<table border=\"1\" class=\"dataframe\">\n",
       "  <thead>\n",
       "    <tr style=\"text-align: right;\">\n",
       "      <th></th>\n",
       "      <th>OverallQual</th>\n",
       "      <th>GrLivArea</th>\n",
       "      <th>GarageArea/Car</th>\n",
       "      <th>YearBuilt</th>\n",
       "      <th>FullBath</th>\n",
       "      <th>GarageYrBlt</th>\n",
       "      <th>AreaTotalBsmt</th>\n",
       "      <th>YearRemodAdd</th>\n",
       "      <th>TotRmsAbvGrd</th>\n",
       "      <th>Fireplaces</th>\n",
       "      <th>OpenPorchSF</th>\n",
       "      <th>LotArea</th>\n",
       "      <th>MasVnrArea</th>\n",
       "      <th>LotFrontage</th>\n",
       "      <th>WoodDeckSF</th>\n",
       "      <th>HalfBath</th>\n",
       "      <th>BsmtFinSF1</th>\n",
       "      <th>SalePrice</th>\n",
       "    </tr>\n",
       "  </thead>\n",
       "  <tbody>\n",
       "    <tr>\n",
       "      <th>count</th>\n",
       "      <td>1460.000000</td>\n",
       "      <td>1460.000000</td>\n",
       "      <td>1460.000000</td>\n",
       "      <td>1460.000000</td>\n",
       "      <td>1460.000000</td>\n",
       "      <td>1460.000000</td>\n",
       "      <td>1460.000000</td>\n",
       "      <td>1460.000000</td>\n",
       "      <td>1460.000000</td>\n",
       "      <td>1460.000000</td>\n",
       "      <td>1460.000000</td>\n",
       "      <td>1460.000000</td>\n",
       "      <td>1460.000000</td>\n",
       "      <td>1460.000000</td>\n",
       "      <td>1460.000000</td>\n",
       "      <td>1460.000000</td>\n",
       "      <td>1460.000000</td>\n",
       "      <td>1460.000000</td>\n",
       "    </tr>\n",
       "    <tr>\n",
       "      <th>mean</th>\n",
       "      <td>6.099315</td>\n",
       "      <td>1515.463699</td>\n",
       "      <td>976.719178</td>\n",
       "      <td>1971.267808</td>\n",
       "      <td>1.565068</td>\n",
       "      <td>1868.684247</td>\n",
       "      <td>2220.056164</td>\n",
       "      <td>1984.865753</td>\n",
       "      <td>6.517808</td>\n",
       "      <td>0.613014</td>\n",
       "      <td>46.660274</td>\n",
       "      <td>10516.828082</td>\n",
       "      <td>103.117123</td>\n",
       "      <td>69.863699</td>\n",
       "      <td>94.244521</td>\n",
       "      <td>0.382877</td>\n",
       "      <td>443.639726</td>\n",
       "      <td>180921.195890</td>\n",
       "    </tr>\n",
       "    <tr>\n",
       "      <th>std</th>\n",
       "      <td>1.382997</td>\n",
       "      <td>525.480383</td>\n",
       "      <td>709.723243</td>\n",
       "      <td>30.202904</td>\n",
       "      <td>0.550916</td>\n",
       "      <td>453.925967</td>\n",
       "      <td>787.333406</td>\n",
       "      <td>20.645407</td>\n",
       "      <td>1.625393</td>\n",
       "      <td>0.644666</td>\n",
       "      <td>66.256028</td>\n",
       "      <td>9981.264932</td>\n",
       "      <td>180.731373</td>\n",
       "      <td>22.027677</td>\n",
       "      <td>125.338794</td>\n",
       "      <td>0.502885</td>\n",
       "      <td>456.098091</td>\n",
       "      <td>79442.502883</td>\n",
       "    </tr>\n",
       "    <tr>\n",
       "      <th>min</th>\n",
       "      <td>1.000000</td>\n",
       "      <td>334.000000</td>\n",
       "      <td>0.000000</td>\n",
       "      <td>1872.000000</td>\n",
       "      <td>0.000000</td>\n",
       "      <td>-1.000000</td>\n",
       "      <td>334.000000</td>\n",
       "      <td>1950.000000</td>\n",
       "      <td>2.000000</td>\n",
       "      <td>0.000000</td>\n",
       "      <td>0.000000</td>\n",
       "      <td>1300.000000</td>\n",
       "      <td>0.000000</td>\n",
       "      <td>21.000000</td>\n",
       "      <td>0.000000</td>\n",
       "      <td>0.000000</td>\n",
       "      <td>0.000000</td>\n",
       "      <td>34900.000000</td>\n",
       "    </tr>\n",
       "    <tr>\n",
       "      <th>25%</th>\n",
       "      <td>5.000000</td>\n",
       "      <td>1129.500000</td>\n",
       "      <td>336.000000</td>\n",
       "      <td>1954.000000</td>\n",
       "      <td>1.000000</td>\n",
       "      <td>1958.000000</td>\n",
       "      <td>1696.000000</td>\n",
       "      <td>1967.000000</td>\n",
       "      <td>5.000000</td>\n",
       "      <td>0.000000</td>\n",
       "      <td>0.000000</td>\n",
       "      <td>7553.500000</td>\n",
       "      <td>0.000000</td>\n",
       "      <td>60.000000</td>\n",
       "      <td>0.000000</td>\n",
       "      <td>0.000000</td>\n",
       "      <td>0.000000</td>\n",
       "      <td>129975.000000</td>\n",
       "    </tr>\n",
       "    <tr>\n",
       "      <th>50%</th>\n",
       "      <td>6.000000</td>\n",
       "      <td>1464.000000</td>\n",
       "      <td>948.000000</td>\n",
       "      <td>1973.000000</td>\n",
       "      <td>2.000000</td>\n",
       "      <td>1977.000000</td>\n",
       "      <td>2064.000000</td>\n",
       "      <td>1994.000000</td>\n",
       "      <td>6.000000</td>\n",
       "      <td>1.000000</td>\n",
       "      <td>25.000000</td>\n",
       "      <td>9478.500000</td>\n",
       "      <td>0.000000</td>\n",
       "      <td>69.000000</td>\n",
       "      <td>0.000000</td>\n",
       "      <td>0.000000</td>\n",
       "      <td>383.500000</td>\n",
       "      <td>163000.000000</td>\n",
       "    </tr>\n",
       "    <tr>\n",
       "      <th>75%</th>\n",
       "      <td>7.000000</td>\n",
       "      <td>1776.750000</td>\n",
       "      <td>1152.000000</td>\n",
       "      <td>2000.000000</td>\n",
       "      <td>2.000000</td>\n",
       "      <td>2001.000000</td>\n",
       "      <td>2661.000000</td>\n",
       "      <td>2004.000000</td>\n",
       "      <td>7.000000</td>\n",
       "      <td>1.000000</td>\n",
       "      <td>68.000000</td>\n",
       "      <td>11601.500000</td>\n",
       "      <td>164.250000</td>\n",
       "      <td>79.000000</td>\n",
       "      <td>168.000000</td>\n",
       "      <td>1.000000</td>\n",
       "      <td>712.250000</td>\n",
       "      <td>214000.000000</td>\n",
       "    </tr>\n",
       "    <tr>\n",
       "      <th>max</th>\n",
       "      <td>10.000000</td>\n",
       "      <td>5642.000000</td>\n",
       "      <td>5424.000000</td>\n",
       "      <td>2010.000000</td>\n",
       "      <td>3.000000</td>\n",
       "      <td>2010.000000</td>\n",
       "      <td>10802.000000</td>\n",
       "      <td>2010.000000</td>\n",
       "      <td>14.000000</td>\n",
       "      <td>3.000000</td>\n",
       "      <td>547.000000</td>\n",
       "      <td>215245.000000</td>\n",
       "      <td>1600.000000</td>\n",
       "      <td>313.000000</td>\n",
       "      <td>857.000000</td>\n",
       "      <td>2.000000</td>\n",
       "      <td>5644.000000</td>\n",
       "      <td>755000.000000</td>\n",
       "    </tr>\n",
       "  </tbody>\n",
       "</table>\n",
       "</div>"
      ],
      "text/plain": [
       "       OverallQual    GrLivArea  GarageArea/Car    YearBuilt     FullBath  \\\n",
       "count  1460.000000  1460.000000     1460.000000  1460.000000  1460.000000   \n",
       "mean      6.099315  1515.463699      976.719178  1971.267808     1.565068   \n",
       "std       1.382997   525.480383      709.723243    30.202904     0.550916   \n",
       "min       1.000000   334.000000        0.000000  1872.000000     0.000000   \n",
       "25%       5.000000  1129.500000      336.000000  1954.000000     1.000000   \n",
       "50%       6.000000  1464.000000      948.000000  1973.000000     2.000000   \n",
       "75%       7.000000  1776.750000     1152.000000  2000.000000     2.000000   \n",
       "max      10.000000  5642.000000     5424.000000  2010.000000     3.000000   \n",
       "\n",
       "       GarageYrBlt  AreaTotalBsmt  YearRemodAdd  TotRmsAbvGrd   Fireplaces  \\\n",
       "count  1460.000000    1460.000000   1460.000000   1460.000000  1460.000000   \n",
       "mean   1868.684247    2220.056164   1984.865753      6.517808     0.613014   \n",
       "std     453.925967     787.333406     20.645407      1.625393     0.644666   \n",
       "min      -1.000000     334.000000   1950.000000      2.000000     0.000000   \n",
       "25%    1958.000000    1696.000000   1967.000000      5.000000     0.000000   \n",
       "50%    1977.000000    2064.000000   1994.000000      6.000000     1.000000   \n",
       "75%    2001.000000    2661.000000   2004.000000      7.000000     1.000000   \n",
       "max    2010.000000   10802.000000   2010.000000     14.000000     3.000000   \n",
       "\n",
       "       OpenPorchSF        LotArea   MasVnrArea  LotFrontage   WoodDeckSF  \\\n",
       "count  1460.000000    1460.000000  1460.000000  1460.000000  1460.000000   \n",
       "mean     46.660274   10516.828082   103.117123    69.863699    94.244521   \n",
       "std      66.256028    9981.264932   180.731373    22.027677   125.338794   \n",
       "min       0.000000    1300.000000     0.000000    21.000000     0.000000   \n",
       "25%       0.000000    7553.500000     0.000000    60.000000     0.000000   \n",
       "50%      25.000000    9478.500000     0.000000    69.000000     0.000000   \n",
       "75%      68.000000   11601.500000   164.250000    79.000000   168.000000   \n",
       "max     547.000000  215245.000000  1600.000000   313.000000   857.000000   \n",
       "\n",
       "          HalfBath   BsmtFinSF1      SalePrice  \n",
       "count  1460.000000  1460.000000    1460.000000  \n",
       "mean      0.382877   443.639726  180921.195890  \n",
       "std       0.502885   456.098091   79442.502883  \n",
       "min       0.000000     0.000000   34900.000000  \n",
       "25%       0.000000     0.000000  129975.000000  \n",
       "50%       0.000000   383.500000  163000.000000  \n",
       "75%       1.000000   712.250000  214000.000000  \n",
       "max       2.000000  5644.000000  755000.000000  "
      ]
     },
     "execution_count": 96,
     "metadata": {},
     "output_type": "execute_result"
    }
   ],
   "source": [
    "base_train.describe()"
   ]
  },
  {
   "cell_type": "code",
   "execution_count": 97,
   "id": "5dcb7fe5",
   "metadata": {},
   "outputs": [
    {
     "data": {
      "text/html": [
       "<div>\n",
       "<style scoped>\n",
       "    .dataframe tbody tr th:only-of-type {\n",
       "        vertical-align: middle;\n",
       "    }\n",
       "\n",
       "    .dataframe tbody tr th {\n",
       "        vertical-align: top;\n",
       "    }\n",
       "\n",
       "    .dataframe thead th {\n",
       "        text-align: right;\n",
       "    }\n",
       "</style>\n",
       "<table border=\"1\" class=\"dataframe\">\n",
       "  <thead>\n",
       "    <tr style=\"text-align: right;\">\n",
       "      <th></th>\n",
       "      <th>OverallQual</th>\n",
       "      <th>GrLivArea</th>\n",
       "      <th>GarageArea/Car</th>\n",
       "      <th>YearBuilt</th>\n",
       "      <th>FullBath</th>\n",
       "      <th>GarageYrBlt</th>\n",
       "      <th>AreaTotalBsmt</th>\n",
       "      <th>YearRemodAdd</th>\n",
       "      <th>TotRmsAbvGrd</th>\n",
       "      <th>Fireplaces</th>\n",
       "      <th>OpenPorchSF</th>\n",
       "      <th>LotArea</th>\n",
       "      <th>MasVnrArea</th>\n",
       "      <th>LotFrontage</th>\n",
       "      <th>WoodDeckSF</th>\n",
       "      <th>HalfBath</th>\n",
       "      <th>BsmtFinSF1</th>\n",
       "      <th>SalePrice</th>\n",
       "    </tr>\n",
       "  </thead>\n",
       "  <tbody>\n",
       "    <tr>\n",
       "      <th>count</th>\n",
       "      <td>1460.000000</td>\n",
       "      <td>1460.000000</td>\n",
       "      <td>1460.000000</td>\n",
       "      <td>1460.000000</td>\n",
       "      <td>1460.000000</td>\n",
       "      <td>1460.000000</td>\n",
       "      <td>1460.000000</td>\n",
       "      <td>1460.000000</td>\n",
       "      <td>1460.000000</td>\n",
       "      <td>1460.000000</td>\n",
       "      <td>1460.000000</td>\n",
       "      <td>1460.000000</td>\n",
       "      <td>1460.000000</td>\n",
       "      <td>1460.000000</td>\n",
       "      <td>1460.000000</td>\n",
       "      <td>1460.000000</td>\n",
       "      <td>1460.000000</td>\n",
       "      <td>1460.000000</td>\n",
       "    </tr>\n",
       "    <tr>\n",
       "      <th>mean</th>\n",
       "      <td>0.133181</td>\n",
       "      <td>-0.554837</td>\n",
       "      <td>-0.639853</td>\n",
       "      <td>0.438664</td>\n",
       "      <td>0.043379</td>\n",
       "      <td>0.859457</td>\n",
       "      <td>-0.639653</td>\n",
       "      <td>0.162192</td>\n",
       "      <td>-0.247032</td>\n",
       "      <td>-0.591324</td>\n",
       "      <td>-0.829396</td>\n",
       "      <td>-0.913839</td>\n",
       "      <td>-0.871104</td>\n",
       "      <td>-0.665317</td>\n",
       "      <td>-0.780059</td>\n",
       "      <td>-0.617123</td>\n",
       "      <td>-0.842792</td>\n",
       "      <td>180921.195890</td>\n",
       "    </tr>\n",
       "    <tr>\n",
       "      <th>std</th>\n",
       "      <td>0.307333</td>\n",
       "      <td>0.197996</td>\n",
       "      <td>0.261697</td>\n",
       "      <td>0.437723</td>\n",
       "      <td>0.367277</td>\n",
       "      <td>0.451443</td>\n",
       "      <td>0.150427</td>\n",
       "      <td>0.688180</td>\n",
       "      <td>0.270899</td>\n",
       "      <td>0.429778</td>\n",
       "      <td>0.242252</td>\n",
       "      <td>0.093307</td>\n",
       "      <td>0.225914</td>\n",
       "      <td>0.150875</td>\n",
       "      <td>0.292506</td>\n",
       "      <td>0.502885</td>\n",
       "      <td>0.161622</td>\n",
       "      <td>79442.502883</td>\n",
       "    </tr>\n",
       "    <tr>\n",
       "      <th>min</th>\n",
       "      <td>-1.000000</td>\n",
       "      <td>-1.000000</td>\n",
       "      <td>-1.000000</td>\n",
       "      <td>-1.000000</td>\n",
       "      <td>-1.000000</td>\n",
       "      <td>-1.000000</td>\n",
       "      <td>-1.000000</td>\n",
       "      <td>-1.000000</td>\n",
       "      <td>-1.000000</td>\n",
       "      <td>-1.000000</td>\n",
       "      <td>-1.000000</td>\n",
       "      <td>-1.000000</td>\n",
       "      <td>-1.000000</td>\n",
       "      <td>-1.000000</td>\n",
       "      <td>-1.000000</td>\n",
       "      <td>-1.000000</td>\n",
       "      <td>-1.000000</td>\n",
       "      <td>34900.000000</td>\n",
       "    </tr>\n",
       "    <tr>\n",
       "      <th>25%</th>\n",
       "      <td>-0.111111</td>\n",
       "      <td>-0.700264</td>\n",
       "      <td>-0.876106</td>\n",
       "      <td>0.188406</td>\n",
       "      <td>-0.333333</td>\n",
       "      <td>0.948284</td>\n",
       "      <td>-0.739778</td>\n",
       "      <td>-0.433333</td>\n",
       "      <td>-0.500000</td>\n",
       "      <td>-1.000000</td>\n",
       "      <td>-1.000000</td>\n",
       "      <td>-0.941541</td>\n",
       "      <td>-1.000000</td>\n",
       "      <td>-0.732877</td>\n",
       "      <td>-1.000000</td>\n",
       "      <td>-1.000000</td>\n",
       "      <td>-1.000000</td>\n",
       "      <td>129975.000000</td>\n",
       "    </tr>\n",
       "    <tr>\n",
       "      <th>50%</th>\n",
       "      <td>0.111111</td>\n",
       "      <td>-0.574228</td>\n",
       "      <td>-0.650442</td>\n",
       "      <td>0.463768</td>\n",
       "      <td>0.333333</td>\n",
       "      <td>0.967181</td>\n",
       "      <td>-0.669469</td>\n",
       "      <td>0.466667</td>\n",
       "      <td>-0.333333</td>\n",
       "      <td>-0.333333</td>\n",
       "      <td>-0.908592</td>\n",
       "      <td>-0.923546</td>\n",
       "      <td>-1.000000</td>\n",
       "      <td>-0.671233</td>\n",
       "      <td>-1.000000</td>\n",
       "      <td>-1.000000</td>\n",
       "      <td>-0.864103</td>\n",
       "      <td>163000.000000</td>\n",
       "    </tr>\n",
       "    <tr>\n",
       "      <th>75%</th>\n",
       "      <td>0.333333</td>\n",
       "      <td>-0.456387</td>\n",
       "      <td>-0.575221</td>\n",
       "      <td>0.855072</td>\n",
       "      <td>0.333333</td>\n",
       "      <td>0.991049</td>\n",
       "      <td>-0.555407</td>\n",
       "      <td>0.800000</td>\n",
       "      <td>-0.166667</td>\n",
       "      <td>-0.333333</td>\n",
       "      <td>-0.751371</td>\n",
       "      <td>-0.903700</td>\n",
       "      <td>-0.794687</td>\n",
       "      <td>-0.602740</td>\n",
       "      <td>-0.607935</td>\n",
       "      <td>0.000000</td>\n",
       "      <td>-0.747608</td>\n",
       "      <td>214000.000000</td>\n",
       "    </tr>\n",
       "    <tr>\n",
       "      <th>max</th>\n",
       "      <td>1.000000</td>\n",
       "      <td>1.000000</td>\n",
       "      <td>1.000000</td>\n",
       "      <td>1.000000</td>\n",
       "      <td>1.000000</td>\n",
       "      <td>1.000000</td>\n",
       "      <td>1.000000</td>\n",
       "      <td>1.000000</td>\n",
       "      <td>1.000000</td>\n",
       "      <td>1.000000</td>\n",
       "      <td>1.000000</td>\n",
       "      <td>1.000000</td>\n",
       "      <td>1.000000</td>\n",
       "      <td>1.000000</td>\n",
       "      <td>1.000000</td>\n",
       "      <td>1.000000</td>\n",
       "      <td>1.000000</td>\n",
       "      <td>755000.000000</td>\n",
       "    </tr>\n",
       "  </tbody>\n",
       "</table>\n",
       "</div>"
      ],
      "text/plain": [
       "       OverallQual    GrLivArea  GarageArea/Car    YearBuilt     FullBath  \\\n",
       "count  1460.000000  1460.000000     1460.000000  1460.000000  1460.000000   \n",
       "mean      0.133181    -0.554837       -0.639853     0.438664     0.043379   \n",
       "std       0.307333     0.197996        0.261697     0.437723     0.367277   \n",
       "min      -1.000000    -1.000000       -1.000000    -1.000000    -1.000000   \n",
       "25%      -0.111111    -0.700264       -0.876106     0.188406    -0.333333   \n",
       "50%       0.111111    -0.574228       -0.650442     0.463768     0.333333   \n",
       "75%       0.333333    -0.456387       -0.575221     0.855072     0.333333   \n",
       "max       1.000000     1.000000        1.000000     1.000000     1.000000   \n",
       "\n",
       "       GarageYrBlt  AreaTotalBsmt  YearRemodAdd  TotRmsAbvGrd   Fireplaces  \\\n",
       "count  1460.000000    1460.000000   1460.000000   1460.000000  1460.000000   \n",
       "mean      0.859457      -0.639653      0.162192     -0.247032    -0.591324   \n",
       "std       0.451443       0.150427      0.688180      0.270899     0.429778   \n",
       "min      -1.000000      -1.000000     -1.000000     -1.000000    -1.000000   \n",
       "25%       0.948284      -0.739778     -0.433333     -0.500000    -1.000000   \n",
       "50%       0.967181      -0.669469      0.466667     -0.333333    -0.333333   \n",
       "75%       0.991049      -0.555407      0.800000     -0.166667    -0.333333   \n",
       "max       1.000000       1.000000      1.000000      1.000000     1.000000   \n",
       "\n",
       "       OpenPorchSF      LotArea   MasVnrArea  LotFrontage   WoodDeckSF  \\\n",
       "count  1460.000000  1460.000000  1460.000000  1460.000000  1460.000000   \n",
       "mean     -0.829396    -0.913839    -0.871104    -0.665317    -0.780059   \n",
       "std       0.242252     0.093307     0.225914     0.150875     0.292506   \n",
       "min      -1.000000    -1.000000    -1.000000    -1.000000    -1.000000   \n",
       "25%      -1.000000    -0.941541    -1.000000    -0.732877    -1.000000   \n",
       "50%      -0.908592    -0.923546    -1.000000    -0.671233    -1.000000   \n",
       "75%      -0.751371    -0.903700    -0.794687    -0.602740    -0.607935   \n",
       "max       1.000000     1.000000     1.000000     1.000000     1.000000   \n",
       "\n",
       "          HalfBath   BsmtFinSF1      SalePrice  \n",
       "count  1460.000000  1460.000000    1460.000000  \n",
       "mean     -0.617123    -0.842792  180921.195890  \n",
       "std       0.502885     0.161622   79442.502883  \n",
       "min      -1.000000    -1.000000   34900.000000  \n",
       "25%      -1.000000    -1.000000  129975.000000  \n",
       "50%      -1.000000    -0.864103  163000.000000  \n",
       "75%       0.000000    -0.747608  214000.000000  \n",
       "max       1.000000     1.000000  755000.000000  "
      ]
     },
     "execution_count": 97,
     "metadata": {},
     "output_type": "execute_result"
    }
   ],
   "source": [
    "base_train_norm.describe()"
   ]
  },
  {
   "cell_type": "code",
   "execution_count": 98,
   "id": "829a8b15",
   "metadata": {},
   "outputs": [],
   "source": [
    "# Separar base normalizada em teste e treino\n",
    "X_norm = base_train_norm.drop('SalePrice',axis=1)\n",
    "X_train_norm , X_test_norm, y_train_norm, y_test_norm = train_test_split(X_norm, y, test_size=0.33, random_state=42)"
   ]
  },
  {
   "cell_type": "code",
   "execution_count": 99,
   "id": "6f0df23e",
   "metadata": {},
   "outputs": [
    {
     "name": "stdout",
     "output_type": "stream",
     "text": [
      "Importância das Features:\n",
      "OverallQual       85532.379059\n",
      "GarageArea/Car    62680.745716\n",
      "LotArea           57921.171001\n",
      "GrLivArea         53374.568983\n",
      "BsmtFinSF1        44477.281519\n",
      "AreaTotalBsmt     26968.510845\n",
      "TotRmsAbvGrd      23851.448607\n",
      "Fireplaces        15075.113783\n",
      "MasVnrArea        13138.644500\n",
      "YearBuilt         12935.676718\n",
      "WoodDeckSF        12247.608057\n",
      "YearRemodAdd      11127.860989\n",
      "HalfBath           2175.680823\n",
      "FullBath          -1205.388660\n",
      "OpenPorchSF       -1608.369340\n",
      "GarageYrBlt       -2436.685945\n",
      "LotFrontage      -14867.461262\n",
      "dtype: float64\n"
     ]
    }
   ],
   "source": [
    "from sklearn.linear_model import Lasso\n",
    "\n",
    "# Treinar o modelo Lasso\n",
    "L = Lasso(alpha=0.1, random_state=random_state,max_iter=10000)\n",
    "L.fit(X_train_norm, y_train_norm)\n",
    "\n",
    "# Obter os coeficientes do modelo\n",
    "feature_importance_L = pd.Series(L.coef_, index=X_norm.columns)\n",
    "feature_importance_L = feature_importance_L.sort_values(ascending=False)\n",
    "# Exibir a importância das features\n",
    "print(\"Importância das Features:\")\n",
    "print(feature_importance_L)"
   ]
  },
  {
   "cell_type": "markdown",
   "id": "9e54d3cb",
   "metadata": {},
   "source": [
    "### Utilizar o modelo em ordem crescente de features com a maior importancia e observar melhor desempenho"
   ]
  },
  {
   "cell_type": "code",
   "execution_count": 100,
   "id": "111f6556",
   "metadata": {},
   "outputs": [
    {
     "data": {
      "text/plain": [
       "[0.35448175273027227,\n",
       " 0.24852519278957771,\n",
       " 0.24518299981500777,\n",
       " 0.21773281033231298,\n",
       " 0.2169629352245004,\n",
       " 0.2122287414810461,\n",
       " 0.2200840089704656,\n",
       " 0.20421121836034745,\n",
       " 0.2003200995055023,\n",
       " 0.18808019398448464,\n",
       " 0.18805235979144694,\n",
       " 0.18611812998488722,\n",
       " 0.18664918495251928,\n",
       " 0.1865685559841775,\n",
       " 0.18664779228343115,\n",
       " 0.1839673744003477,\n",
       " 0.18477906844767558]"
      ]
     },
     "execution_count": 100,
     "metadata": {},
     "output_type": "execute_result"
    }
   ],
   "source": [
    "performance_L = []\n",
    "\n",
    "# Observar quantidade ideal de dimenssão neste modelo (maldição da dimensionalidade)\n",
    "\n",
    "for i in range(1, len(X_train_norm.columns)+1):  \n",
    "    X_train_selected = X_train_norm.loc[:,feature_importance_L.index[:i]]\n",
    "    X_test_selected = X_test_norm.loc[:,feature_importance_L.index[:i]]\n",
    "    \n",
    "    L = Lasso(alpha=0.1, random_state=random_state,max_iter=100000)\n",
    "    L.fit(X_train_selected, y_train_norm)\n",
    "    \n",
    "    y_pred_L = L.predict(X_test_selected)\n",
    "    \n",
    "    performance_L.append(rmsle(y_test_norm, y_pred_L))\n",
    "    \n",
    "performance_L"
   ]
  },
  {
   "cell_type": "markdown",
   "id": "ac406bd9",
   "metadata": {},
   "source": [
    "### RMSLE em função da quantidade de features"
   ]
  },
  {
   "cell_type": "code",
   "execution_count": 101,
   "id": "02b46398",
   "metadata": {},
   "outputs": [
    {
     "data": {
      "text/plain": [
       "<Figure size 2400x1600 with 0 Axes>"
      ]
     },
     "metadata": {},
     "output_type": "display_data"
    },
    {
     "data": {
      "image/png": "[encoded data removed]",
      "text/plain": [
       "<Figure size 640x480 with 1 Axes>"
      ]
     },
     "metadata": {},
     "output_type": "display_data"
    }
   ],
   "source": [
    "import matplotlib.pyplot as plt\n",
    "import numpy as np\n",
    "\n",
    "plt.figure(figsize=(24, 16))\n",
    "# plot\n",
    "fig, ax = plt.subplots()\n",
    "\n",
    "ax.plot(range(len(performance_L)), performance_L, linewidth=2.0, marker='o')\n",
    "\n",
    "ax.set_title('Performance do Lasso', fontsize=18)\n",
    "ax.set_xlabel('Número de Features', fontsize=10)\n",
    "ax.set_ylabel('Erro (RMSLE)', fontsize=10)\n",
    "\n",
    "plt.show()"
   ]
  },
  {
   "cell_type": "code",
   "execution_count": 102,
   "id": "7bef9292",
   "metadata": {},
   "outputs": [
    {
     "data": {
      "text/plain": [
       "15"
      ]
     },
     "execution_count": 102,
     "metadata": {},
     "output_type": "execute_result"
    }
   ],
   "source": [
    "# Valore ideal de features\n",
    "performance_L.index(min(performance_L))"
   ]
  },
  {
   "cell_type": "code",
   "execution_count": 103,
   "id": "3e1fabd6",
   "metadata": {},
   "outputs": [
    {
     "data": {
      "text/plain": [
       "0.1839673744003477"
      ]
     },
     "execution_count": 103,
     "metadata": {},
     "output_type": "execute_result"
    }
   ],
   "source": [
    "# Treinando com a quantidade ideal de features\n",
    "L = Lasso(alpha=0.1, random_state=random_state,max_iter=100000)\n",
    "L.fit(X_train_norm.loc[:,feature_importance_L.index[:performance_L.index(min(performance_L))+1]], y_train_norm)\n",
    "\n",
    "y_pred_l = L.predict(X_test_norm.loc[:,feature_importance_L.index[:performance_L.index(min(performance_L))+1]])\n",
    "\n",
    "RMSLE_L = rmsle(y_test, y_pred_l)\n",
    "RMSLE_L"
   ]
  },
  {
   "cell_type": "markdown",
   "id": "fdd63bff",
   "metadata": {},
   "source": [
    "- **Resumo do melhor desempenho de cada modelo:**    \n",
    "    - Comparando com os resultados do Checkpoint 1, pode ser notado uma piora\n",
    "    - Podemos considerar que a seleção de features tem melhor desempenho se deixar-mos por conta do modelo\n",
    "    - Desconsiderar as features menos correlatas não teve um bom resultado aparente"
   ]
  },
  {
   "cell_type": "code",
   "execution_count": 118,
   "id": "269a3bcd",
   "metadata": {},
   "outputs": [
    {
     "name": "stdout",
     "output_type": "stream",
     "text": [
      "Melhores RMSLE\n",
      "Gradiente Boosting: 0.15585132425393566\n",
      "XGBoosting: 0.16045571504881548\n",
      "Lasso: 0.1839673744003477\n"
     ]
    }
   ],
   "source": [
    "# Importando o erro médio absoluto\n",
    "print(\"Melhores RMSLE\")\n",
    "print(\"Gradiente Boosting: {}\".format(RMSLE_GB))\n",
    "print(\"XGBoosting: {}\".format(RMSLE_XG))\n",
    "print(\"Lasso: {}\".format(RMSLE_L))"
   ]
  },
  {
   "cell_type": "markdown",
   "id": "162028e9",
   "metadata": {},
   "source": [
    "- **Podemos plotar visualmente a relação do y_test com as previsões feitas**\n",
    "    - Predições perfeitas seriam se or pontos estivessem exatamente sobre a reta (y=x)\n",
    "    - O Gráfico permite observar também a faixa de preços em que o modelo mais acerta e mais erra\n",
    "    - Preços acima de 500.000 apresentaram dificuldade de predição em todos modelos\n",
    "    - Para isso vamos utilizar o matplotlib\n",
    "        - https://matplotlib.org/"
   ]
  },
  {
   "cell_type": "code",
   "execution_count": 105,
   "id": "7e5f78f8",
   "metadata": {},
   "outputs": [],
   "source": [
    "# Importando o matplotlib\n",
    "import matplotlib.pyplot as plt"
   ]
  },
  {
   "cell_type": "code",
   "execution_count": 106,
   "id": "a6bf59eb",
   "metadata": {},
   "outputs": [
    {
     "data": {
      "image/png": "[encoded data removed]",
      "text/plain": [
       "<Figure size 1500x500 with 3 Axes>"
      ]
     },
     "metadata": {},
     "output_type": "display_data"
    }
   ],
   "source": [
    "# Criando esse gráfico\n",
    "fig, ax = plt.subplots(ncols=3,figsize=(15,5))\n",
    "\n",
    "ax[0].scatter(y_test/100000, y_pred_gb/100000)\n",
    "ax[0].plot([0,8],[0,8],'--r')\n",
    "ax[1].scatter(y_test/100000, y_pred_xg/100000)\n",
    "ax[1].plot([0,8],[0,8],'--r')\n",
    "ax[2].scatter(y_test/100000, y_pred_l/100000)\n",
    "ax[2].plot([0,8],[0,8],'--r')\n",
    "\n",
    "ax[0].set(xlim=(0, 8),ylim=(0, 8))\n",
    "ax[0].set_xlabel('y_test (x100.000)')\n",
    "ax[0].set_ylabel('y_pred (x100.000)')\n",
    "ax[0].set_title('Gradiente Boosting')\n",
    "ax[1].set(xlim=(0, 8),ylim=(0, 8))\n",
    "ax[1].set_xlabel('y_test (x100.000)')\n",
    "ax[1].set_ylabel('y_pred (x100.000)')\n",
    "ax[1].set_title('XGBoosting')\n",
    "ax[2].set(xlim=(0, 8),ylim=(0, 8))\n",
    "ax[2].set_xlabel('y_test (x100.000)')\n",
    "ax[2].set_ylabel('y_pred (x100.000)')\n",
    "ax[2].set_title('Lasso')\n",
    "\n",
    "plt.show()"
   ]
  },
  {
   "cell_type": "markdown",
   "id": "d855508c",
   "metadata": {},
   "source": [
    "## Fazendo a previsão para a base de teste da competição\n",
    "- Considerando o melhor modelo para realizar a predição\n",
    "- Realizar seleção de features de acordo com o obtido para o modelo em questão"
   ]
  },
  {
   "cell_type": "code",
   "execution_count": 107,
   "id": "13f15487",
   "metadata": {},
   "outputs": [],
   "source": [
    "colunas_gb = (X_test.loc[:,feature_importance_GB.index[:performance_GB.index(min(performance_GB))+1]]).columns"
   ]
  },
  {
   "cell_type": "code",
   "execution_count": 108,
   "id": "83a9ca6f",
   "metadata": {},
   "outputs": [
    {
     "data": {
      "text/html": [
       "<div>\n",
       "<style scoped>\n",
       "    .dataframe tbody tr th:only-of-type {\n",
       "        vertical-align: middle;\n",
       "    }\n",
       "\n",
       "    .dataframe tbody tr th {\n",
       "        vertical-align: top;\n",
       "    }\n",
       "\n",
       "    .dataframe thead th {\n",
       "        text-align: right;\n",
       "    }\n",
       "</style>\n",
       "<table border=\"1\" class=\"dataframe\">\n",
       "  <thead>\n",
       "    <tr style=\"text-align: right;\">\n",
       "      <th></th>\n",
       "      <th>OverallQual</th>\n",
       "      <th>GrLivArea</th>\n",
       "      <th>GarageArea/Car</th>\n",
       "      <th>YearBuilt</th>\n",
       "      <th>FullBath</th>\n",
       "      <th>GarageYrBlt</th>\n",
       "      <th>AreaTotalBsmt</th>\n",
       "      <th>YearRemodAdd</th>\n",
       "      <th>TotRmsAbvGrd</th>\n",
       "      <th>Fireplaces</th>\n",
       "      <th>OpenPorchSF</th>\n",
       "      <th>LotArea</th>\n",
       "      <th>MasVnrArea</th>\n",
       "      <th>LotFrontage</th>\n",
       "      <th>WoodDeckSF</th>\n",
       "      <th>HalfBath</th>\n",
       "      <th>BsmtFinSF1</th>\n",
       "    </tr>\n",
       "  </thead>\n",
       "  <tbody>\n",
       "    <tr>\n",
       "      <th>0</th>\n",
       "      <td>5</td>\n",
       "      <td>896</td>\n",
       "      <td>730.0</td>\n",
       "      <td>1961</td>\n",
       "      <td>1</td>\n",
       "      <td>1961.0</td>\n",
       "      <td>1778.0</td>\n",
       "      <td>1961</td>\n",
       "      <td>5</td>\n",
       "      <td>0</td>\n",
       "      <td>0</td>\n",
       "      <td>11622</td>\n",
       "      <td>0.0</td>\n",
       "      <td>80.0</td>\n",
       "      <td>140</td>\n",
       "      <td>0</td>\n",
       "      <td>468.0</td>\n",
       "    </tr>\n",
       "    <tr>\n",
       "      <th>1</th>\n",
       "      <td>6</td>\n",
       "      <td>1329</td>\n",
       "      <td>312.0</td>\n",
       "      <td>1958</td>\n",
       "      <td>1</td>\n",
       "      <td>1958.0</td>\n",
       "      <td>2658.0</td>\n",
       "      <td>1958</td>\n",
       "      <td>6</td>\n",
       "      <td>0</td>\n",
       "      <td>36</td>\n",
       "      <td>14267</td>\n",
       "      <td>108.0</td>\n",
       "      <td>81.0</td>\n",
       "      <td>393</td>\n",
       "      <td>1</td>\n",
       "      <td>923.0</td>\n",
       "    </tr>\n",
       "    <tr>\n",
       "      <th>2</th>\n",
       "      <td>5</td>\n",
       "      <td>1629</td>\n",
       "      <td>964.0</td>\n",
       "      <td>1997</td>\n",
       "      <td>2</td>\n",
       "      <td>1997.0</td>\n",
       "      <td>1856.0</td>\n",
       "      <td>1998</td>\n",
       "      <td>6</td>\n",
       "      <td>1</td>\n",
       "      <td>34</td>\n",
       "      <td>13830</td>\n",
       "      <td>0.0</td>\n",
       "      <td>74.0</td>\n",
       "      <td>212</td>\n",
       "      <td>1</td>\n",
       "      <td>791.0</td>\n",
       "    </tr>\n",
       "    <tr>\n",
       "      <th>3</th>\n",
       "      <td>6</td>\n",
       "      <td>1604</td>\n",
       "      <td>940.0</td>\n",
       "      <td>1998</td>\n",
       "      <td>2</td>\n",
       "      <td>1998.0</td>\n",
       "      <td>1852.0</td>\n",
       "      <td>1998</td>\n",
       "      <td>7</td>\n",
       "      <td>1</td>\n",
       "      <td>36</td>\n",
       "      <td>9978</td>\n",
       "      <td>20.0</td>\n",
       "      <td>78.0</td>\n",
       "      <td>360</td>\n",
       "      <td>1</td>\n",
       "      <td>602.0</td>\n",
       "    </tr>\n",
       "    <tr>\n",
       "      <th>4</th>\n",
       "      <td>8</td>\n",
       "      <td>1280</td>\n",
       "      <td>1012.0</td>\n",
       "      <td>1992</td>\n",
       "      <td>2</td>\n",
       "      <td>1992.0</td>\n",
       "      <td>2560.0</td>\n",
       "      <td>1992</td>\n",
       "      <td>5</td>\n",
       "      <td>0</td>\n",
       "      <td>82</td>\n",
       "      <td>5005</td>\n",
       "      <td>0.0</td>\n",
       "      <td>43.0</td>\n",
       "      <td>0</td>\n",
       "      <td>0</td>\n",
       "      <td>263.0</td>\n",
       "    </tr>\n",
       "  </tbody>\n",
       "</table>\n",
       "</div>"
      ],
      "text/plain": [
       "   OverallQual  GrLivArea  GarageArea/Car  YearBuilt  FullBath  GarageYrBlt  \\\n",
       "0            5        896           730.0       1961         1       1961.0   \n",
       "1            6       1329           312.0       1958         1       1958.0   \n",
       "2            5       1629           964.0       1997         2       1997.0   \n",
       "3            6       1604           940.0       1998         2       1998.0   \n",
       "4            8       1280          1012.0       1992         2       1992.0   \n",
       "\n",
       "   AreaTotalBsmt  YearRemodAdd  TotRmsAbvGrd  Fireplaces  OpenPorchSF  \\\n",
       "0         1778.0          1961             5           0            0   \n",
       "1         2658.0          1958             6           0           36   \n",
       "2         1856.0          1998             6           1           34   \n",
       "3         1852.0          1998             7           1           36   \n",
       "4         2560.0          1992             5           0           82   \n",
       "\n",
       "   LotArea  MasVnrArea  LotFrontage  WoodDeckSF  HalfBath  BsmtFinSF1  \n",
       "0    11622         0.0         80.0         140         0       468.0  \n",
       "1    14267       108.0         81.0         393         1       923.0  \n",
       "2    13830         0.0         74.0         212         1       791.0  \n",
       "3     9978        20.0         78.0         360         1       602.0  \n",
       "4     5005         0.0         43.0           0         0       263.0  "
      ]
     },
     "execution_count": 108,
     "metadata": {},
     "output_type": "execute_result"
    }
   ],
   "source": [
    "# Visualizando a base com todas features\n",
    "base_test.head()"
   ]
  },
  {
   "cell_type": "code",
   "execution_count": 109,
   "id": "cfce9334",
   "metadata": {},
   "outputs": [],
   "source": [
    "# Utilizar as mesmas colunas na base de teste\n",
    "base_test = base_test[colunas_gb]"
   ]
  },
  {
   "cell_type": "code",
   "execution_count": 110,
   "id": "eb322627",
   "metadata": {},
   "outputs": [
    {
     "data": {
      "text/html": [
       "<div>\n",
       "<style scoped>\n",
       "    .dataframe tbody tr th:only-of-type {\n",
       "        vertical-align: middle;\n",
       "    }\n",
       "\n",
       "    .dataframe tbody tr th {\n",
       "        vertical-align: top;\n",
       "    }\n",
       "\n",
       "    .dataframe thead th {\n",
       "        text-align: right;\n",
       "    }\n",
       "</style>\n",
       "<table border=\"1\" class=\"dataframe\">\n",
       "  <thead>\n",
       "    <tr style=\"text-align: right;\">\n",
       "      <th></th>\n",
       "      <th>OverallQual</th>\n",
       "      <th>GrLivArea</th>\n",
       "      <th>AreaTotalBsmt</th>\n",
       "      <th>GarageArea/Car</th>\n",
       "      <th>BsmtFinSF1</th>\n",
       "      <th>YearBuilt</th>\n",
       "      <th>LotArea</th>\n",
       "      <th>YearRemodAdd</th>\n",
       "    </tr>\n",
       "  </thead>\n",
       "  <tbody>\n",
       "    <tr>\n",
       "      <th>0</th>\n",
       "      <td>5</td>\n",
       "      <td>896</td>\n",
       "      <td>1778.0</td>\n",
       "      <td>730.0</td>\n",
       "      <td>468.0</td>\n",
       "      <td>1961</td>\n",
       "      <td>11622</td>\n",
       "      <td>1961</td>\n",
       "    </tr>\n",
       "    <tr>\n",
       "      <th>1</th>\n",
       "      <td>6</td>\n",
       "      <td>1329</td>\n",
       "      <td>2658.0</td>\n",
       "      <td>312.0</td>\n",
       "      <td>923.0</td>\n",
       "      <td>1958</td>\n",
       "      <td>14267</td>\n",
       "      <td>1958</td>\n",
       "    </tr>\n",
       "    <tr>\n",
       "      <th>2</th>\n",
       "      <td>5</td>\n",
       "      <td>1629</td>\n",
       "      <td>1856.0</td>\n",
       "      <td>964.0</td>\n",
       "      <td>791.0</td>\n",
       "      <td>1997</td>\n",
       "      <td>13830</td>\n",
       "      <td>1998</td>\n",
       "    </tr>\n",
       "    <tr>\n",
       "      <th>3</th>\n",
       "      <td>6</td>\n",
       "      <td>1604</td>\n",
       "      <td>1852.0</td>\n",
       "      <td>940.0</td>\n",
       "      <td>602.0</td>\n",
       "      <td>1998</td>\n",
       "      <td>9978</td>\n",
       "      <td>1998</td>\n",
       "    </tr>\n",
       "    <tr>\n",
       "      <th>4</th>\n",
       "      <td>8</td>\n",
       "      <td>1280</td>\n",
       "      <td>2560.0</td>\n",
       "      <td>1012.0</td>\n",
       "      <td>263.0</td>\n",
       "      <td>1992</td>\n",
       "      <td>5005</td>\n",
       "      <td>1992</td>\n",
       "    </tr>\n",
       "  </tbody>\n",
       "</table>\n",
       "</div>"
      ],
      "text/plain": [
       "   OverallQual  GrLivArea  AreaTotalBsmt  GarageArea/Car  BsmtFinSF1  \\\n",
       "0            5        896         1778.0           730.0       468.0   \n",
       "1            6       1329         2658.0           312.0       923.0   \n",
       "2            5       1629         1856.0           964.0       791.0   \n",
       "3            6       1604         1852.0           940.0       602.0   \n",
       "4            8       1280         2560.0          1012.0       263.0   \n",
       "\n",
       "   YearBuilt  LotArea  YearRemodAdd  \n",
       "0       1961    11622          1961  \n",
       "1       1958    14267          1958  \n",
       "2       1997    13830          1998  \n",
       "3       1998     9978          1998  \n",
       "4       1992     5005          1992  "
      ]
     },
     "execution_count": 110,
     "metadata": {},
     "output_type": "execute_result"
    }
   ],
   "source": [
    "# Verificando a base restante\n",
    "base_test.head()"
   ]
  },
  {
   "cell_type": "code",
   "execution_count": 111,
   "id": "e39fcf94",
   "metadata": {},
   "outputs": [
    {
     "data": {
      "text/plain": [
       "OverallQual       0\n",
       "GrLivArea         0\n",
       "AreaTotalBsmt     0\n",
       "GarageArea/Car    0\n",
       "BsmtFinSF1        0\n",
       "YearBuilt         0\n",
       "LotArea           0\n",
       "YearRemodAdd      0\n",
       "dtype: int64"
      ]
     },
     "execution_count": 111,
     "metadata": {},
     "output_type": "execute_result"
    }
   ],
   "source": [
    "# Verificar valores nulos\n",
    "base_test.isnull().sum()"
   ]
  },
  {
   "cell_type": "markdown",
   "id": "db767eed",
   "metadata": {},
   "source": [
    "- **Agora podemos usar nosso modelo e ajustar os dados para usarmos no Kaggle**"
   ]
  },
  {
   "cell_type": "code",
   "execution_count": 112,
   "id": "9b09d278",
   "metadata": {},
   "outputs": [],
   "source": [
    "# Vamos usar a Regressão Linear para fazer a previsão\n",
    "y_pred = GB.predict(base_test)"
   ]
  },
  {
   "cell_type": "code",
   "execution_count": 113,
   "id": "511117c5",
   "metadata": {},
   "outputs": [],
   "source": [
    "# Podemos adicionar essa coluna de previsão na nossa base\n",
    "base_test['SalePrice'] = y_pred"
   ]
  },
  {
   "cell_type": "code",
   "execution_count": 114,
   "id": "fc771427",
   "metadata": {},
   "outputs": [],
   "source": [
    "test = pd.read_csv(\"test.csv\") \n",
    "base_test['Id'] =test.Id"
   ]
  },
  {
   "cell_type": "code",
   "execution_count": 115,
   "id": "bc1fd647",
   "metadata": {},
   "outputs": [
    {
     "data": {
      "text/html": [
       "<div>\n",
       "<style scoped>\n",
       "    .dataframe tbody tr th:only-of-type {\n",
       "        vertical-align: middle;\n",
       "    }\n",
       "\n",
       "    .dataframe tbody tr th {\n",
       "        vertical-align: top;\n",
       "    }\n",
       "\n",
       "    .dataframe thead th {\n",
       "        text-align: right;\n",
       "    }\n",
       "</style>\n",
       "<table border=\"1\" class=\"dataframe\">\n",
       "  <thead>\n",
       "    <tr style=\"text-align: right;\">\n",
       "      <th></th>\n",
       "      <th>Id</th>\n",
       "      <th>SalePrice</th>\n",
       "    </tr>\n",
       "  </thead>\n",
       "  <tbody>\n",
       "    <tr>\n",
       "      <th>0</th>\n",
       "      <td>1461</td>\n",
       "      <td>126952.358340</td>\n",
       "    </tr>\n",
       "    <tr>\n",
       "      <th>1</th>\n",
       "      <td>1462</td>\n",
       "      <td>155221.382533</td>\n",
       "    </tr>\n",
       "    <tr>\n",
       "      <th>2</th>\n",
       "      <td>1463</td>\n",
       "      <td>179803.035977</td>\n",
       "    </tr>\n",
       "  </tbody>\n",
       "</table>\n",
       "</div>"
      ],
      "text/plain": [
       "     Id      SalePrice\n",
       "0  1461  126952.358340\n",
       "1  1462  155221.382533\n",
       "2  1463  179803.035977"
      ]
     },
     "execution_count": 115,
     "metadata": {},
     "output_type": "execute_result"
    }
   ],
   "source": [
    "# E extrair somente o Id e o SalePrice\n",
    "base_kaggle = base_test[['Id','SalePrice']]\n",
    "base_kaggle.head(3)"
   ]
  },
  {
   "cell_type": "code",
   "execution_count": 119,
   "id": "9513b665",
   "metadata": {},
   "outputs": [],
   "source": [
    "# Podemos então exportar essa base\n",
    "base_kaggle.to_csv('resultado2.csv',index=False)"
   ]
  }
 ],
 "metadata": {
  "kernelspec": {
   "display_name": "Python 3 (ipykernel)",
   "language": "python",
   "name": "python3"
  },
  "language_info": {
   "codemirror_mode": {
    "name": "ipython",
    "version": 3
   },
   "file_extension": ".py",
   "mimetype": "text/x-python",
   "name": "python",
   "nbconvert_exporter": "python",
   "pygments_lexer": "ipython3",
   "version": "3.11.5"
  }
 },
 "nbformat": 4,
 "nbformat_minor": 5
}
