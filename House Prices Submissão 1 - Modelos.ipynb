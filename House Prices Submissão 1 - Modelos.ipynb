{
 "cells": [
  {
   "cell_type": "markdown",
   "id": "9ab1f7a6",
   "metadata": {},
   "source": [
    "# House Prices - Advanced Regression Techniques\n",
    "(Preços de casas - Técnicas Avançadas de Regressão)\n",
    "\n",
    "<img src=\"https://storage.googleapis.com/kaggle-media/competitions/House%20Prices/kaggle_5407_media_housesbanner.png\" width=800>\n",
    "\n",
    "\n",
    "- Vamos utilizar o [dataset disponível no Kaggle](https://www.kaggle.com/competitions/house-prices-advanced-regression-techniques/overview)\n",
    "    - É um dataset de **competição**\n",
    "    - Temos uma base com a **descrição de cada uma das colunas (data_description.txt)**\n",
    "- **Etapas do Projeto:**\n",
    "    - O projeto será realizado aplicando submissões no kaggle a medida que o tratamento dos dados forem tomando forma, isso possibilita verificar o desempenho dos modelos preditivos a modificações específicas neste tratamento."
   ]
  },
  {
   "cell_type": "markdown",
   "id": "0b2ba429",
   "metadata": {},
   "source": [
    "**Utilizando os modelos na base tratada**"
   ]
  },
  {
   "cell_type": "code",
   "execution_count": 58,
   "id": "a7dcf5d1",
   "metadata": {},
   "outputs": [],
   "source": [
    "import pandas as pd"
   ]
  },
  {
   "cell_type": "code",
   "execution_count": 59,
   "id": "93c257d4",
   "metadata": {},
   "outputs": [],
   "source": [
    "# Importando os datasets\n",
    "base_train = pd.read_csv('train_1.csv')\n",
    "base_test = pd.read_csv('test_1.csv')"
   ]
  },
  {
   "cell_type": "markdown",
   "id": "7f5177ab",
   "metadata": {},
   "source": [
    "## Submissões dos checkpoints\n",
    "- Escolher modelos mais indicados para as bases dado o observado no tratamento\n",
    "- Realizar seleção de features\n",
    "- Otimizar hiperparâmetros dos modelos\n",
    "- Submeter no Kaggle\n",
    "- Comparar desempenhos de tratamentos e modelos"
   ]
  },
  {
   "cell_type": "code",
   "execution_count": 60,
   "id": "8ee96940",
   "metadata": {},
   "outputs": [
    {
     "data": {
      "text/plain": [
       "Index(['Id', 'MSSubClass', 'LotFrontage', 'LotArea', 'OverallQual',\n",
       "       'OverallCond', 'YearBuilt', 'YearRemodAdd', 'MasVnrArea', 'BsmtFinSF1',\n",
       "       'BsmtFinSF2', 'BsmtUnfSF', '2ndFlrSF', 'LowQualFinSF', 'GrLivArea',\n",
       "       'BsmtFullBath', 'BsmtHalfBath', 'FullBath', 'HalfBath', 'BedroomAbvGr',\n",
       "       'KitchenAbvGr', 'TotRmsAbvGrd', 'Fireplaces', 'GarageYrBlt',\n",
       "       'WoodDeckSF', 'OpenPorchSF', 'EnclosedPorch', '3SsnPorch',\n",
       "       'ScreenPorch', 'MiscVal', 'MoSold', 'YrSold', 'SalePrice',\n",
       "       'GarageArea/Car', 'AreaTotalBsmt'],\n",
       "      dtype='object')"
      ]
     },
     "execution_count": 60,
     "metadata": {},
     "output_type": "execute_result"
    }
   ],
   "source": [
    "# Selecionar colunas numéricas\n",
    "col_n = base_train.columns[base_train.dtypes != 'object']\n",
    "col_n"
   ]
  },
  {
   "cell_type": "code",
   "execution_count": 61,
   "id": "f425bbe2",
   "metadata": {},
   "outputs": [],
   "source": [
    "# Atribuindo essas colunas a nossa base\n",
    "base_train = base_train.loc[:,col_n]"
   ]
  },
  {
   "cell_type": "code",
   "execution_count": 62,
   "id": "0bc50a42",
   "metadata": {},
   "outputs": [],
   "source": [
    "base_test = base_test.loc[:,col_n.drop('SalePrice')]"
   ]
  },
  {
   "cell_type": "markdown",
   "id": "d5674d52",
   "metadata": {},
   "source": [
    "### Métrica de avaliação (RMSLE)\n",
    "- Essa função será utilizada para seleção de features e como scoring do GridSearchCV\n",
    "<img src=\"https://encrypted-tbn0.gstatic.com/images?q=tbn:ANd9GcRxDZcRHy4lOtYjOjcxhn72vPMjBGjRnPxkKA&s\" width=800>"
   ]
  },
  {
   "cell_type": "code",
   "execution_count": 63,
   "id": "416d03e2",
   "metadata": {},
   "outputs": [],
   "source": [
    "# Definir função que calcula essa métrica\n",
    "import numpy as np\n",
    "from sklearn.metrics import make_scorer\n",
    "\n",
    "# Função para calcular o RMSLE\n",
    "def rmsle(y_true, y_pred):\n",
    "    return np.sqrt(np.mean(np.power(np.log1p(y_pred) - np.log1p(y_true), 2)))"
   ]
  },
  {
   "cell_type": "markdown",
   "id": "5790019a",
   "metadata": {},
   "source": [
    "## Criando modelos"
   ]
  },
  {
   "cell_type": "markdown",
   "id": "ee0b769c",
   "metadata": {},
   "source": [
    "- **Vamos separar em treino e teste**\n",
    "    - https://scikit-learn.org/stable/modules/generated/sklearn.model_selection.train_test_split.html"
   ]
  },
  {
   "cell_type": "code",
   "execution_count": 64,
   "id": "7f7b8193",
   "metadata": {},
   "outputs": [],
   "source": [
    "# Selecionando X e y\n",
    "X = base_train.drop('SalePrice',axis=1)\n",
    "y = base_train.SalePrice"
   ]
  },
  {
   "cell_type": "code",
   "execution_count": 65,
   "id": "149956b5",
   "metadata": {},
   "outputs": [],
   "source": [
    "# Importando o train_test_split\n",
    "from sklearn.model_selection import train_test_split"
   ]
  },
  {
   "cell_type": "code",
   "execution_count": 66,
   "id": "6ec49ce2",
   "metadata": {},
   "outputs": [],
   "source": [
    "# Separando essa base em treino e teste\n",
    "X_train, X_test, y_train, y_test = train_test_split(X, y, test_size=0.33, random_state=42)"
   ]
  },
  {
   "cell_type": "markdown",
   "id": "72614e5e",
   "metadata": {},
   "source": [
    "## Seleção de algorítmos:\n",
    "- Observamos que nossa base possui as seguintes características:\n",
    "    - Poucos dados (linhas)\n",
    "    - Muitas features\n",
    "    - Aproximadamente a mesma quantidade de variáveis numéricas e categóricas\n",
    "    - Correlação não linear features vs target\n",
    "    - Distribuição um tanto assimétrica da target\n",
    "### Selecionar 3 modelos para testar \n",
    "    - Gradient Booster (indicado na própria competição)\n",
    "    - XGBoost Regressor (Variação do Gradiente boosting)\n",
    "    - Lasso (Apesar de ser um modelo linear lida bem com alta dimensionalidade e poucos dados)"
   ]
  },
  {
   "cell_type": "markdown",
   "id": "429874e1",
   "metadata": {},
   "source": [
    "## Gradient Boosting"
   ]
  },
  {
   "cell_type": "markdown",
   "id": "e4aa332b",
   "metadata": {},
   "source": [
    "#### Determinar a importancia das features de acordo com o modelo "
   ]
  },
  {
   "cell_type": "code",
   "execution_count": 67,
   "id": "50ca87b4",
   "metadata": {},
   "outputs": [
    {
     "name": "stdout",
     "output_type": "stream",
     "text": [
      "OverallQual       0.515628\n",
      "GrLivArea         0.135157\n",
      "AreaTotalBsmt     0.074808\n",
      "GarageArea/Car    0.057418\n",
      "BsmtFinSF1        0.054327\n",
      "YearBuilt         0.028047\n",
      "2ndFlrSF          0.021973\n",
      "LotArea           0.020097\n",
      "YearRemodAdd      0.017973\n",
      "Fireplaces        0.012270\n",
      "ScreenPorch       0.011210\n",
      "GarageYrBlt       0.010650\n",
      "WoodDeckSF        0.008044\n",
      "OverallCond       0.006230\n",
      "OpenPorchSF       0.003539\n",
      "MasVnrArea        0.003526\n",
      "TotRmsAbvGrd      0.003140\n",
      "MSSubClass        0.003052\n",
      "BsmtUnfSF         0.002460\n",
      "BsmtFinSF2        0.002312\n",
      "LotFrontage       0.002272\n",
      "KitchenAbvGr      0.001340\n",
      "BsmtFullBath      0.001132\n",
      "3SsnPorch         0.000915\n",
      "Id                0.000861\n",
      "BedroomAbvGr      0.000577\n",
      "MoSold            0.000447\n",
      "YrSold            0.000357\n",
      "EnclosedPorch     0.000140\n",
      "BsmtHalfBath      0.000070\n",
      "HalfBath          0.000019\n",
      "FullBath          0.000007\n",
      "MiscVal           0.000000\n",
      "LowQualFinSF      0.000000\n",
      "dtype: float64\n"
     ]
    }
   ],
   "source": [
    "# Importar o algorítmo\n",
    "from sklearn.ensemble import GradientBoostingRegressor\n",
    "# Setar o random state para todos os modelos, isso possibilita tirar a aleatoriedade e sempre obter os mesmos valores\n",
    "random_state = 0\n",
    "# Chamar o modelo\n",
    "GB = GradientBoostingRegressor(random_state=0)\n",
    "# Fit do modelo\n",
    "GB.fit(X_train, y_train)\n",
    "# Extrair importâncias das features de acordo com o modelo\n",
    "importances = GB.feature_importances_\n",
    "# Ordenar de forma decrescente as features com melhor importancia\n",
    "feature_importance_GB = pd.Series(abs(importances), index=X_train.columns).sort_values(ascending=False)\n",
    "print(feature_importance_GB)"
   ]
  },
  {
   "cell_type": "markdown",
   "id": "b064b5c5",
   "metadata": {},
   "source": [
    "### Utilizar o modelo em ordem crescente de features com a maior importancia e observar melhor desempenho"
   ]
  },
  {
   "cell_type": "code",
   "execution_count": 68,
   "id": "b6f088e2",
   "metadata": {},
   "outputs": [
    {
     "data": {
      "text/plain": [
       "[0.22968195305513636,\n",
       " 0.2113581682522095,\n",
       " 0.18940974603934943,\n",
       " 0.17843366592625132,\n",
       " 0.17087527885581175,\n",
       " 0.16298788639825235,\n",
       " 0.15825570284521528,\n",
       " 0.15741215737885017,\n",
       " 0.15285034824203078,\n",
       " 0.15104874818414896,\n",
       " 0.15485950322236866,\n",
       " 0.15353502079784573,\n",
       " 0.1534516254818357,\n",
       " 0.13997172612002906,\n",
       " 0.14160963842961324,\n",
       " 0.1420393173413539,\n",
       " 0.14232090461235622,\n",
       " 0.13961546501340022,\n",
       " 0.14080660434867504,\n",
       " 0.1402026787934328,\n",
       " 0.14126084620769955,\n",
       " 0.14111965872768184,\n",
       " 0.1440716155000456,\n",
       " 0.14358992328050277,\n",
       " 0.14265512130848407,\n",
       " 0.14393289318582334,\n",
       " 0.1442096841216017,\n",
       " 0.1443802892429437,\n",
       " 0.14296003596375342,\n",
       " 0.14441316129797843,\n",
       " 0.1428154884805101,\n",
       " 0.14383882095711398,\n",
       " 0.14413044390659538,\n",
       " 0.1435236196794134]"
      ]
     },
     "execution_count": 68,
     "metadata": {},
     "output_type": "execute_result"
    }
   ],
   "source": [
    "from sklearn.metrics import mean_squared_error\n",
    "\n",
    "performance_GB = []\n",
    "\n",
    "# Observar quantidade ideal de dimenssão neste modelo (maldição da dimensionalidade)\n",
    "\n",
    "for i in range(1, len(X_train.columns)+1):  \n",
    "    X_train_selected = X_train.loc[:,feature_importance_GB.index[:i]]\n",
    "    X_test_selected = X_test.loc[:,feature_importance_GB.index[:i]]\n",
    "    \n",
    "    GB = GradientBoostingRegressor(random_state=0)\n",
    "    GB.fit(X_train_selected, y_train)\n",
    "    \n",
    "    y_pred = GB.predict(X_test_selected)\n",
    "    \n",
    "    performance_GB.append(rmsle(y_test, y_pred))\n",
    "    \n",
    "performance_GB"
   ]
  },
  {
   "cell_type": "markdown",
   "id": "560511a8",
   "metadata": {},
   "source": [
    "### RMSLE em função da quantidade de features"
   ]
  },
  {
   "cell_type": "code",
   "execution_count": 69,
   "id": "e1374f54",
   "metadata": {},
   "outputs": [
    {
     "data": {
      "text/plain": [
       "<Figure size 2400x1600 with 0 Axes>"
      ]
     },
     "metadata": {},
     "output_type": "display_data"
    },
    {
     "data": {
      "image/png": "[encoded data removed]",
      "text/plain": [
       "<Figure size 640x480 with 1 Axes>"
      ]
     },
     "metadata": {},
     "output_type": "display_data"
    }
   ],
   "source": [
    "import matplotlib.pyplot as plt\n",
    "import numpy as np\n",
    "\n",
    "plt.figure(figsize=(24, 16))\n",
    "# plot\n",
    "fig, ax = plt.subplots()\n",
    "\n",
    "ax.plot(range(len(performance_GB)), performance_GB, linewidth=2.0, marker='o')\n",
    "\n",
    "ax.set_title('Performance do Modelo Gradient Boosting', fontsize=18)\n",
    "ax.set_xlabel('Número de Features', fontsize=10)\n",
    "ax.set_ylabel('Erro (RMSLE)', fontsize=10)\n",
    "\n",
    "plt.show()"
   ]
  },
  {
   "cell_type": "code",
   "execution_count": 70,
   "id": "03d428bb",
   "metadata": {},
   "outputs": [
    {
     "data": {
      "text/plain": [
       "17"
      ]
     },
     "execution_count": 70,
     "metadata": {},
     "output_type": "execute_result"
    }
   ],
   "source": [
    "# Valore ideal de features\n",
    "performance_GB.index(min(performance_GB))"
   ]
  },
  {
   "cell_type": "code",
   "execution_count": 71,
   "id": "a09a4e3e",
   "metadata": {},
   "outputs": [
    {
     "data": {
      "text/plain": [
       "0.1435236196794134"
      ]
     },
     "execution_count": 71,
     "metadata": {},
     "output_type": "execute_result"
    }
   ],
   "source": [
    "# Treinando com a quantidade ideal de features\n",
    "GB = GradientBoostingRegressor(random_state=0)\n",
    "GB.fit(X_train.loc[:,feature_importance_GB.index[:performance_GB.index(min(performance_GB))+1]], y_train)\n",
    "\n",
    "y_pred_gb = GB.predict(X_test.loc[:,feature_importance_GB.index[:performance_GB.index(min(performance_GB))+1]])\n",
    "\n",
    "RMSLE_GB = rmsle(y_test, y_pred)\n",
    "RMSLE_GB"
   ]
  },
  {
   "cell_type": "markdown",
   "id": "27316e33",
   "metadata": {},
   "source": [
    "## XGBoost"
   ]
  },
  {
   "cell_type": "code",
   "execution_count": 72,
   "id": "4a06693e",
   "metadata": {},
   "outputs": [
    {
     "name": "stdout",
     "output_type": "stream",
     "text": [
      "OverallQual       0.675852\n",
      "GrLivArea         0.054018\n",
      "KitchenAbvGr      0.041441\n",
      "AreaTotalBsmt     0.029876\n",
      "Fireplaces        0.023544\n",
      "FullBath          0.020089\n",
      "ScreenPorch       0.019795\n",
      "BsmtFinSF1        0.015830\n",
      "GarageArea/Car    0.013337\n",
      "BsmtFullBath      0.010293\n",
      "LotFrontage       0.010200\n",
      "TotRmsAbvGrd      0.009793\n",
      "YearRemodAdd      0.009260\n",
      "GarageYrBlt       0.007890\n",
      "YearBuilt         0.006851\n",
      "BedroomAbvGr      0.006191\n",
      "OverallCond       0.005908\n",
      "LotArea           0.005845\n",
      "2ndFlrSF          0.005774\n",
      "BsmtFinSF2        0.003468\n",
      "WoodDeckSF        0.003227\n",
      "3SsnPorch         0.002799\n",
      "EnclosedPorch     0.002626\n",
      "OpenPorchSF       0.002521\n",
      "MoSold            0.002202\n",
      "YrSold            0.002197\n",
      "MasVnrArea        0.002172\n",
      "MSSubClass        0.002049\n",
      "HalfBath          0.001625\n",
      "BsmtUnfSF         0.001485\n",
      "Id                0.000869\n",
      "BsmtHalfBath      0.000669\n",
      "MiscVal           0.000230\n",
      "LowQualFinSF      0.000073\n",
      "dtype: float32\n"
     ]
    }
   ],
   "source": [
    "import xgboost as xgb\n",
    "#Criando modelo e fazendo o fit\n",
    "XG = xgb.XGBRegressor(random_state=random_state)\n",
    "XG.fit(X_train, y_train)\n",
    "# Determinando as importâncias individuais de cada feature\n",
    "importances_XG = XG.feature_importances_\n",
    "# Armazenando as importancias em ordem decrescente\n",
    "feature_importance_XG = pd.Series(abs(importances_XG), index=X_train.columns).sort_values(ascending=False)\n",
    "print(feature_importance_XG)"
   ]
  },
  {
   "cell_type": "markdown",
   "id": "e1fd70e4",
   "metadata": {},
   "source": [
    "### Utilizar o modelo em ordem crescente de features com a maior importancia e observar melhor desempenho"
   ]
  },
  {
   "cell_type": "code",
   "execution_count": 73,
   "id": "0beff7c3",
   "metadata": {},
   "outputs": [
    {
     "data": {
      "text/plain": [
       "[0.2296800561534658,\n",
       " 0.2181568306590205,\n",
       " 0.2166417617578659,\n",
       " 0.20396838341692594,\n",
       " 0.1941011943177252,\n",
       " 0.19088963136382636,\n",
       " 0.18584304096707313,\n",
       " 0.1803220678346442,\n",
       " 0.1718397315159027,\n",
       " 0.17225258439740285,\n",
       " 0.1726282072275151,\n",
       " 0.17445680405724426,\n",
       " 0.17107239486506362,\n",
       " 0.16592226995353165,\n",
       " 0.16663974678506155,\n",
       " 0.1724222157883361,\n",
       " 0.15370149580208842,\n",
       " 0.1603467233539934,\n",
       " 0.15065467335486735,\n",
       " 0.1532341166768413,\n",
       " 0.15359288149517822,\n",
       " 0.1560255288525951,\n",
       " 0.15465971209012797,\n",
       " 0.15635117073346114,\n",
       " 0.152783786785591,\n",
       " 0.1479719984815526,\n",
       " 0.1513441151568479,\n",
       " 0.15201629445162596,\n",
       " 0.15339211187502397,\n",
       " 0.15128901087665544,\n",
       " 0.15237605252965766,\n",
       " 0.15306776279785603,\n",
       " 0.1543863063481356,\n",
       " 0.1545771388039607]"
      ]
     },
     "execution_count": 73,
     "metadata": {},
     "output_type": "execute_result"
    }
   ],
   "source": [
    "performance_XG = []\n",
    "\n",
    "# Observar quantidade ideal de dimenssão neste modelo (maldição da dimensionalidade)\n",
    "\n",
    "for i in range(1, len(X_train.columns)+1):  \n",
    "    X_train_selected = X_train.loc[:,feature_importance_XG.index[:i]]\n",
    "    X_test_selected = X_test.loc[:,feature_importance_XG.index[:i]]\n",
    "    \n",
    "    XG = xgb.XGBRegressor(random_state=random_state)\n",
    "    XG.fit(X_train_selected, y_train)\n",
    "    \n",
    "    y_pred = XG.predict(X_test_selected)\n",
    "    \n",
    "    performance_XG.append(rmsle(y_test, y_pred))\n",
    "    \n",
    "performance_XG"
   ]
  },
  {
   "cell_type": "markdown",
   "id": "7d27309d",
   "metadata": {},
   "source": [
    "### RMSLE em função da quantidade de features"
   ]
  },
  {
   "cell_type": "code",
   "execution_count": 74,
   "id": "e2d0141b",
   "metadata": {},
   "outputs": [
    {
     "data": {
      "text/plain": [
       "<Figure size 2400x1600 with 0 Axes>"
      ]
     },
     "metadata": {},
     "output_type": "display_data"
    },
    {
     "data": {
      "image/png": "[encoded data removed]",
      "text/plain": [
       "<Figure size 640x480 with 1 Axes>"
      ]
     },
     "metadata": {},
     "output_type": "display_data"
    }
   ],
   "source": [
    "import matplotlib.pyplot as plt\n",
    "import numpy as np\n",
    "\n",
    "plt.figure(figsize=(24, 16))\n",
    "# plot\n",
    "fig, ax = plt.subplots()\n",
    "\n",
    "ax.plot(range(len(performance_XG)), performance_XG, linewidth=2.0, marker='o')\n",
    "\n",
    "ax.set_title('Performance do XGBoosting', fontsize=18)\n",
    "ax.set_xlabel('Número de Features', fontsize=10)\n",
    "ax.set_ylabel('Erro (RMSLE)', fontsize=10)\n",
    "\n",
    "plt.show()"
   ]
  },
  {
   "cell_type": "code",
   "execution_count": 75,
   "id": "8c819607",
   "metadata": {},
   "outputs": [
    {
     "data": {
      "text/plain": [
       "25"
      ]
     },
     "execution_count": 75,
     "metadata": {},
     "output_type": "execute_result"
    }
   ],
   "source": [
    "# Valore ideal de features\n",
    "performance_XG.index(min(performance_XG))"
   ]
  },
  {
   "cell_type": "code",
   "execution_count": 76,
   "id": "bc8c9fc5",
   "metadata": {},
   "outputs": [
    {
     "data": {
      "text/plain": [
       "0.1545771388039607"
      ]
     },
     "execution_count": 76,
     "metadata": {},
     "output_type": "execute_result"
    }
   ],
   "source": [
    "# Treinando com a quantidade ideal de features\n",
    "XG = xgb.XGBRegressor(random_state=random_state)\n",
    "XG.fit(X_train.loc[:,feature_importance_XG.index[:performance_XG.index(min(performance_XG))+1]], y_train)\n",
    "\n",
    "y_pred_xg = XG.predict(X_test.loc[:,feature_importance_XG.index[:performance_XG.index(min(performance_XG))+1]])\n",
    "\n",
    "RMSLE_XG = rmsle(y_test, y_pred)\n",
    "RMSLE_XG"
   ]
  },
  {
   "cell_type": "markdown",
   "id": "e4d3be99",
   "metadata": {},
   "source": [
    "## Lasso"
   ]
  },
  {
   "cell_type": "markdown",
   "id": "e706a6a4",
   "metadata": {},
   "source": [
    "### Aqui é preciso normalizar as features para poder determinar suas importancias, devem estar na mesma escala\n",
    "#### Utilizar o MinMaxEscaler para poder definir uma escala padrão"
   ]
  },
  {
   "cell_type": "code",
   "execution_count": 77,
   "id": "5ed39a17",
   "metadata": {},
   "outputs": [],
   "source": [
    "from sklearn.preprocessing import MinMaxScaler\n",
    "\n",
    "# Criar o objeto scaler\n",
    "scaler = MinMaxScaler(feature_range=(-1,1))\n",
    "\n",
    "# Ajustar o scaler com os dados de treino\n",
    "scaler.fit(base_train.drop('SalePrice', axis=1))\n",
    "\n",
    "# Transformar os dados de treino\n",
    "base_train_norm = base_train.copy()\n",
    "base_train_norm[base_train.drop('SalePrice', axis=1).columns] = scaler.transform(base_train.drop('SalePrice', axis=1))\n",
    "\n",
    "# Transformar os dados de teste\n",
    "base_test_norm = base_test.copy()\n",
    "base_test_norm[base_test.columns] = scaler.transform(base_test)"
   ]
  },
  {
   "cell_type": "code",
   "execution_count": 78,
   "id": "e1d33635",
   "metadata": {},
   "outputs": [
    {
     "data": {
      "text/html": [
       "<div>\n",
       "<style scoped>\n",
       "    .dataframe tbody tr th:only-of-type {\n",
       "        vertical-align: middle;\n",
       "    }\n",
       "\n",
       "    .dataframe tbody tr th {\n",
       "        vertical-align: top;\n",
       "    }\n",
       "\n",
       "    .dataframe thead th {\n",
       "        text-align: right;\n",
       "    }\n",
       "</style>\n",
       "<table border=\"1\" class=\"dataframe\">\n",
       "  <thead>\n",
       "    <tr style=\"text-align: right;\">\n",
       "      <th></th>\n",
       "      <th>Id</th>\n",
       "      <th>MSSubClass</th>\n",
       "      <th>LotFrontage</th>\n",
       "      <th>LotArea</th>\n",
       "      <th>OverallQual</th>\n",
       "      <th>OverallCond</th>\n",
       "      <th>YearBuilt</th>\n",
       "      <th>YearRemodAdd</th>\n",
       "      <th>MasVnrArea</th>\n",
       "      <th>BsmtFinSF1</th>\n",
       "      <th>...</th>\n",
       "      <th>OpenPorchSF</th>\n",
       "      <th>EnclosedPorch</th>\n",
       "      <th>3SsnPorch</th>\n",
       "      <th>ScreenPorch</th>\n",
       "      <th>MiscVal</th>\n",
       "      <th>MoSold</th>\n",
       "      <th>YrSold</th>\n",
       "      <th>SalePrice</th>\n",
       "      <th>GarageArea/Car</th>\n",
       "      <th>AreaTotalBsmt</th>\n",
       "    </tr>\n",
       "  </thead>\n",
       "  <tbody>\n",
       "    <tr>\n",
       "      <th>count</th>\n",
       "      <td>1460.000000</td>\n",
       "      <td>1460.000000</td>\n",
       "      <td>1460.000000</td>\n",
       "      <td>1460.000000</td>\n",
       "      <td>1460.000000</td>\n",
       "      <td>1460.000000</td>\n",
       "      <td>1460.000000</td>\n",
       "      <td>1460.000000</td>\n",
       "      <td>1460.000000</td>\n",
       "      <td>1460.000000</td>\n",
       "      <td>...</td>\n",
       "      <td>1460.000000</td>\n",
       "      <td>1460.000000</td>\n",
       "      <td>1460.000000</td>\n",
       "      <td>1460.000000</td>\n",
       "      <td>1460.000000</td>\n",
       "      <td>1460.000000</td>\n",
       "      <td>1460.000000</td>\n",
       "      <td>1460.000000</td>\n",
       "      <td>1460.000000</td>\n",
       "      <td>1460.000000</td>\n",
       "    </tr>\n",
       "    <tr>\n",
       "      <th>mean</th>\n",
       "      <td>730.500000</td>\n",
       "      <td>56.897260</td>\n",
       "      <td>69.863699</td>\n",
       "      <td>10516.828082</td>\n",
       "      <td>6.099315</td>\n",
       "      <td>5.575342</td>\n",
       "      <td>1971.267808</td>\n",
       "      <td>1984.865753</td>\n",
       "      <td>103.117123</td>\n",
       "      <td>443.639726</td>\n",
       "      <td>...</td>\n",
       "      <td>46.660274</td>\n",
       "      <td>21.954110</td>\n",
       "      <td>3.409589</td>\n",
       "      <td>15.060959</td>\n",
       "      <td>43.489041</td>\n",
       "      <td>6.321918</td>\n",
       "      <td>2007.815753</td>\n",
       "      <td>180921.195890</td>\n",
       "      <td>976.719178</td>\n",
       "      <td>2220.056164</td>\n",
       "    </tr>\n",
       "    <tr>\n",
       "      <th>std</th>\n",
       "      <td>421.610009</td>\n",
       "      <td>42.300571</td>\n",
       "      <td>22.027677</td>\n",
       "      <td>9981.264932</td>\n",
       "      <td>1.382997</td>\n",
       "      <td>1.112799</td>\n",
       "      <td>30.202904</td>\n",
       "      <td>20.645407</td>\n",
       "      <td>180.731373</td>\n",
       "      <td>456.098091</td>\n",
       "      <td>...</td>\n",
       "      <td>66.256028</td>\n",
       "      <td>61.119149</td>\n",
       "      <td>29.317331</td>\n",
       "      <td>55.757415</td>\n",
       "      <td>496.123024</td>\n",
       "      <td>2.703626</td>\n",
       "      <td>1.328095</td>\n",
       "      <td>79442.502883</td>\n",
       "      <td>709.723243</td>\n",
       "      <td>787.333406</td>\n",
       "    </tr>\n",
       "    <tr>\n",
       "      <th>min</th>\n",
       "      <td>1.000000</td>\n",
       "      <td>20.000000</td>\n",
       "      <td>21.000000</td>\n",
       "      <td>1300.000000</td>\n",
       "      <td>1.000000</td>\n",
       "      <td>1.000000</td>\n",
       "      <td>1872.000000</td>\n",
       "      <td>1950.000000</td>\n",
       "      <td>0.000000</td>\n",
       "      <td>0.000000</td>\n",
       "      <td>...</td>\n",
       "      <td>0.000000</td>\n",
       "      <td>0.000000</td>\n",
       "      <td>0.000000</td>\n",
       "      <td>0.000000</td>\n",
       "      <td>0.000000</td>\n",
       "      <td>1.000000</td>\n",
       "      <td>2006.000000</td>\n",
       "      <td>34900.000000</td>\n",
       "      <td>0.000000</td>\n",
       "      <td>334.000000</td>\n",
       "    </tr>\n",
       "    <tr>\n",
       "      <th>25%</th>\n",
       "      <td>365.750000</td>\n",
       "      <td>20.000000</td>\n",
       "      <td>60.000000</td>\n",
       "      <td>7553.500000</td>\n",
       "      <td>5.000000</td>\n",
       "      <td>5.000000</td>\n",
       "      <td>1954.000000</td>\n",
       "      <td>1967.000000</td>\n",
       "      <td>0.000000</td>\n",
       "      <td>0.000000</td>\n",
       "      <td>...</td>\n",
       "      <td>0.000000</td>\n",
       "      <td>0.000000</td>\n",
       "      <td>0.000000</td>\n",
       "      <td>0.000000</td>\n",
       "      <td>0.000000</td>\n",
       "      <td>5.000000</td>\n",
       "      <td>2007.000000</td>\n",
       "      <td>129975.000000</td>\n",
       "      <td>336.000000</td>\n",
       "      <td>1696.000000</td>\n",
       "    </tr>\n",
       "    <tr>\n",
       "      <th>50%</th>\n",
       "      <td>730.500000</td>\n",
       "      <td>50.000000</td>\n",
       "      <td>69.000000</td>\n",
       "      <td>9478.500000</td>\n",
       "      <td>6.000000</td>\n",
       "      <td>5.000000</td>\n",
       "      <td>1973.000000</td>\n",
       "      <td>1994.000000</td>\n",
       "      <td>0.000000</td>\n",
       "      <td>383.500000</td>\n",
       "      <td>...</td>\n",
       "      <td>25.000000</td>\n",
       "      <td>0.000000</td>\n",
       "      <td>0.000000</td>\n",
       "      <td>0.000000</td>\n",
       "      <td>0.000000</td>\n",
       "      <td>6.000000</td>\n",
       "      <td>2008.000000</td>\n",
       "      <td>163000.000000</td>\n",
       "      <td>948.000000</td>\n",
       "      <td>2064.000000</td>\n",
       "    </tr>\n",
       "    <tr>\n",
       "      <th>75%</th>\n",
       "      <td>1095.250000</td>\n",
       "      <td>70.000000</td>\n",
       "      <td>79.000000</td>\n",
       "      <td>11601.500000</td>\n",
       "      <td>7.000000</td>\n",
       "      <td>6.000000</td>\n",
       "      <td>2000.000000</td>\n",
       "      <td>2004.000000</td>\n",
       "      <td>164.250000</td>\n",
       "      <td>712.250000</td>\n",
       "      <td>...</td>\n",
       "      <td>68.000000</td>\n",
       "      <td>0.000000</td>\n",
       "      <td>0.000000</td>\n",
       "      <td>0.000000</td>\n",
       "      <td>0.000000</td>\n",
       "      <td>8.000000</td>\n",
       "      <td>2009.000000</td>\n",
       "      <td>214000.000000</td>\n",
       "      <td>1152.000000</td>\n",
       "      <td>2661.000000</td>\n",
       "    </tr>\n",
       "    <tr>\n",
       "      <th>max</th>\n",
       "      <td>1460.000000</td>\n",
       "      <td>190.000000</td>\n",
       "      <td>313.000000</td>\n",
       "      <td>215245.000000</td>\n",
       "      <td>10.000000</td>\n",
       "      <td>9.000000</td>\n",
       "      <td>2010.000000</td>\n",
       "      <td>2010.000000</td>\n",
       "      <td>1600.000000</td>\n",
       "      <td>5644.000000</td>\n",
       "      <td>...</td>\n",
       "      <td>547.000000</td>\n",
       "      <td>552.000000</td>\n",
       "      <td>508.000000</td>\n",
       "      <td>480.000000</td>\n",
       "      <td>15500.000000</td>\n",
       "      <td>12.000000</td>\n",
       "      <td>2010.000000</td>\n",
       "      <td>755000.000000</td>\n",
       "      <td>5424.000000</td>\n",
       "      <td>10802.000000</td>\n",
       "    </tr>\n",
       "  </tbody>\n",
       "</table>\n",
       "<p>8 rows × 35 columns</p>\n",
       "</div>"
      ],
      "text/plain": [
       "                Id   MSSubClass  LotFrontage        LotArea  OverallQual  \\\n",
       "count  1460.000000  1460.000000  1460.000000    1460.000000  1460.000000   \n",
       "mean    730.500000    56.897260    69.863699   10516.828082     6.099315   \n",
       "std     421.610009    42.300571    22.027677    9981.264932     1.382997   \n",
       "min       1.000000    20.000000    21.000000    1300.000000     1.000000   \n",
       "25%     365.750000    20.000000    60.000000    7553.500000     5.000000   \n",
       "50%     730.500000    50.000000    69.000000    9478.500000     6.000000   \n",
       "75%    1095.250000    70.000000    79.000000   11601.500000     7.000000   \n",
       "max    1460.000000   190.000000   313.000000  215245.000000    10.000000   \n",
       "\n",
       "       OverallCond    YearBuilt  YearRemodAdd   MasVnrArea   BsmtFinSF1  ...  \\\n",
       "count  1460.000000  1460.000000   1460.000000  1460.000000  1460.000000  ...   \n",
       "mean      5.575342  1971.267808   1984.865753   103.117123   443.639726  ...   \n",
       "std       1.112799    30.202904     20.645407   180.731373   456.098091  ...   \n",
       "min       1.000000  1872.000000   1950.000000     0.000000     0.000000  ...   \n",
       "25%       5.000000  1954.000000   1967.000000     0.000000     0.000000  ...   \n",
       "50%       5.000000  1973.000000   1994.000000     0.000000   383.500000  ...   \n",
       "75%       6.000000  2000.000000   2004.000000   164.250000   712.250000  ...   \n",
       "max       9.000000  2010.000000   2010.000000  1600.000000  5644.000000  ...   \n",
       "\n",
       "       OpenPorchSF  EnclosedPorch    3SsnPorch  ScreenPorch       MiscVal  \\\n",
       "count  1460.000000    1460.000000  1460.000000  1460.000000   1460.000000   \n",
       "mean     46.660274      21.954110     3.409589    15.060959     43.489041   \n",
       "std      66.256028      61.119149    29.317331    55.757415    496.123024   \n",
       "min       0.000000       0.000000     0.000000     0.000000      0.000000   \n",
       "25%       0.000000       0.000000     0.000000     0.000000      0.000000   \n",
       "50%      25.000000       0.000000     0.000000     0.000000      0.000000   \n",
       "75%      68.000000       0.000000     0.000000     0.000000      0.000000   \n",
       "max     547.000000     552.000000   508.000000   480.000000  15500.000000   \n",
       "\n",
       "            MoSold       YrSold      SalePrice  GarageArea/Car  AreaTotalBsmt  \n",
       "count  1460.000000  1460.000000    1460.000000     1460.000000    1460.000000  \n",
       "mean      6.321918  2007.815753  180921.195890      976.719178    2220.056164  \n",
       "std       2.703626     1.328095   79442.502883      709.723243     787.333406  \n",
       "min       1.000000  2006.000000   34900.000000        0.000000     334.000000  \n",
       "25%       5.000000  2007.000000  129975.000000      336.000000    1696.000000  \n",
       "50%       6.000000  2008.000000  163000.000000      948.000000    2064.000000  \n",
       "75%       8.000000  2009.000000  214000.000000     1152.000000    2661.000000  \n",
       "max      12.000000  2010.000000  755000.000000     5424.000000   10802.000000  \n",
       "\n",
       "[8 rows x 35 columns]"
      ]
     },
     "execution_count": 78,
     "metadata": {},
     "output_type": "execute_result"
    }
   ],
   "source": [
    "base_train.describe()"
   ]
  },
  {
   "cell_type": "code",
   "execution_count": 79,
   "id": "5dcb7fe5",
   "metadata": {},
   "outputs": [
    {
     "data": {
      "text/html": [
       "<div>\n",
       "<style scoped>\n",
       "    .dataframe tbody tr th:only-of-type {\n",
       "        vertical-align: middle;\n",
       "    }\n",
       "\n",
       "    .dataframe tbody tr th {\n",
       "        vertical-align: top;\n",
       "    }\n",
       "\n",
       "    .dataframe thead th {\n",
       "        text-align: right;\n",
       "    }\n",
       "</style>\n",
       "<table border=\"1\" class=\"dataframe\">\n",
       "  <thead>\n",
       "    <tr style=\"text-align: right;\">\n",
       "      <th></th>\n",
       "      <th>Id</th>\n",
       "      <th>MSSubClass</th>\n",
       "      <th>LotFrontage</th>\n",
       "      <th>LotArea</th>\n",
       "      <th>OverallQual</th>\n",
       "      <th>OverallCond</th>\n",
       "      <th>YearBuilt</th>\n",
       "      <th>YearRemodAdd</th>\n",
       "      <th>MasVnrArea</th>\n",
       "      <th>BsmtFinSF1</th>\n",
       "      <th>...</th>\n",
       "      <th>OpenPorchSF</th>\n",
       "      <th>EnclosedPorch</th>\n",
       "      <th>3SsnPorch</th>\n",
       "      <th>ScreenPorch</th>\n",
       "      <th>MiscVal</th>\n",
       "      <th>MoSold</th>\n",
       "      <th>YrSold</th>\n",
       "      <th>SalePrice</th>\n",
       "      <th>GarageArea/Car</th>\n",
       "      <th>AreaTotalBsmt</th>\n",
       "    </tr>\n",
       "  </thead>\n",
       "  <tbody>\n",
       "    <tr>\n",
       "      <th>count</th>\n",
       "      <td>1460.000000</td>\n",
       "      <td>1460.000000</td>\n",
       "      <td>1460.000000</td>\n",
       "      <td>1460.000000</td>\n",
       "      <td>1460.000000</td>\n",
       "      <td>1460.000000</td>\n",
       "      <td>1460.000000</td>\n",
       "      <td>1460.000000</td>\n",
       "      <td>1460.000000</td>\n",
       "      <td>1460.000000</td>\n",
       "      <td>...</td>\n",
       "      <td>1460.000000</td>\n",
       "      <td>1460.000000</td>\n",
       "      <td>1460.000000</td>\n",
       "      <td>1460.000000</td>\n",
       "      <td>1460.000000</td>\n",
       "      <td>1460.000000</td>\n",
       "      <td>1460.000000</td>\n",
       "      <td>1460.000000</td>\n",
       "      <td>1460.000000</td>\n",
       "      <td>1460.000000</td>\n",
       "    </tr>\n",
       "    <tr>\n",
       "      <th>mean</th>\n",
       "      <td>0.000000</td>\n",
       "      <td>-0.565915</td>\n",
       "      <td>-0.665317</td>\n",
       "      <td>-0.913839</td>\n",
       "      <td>0.133181</td>\n",
       "      <td>0.143836</td>\n",
       "      <td>0.438664</td>\n",
       "      <td>0.162192</td>\n",
       "      <td>-0.871104</td>\n",
       "      <td>-0.842792</td>\n",
       "      <td>...</td>\n",
       "      <td>-0.829396</td>\n",
       "      <td>-0.920456</td>\n",
       "      <td>-0.986576</td>\n",
       "      <td>-0.937246</td>\n",
       "      <td>-0.994389</td>\n",
       "      <td>-0.032379</td>\n",
       "      <td>-0.092123</td>\n",
       "      <td>180921.195890</td>\n",
       "      <td>-0.639853</td>\n",
       "      <td>-0.639653</td>\n",
       "    </tr>\n",
       "    <tr>\n",
       "      <th>std</th>\n",
       "      <td>0.577944</td>\n",
       "      <td>0.497654</td>\n",
       "      <td>0.150875</td>\n",
       "      <td>0.093307</td>\n",
       "      <td>0.307333</td>\n",
       "      <td>0.278200</td>\n",
       "      <td>0.437723</td>\n",
       "      <td>0.688180</td>\n",
       "      <td>0.225914</td>\n",
       "      <td>0.161622</td>\n",
       "      <td>...</td>\n",
       "      <td>0.242252</td>\n",
       "      <td>0.221446</td>\n",
       "      <td>0.115423</td>\n",
       "      <td>0.232323</td>\n",
       "      <td>0.064016</td>\n",
       "      <td>0.491568</td>\n",
       "      <td>0.664048</td>\n",
       "      <td>79442.502883</td>\n",
       "      <td>0.261697</td>\n",
       "      <td>0.150427</td>\n",
       "    </tr>\n",
       "    <tr>\n",
       "      <th>min</th>\n",
       "      <td>-1.000000</td>\n",
       "      <td>-1.000000</td>\n",
       "      <td>-1.000000</td>\n",
       "      <td>-1.000000</td>\n",
       "      <td>-1.000000</td>\n",
       "      <td>-1.000000</td>\n",
       "      <td>-1.000000</td>\n",
       "      <td>-1.000000</td>\n",
       "      <td>-1.000000</td>\n",
       "      <td>-1.000000</td>\n",
       "      <td>...</td>\n",
       "      <td>-1.000000</td>\n",
       "      <td>-1.000000</td>\n",
       "      <td>-1.000000</td>\n",
       "      <td>-1.000000</td>\n",
       "      <td>-1.000000</td>\n",
       "      <td>-1.000000</td>\n",
       "      <td>-1.000000</td>\n",
       "      <td>34900.000000</td>\n",
       "      <td>-1.000000</td>\n",
       "      <td>-1.000000</td>\n",
       "    </tr>\n",
       "    <tr>\n",
       "      <th>25%</th>\n",
       "      <td>-0.500000</td>\n",
       "      <td>-1.000000</td>\n",
       "      <td>-0.732877</td>\n",
       "      <td>-0.941541</td>\n",
       "      <td>-0.111111</td>\n",
       "      <td>0.000000</td>\n",
       "      <td>0.188406</td>\n",
       "      <td>-0.433333</td>\n",
       "      <td>-1.000000</td>\n",
       "      <td>-1.000000</td>\n",
       "      <td>...</td>\n",
       "      <td>-1.000000</td>\n",
       "      <td>-1.000000</td>\n",
       "      <td>-1.000000</td>\n",
       "      <td>-1.000000</td>\n",
       "      <td>-1.000000</td>\n",
       "      <td>-0.272727</td>\n",
       "      <td>-0.500000</td>\n",
       "      <td>129975.000000</td>\n",
       "      <td>-0.876106</td>\n",
       "      <td>-0.739778</td>\n",
       "    </tr>\n",
       "    <tr>\n",
       "      <th>50%</th>\n",
       "      <td>0.000000</td>\n",
       "      <td>-0.647059</td>\n",
       "      <td>-0.671233</td>\n",
       "      <td>-0.923546</td>\n",
       "      <td>0.111111</td>\n",
       "      <td>0.000000</td>\n",
       "      <td>0.463768</td>\n",
       "      <td>0.466667</td>\n",
       "      <td>-1.000000</td>\n",
       "      <td>-0.864103</td>\n",
       "      <td>...</td>\n",
       "      <td>-0.908592</td>\n",
       "      <td>-1.000000</td>\n",
       "      <td>-1.000000</td>\n",
       "      <td>-1.000000</td>\n",
       "      <td>-1.000000</td>\n",
       "      <td>-0.090909</td>\n",
       "      <td>0.000000</td>\n",
       "      <td>163000.000000</td>\n",
       "      <td>-0.650442</td>\n",
       "      <td>-0.669469</td>\n",
       "    </tr>\n",
       "    <tr>\n",
       "      <th>75%</th>\n",
       "      <td>0.500000</td>\n",
       "      <td>-0.411765</td>\n",
       "      <td>-0.602740</td>\n",
       "      <td>-0.903700</td>\n",
       "      <td>0.333333</td>\n",
       "      <td>0.250000</td>\n",
       "      <td>0.855072</td>\n",
       "      <td>0.800000</td>\n",
       "      <td>-0.794687</td>\n",
       "      <td>-0.747608</td>\n",
       "      <td>...</td>\n",
       "      <td>-0.751371</td>\n",
       "      <td>-1.000000</td>\n",
       "      <td>-1.000000</td>\n",
       "      <td>-1.000000</td>\n",
       "      <td>-1.000000</td>\n",
       "      <td>0.272727</td>\n",
       "      <td>0.500000</td>\n",
       "      <td>214000.000000</td>\n",
       "      <td>-0.575221</td>\n",
       "      <td>-0.555407</td>\n",
       "    </tr>\n",
       "    <tr>\n",
       "      <th>max</th>\n",
       "      <td>1.000000</td>\n",
       "      <td>1.000000</td>\n",
       "      <td>1.000000</td>\n",
       "      <td>1.000000</td>\n",
       "      <td>1.000000</td>\n",
       "      <td>1.000000</td>\n",
       "      <td>1.000000</td>\n",
       "      <td>1.000000</td>\n",
       "      <td>1.000000</td>\n",
       "      <td>1.000000</td>\n",
       "      <td>...</td>\n",
       "      <td>1.000000</td>\n",
       "      <td>1.000000</td>\n",
       "      <td>1.000000</td>\n",
       "      <td>1.000000</td>\n",
       "      <td>1.000000</td>\n",
       "      <td>1.000000</td>\n",
       "      <td>1.000000</td>\n",
       "      <td>755000.000000</td>\n",
       "      <td>1.000000</td>\n",
       "      <td>1.000000</td>\n",
       "    </tr>\n",
       "  </tbody>\n",
       "</table>\n",
       "<p>8 rows × 35 columns</p>\n",
       "</div>"
      ],
      "text/plain": [
       "                Id   MSSubClass  LotFrontage      LotArea  OverallQual  \\\n",
       "count  1460.000000  1460.000000  1460.000000  1460.000000  1460.000000   \n",
       "mean      0.000000    -0.565915    -0.665317    -0.913839     0.133181   \n",
       "std       0.577944     0.497654     0.150875     0.093307     0.307333   \n",
       "min      -1.000000    -1.000000    -1.000000    -1.000000    -1.000000   \n",
       "25%      -0.500000    -1.000000    -0.732877    -0.941541    -0.111111   \n",
       "50%       0.000000    -0.647059    -0.671233    -0.923546     0.111111   \n",
       "75%       0.500000    -0.411765    -0.602740    -0.903700     0.333333   \n",
       "max       1.000000     1.000000     1.000000     1.000000     1.000000   \n",
       "\n",
       "       OverallCond    YearBuilt  YearRemodAdd   MasVnrArea   BsmtFinSF1  ...  \\\n",
       "count  1460.000000  1460.000000   1460.000000  1460.000000  1460.000000  ...   \n",
       "mean      0.143836     0.438664      0.162192    -0.871104    -0.842792  ...   \n",
       "std       0.278200     0.437723      0.688180     0.225914     0.161622  ...   \n",
       "min      -1.000000    -1.000000     -1.000000    -1.000000    -1.000000  ...   \n",
       "25%       0.000000     0.188406     -0.433333    -1.000000    -1.000000  ...   \n",
       "50%       0.000000     0.463768      0.466667    -1.000000    -0.864103  ...   \n",
       "75%       0.250000     0.855072      0.800000    -0.794687    -0.747608  ...   \n",
       "max       1.000000     1.000000      1.000000     1.000000     1.000000  ...   \n",
       "\n",
       "       OpenPorchSF  EnclosedPorch    3SsnPorch  ScreenPorch      MiscVal  \\\n",
       "count  1460.000000    1460.000000  1460.000000  1460.000000  1460.000000   \n",
       "mean     -0.829396      -0.920456    -0.986576    -0.937246    -0.994389   \n",
       "std       0.242252       0.221446     0.115423     0.232323     0.064016   \n",
       "min      -1.000000      -1.000000    -1.000000    -1.000000    -1.000000   \n",
       "25%      -1.000000      -1.000000    -1.000000    -1.000000    -1.000000   \n",
       "50%      -0.908592      -1.000000    -1.000000    -1.000000    -1.000000   \n",
       "75%      -0.751371      -1.000000    -1.000000    -1.000000    -1.000000   \n",
       "max       1.000000       1.000000     1.000000     1.000000     1.000000   \n",
       "\n",
       "            MoSold       YrSold      SalePrice  GarageArea/Car  AreaTotalBsmt  \n",
       "count  1460.000000  1460.000000    1460.000000     1460.000000    1460.000000  \n",
       "mean     -0.032379    -0.092123  180921.195890       -0.639853      -0.639653  \n",
       "std       0.491568     0.664048   79442.502883        0.261697       0.150427  \n",
       "min      -1.000000    -1.000000   34900.000000       -1.000000      -1.000000  \n",
       "25%      -0.272727    -0.500000  129975.000000       -0.876106      -0.739778  \n",
       "50%      -0.090909     0.000000  163000.000000       -0.650442      -0.669469  \n",
       "75%       0.272727     0.500000  214000.000000       -0.575221      -0.555407  \n",
       "max       1.000000     1.000000  755000.000000        1.000000       1.000000  \n",
       "\n",
       "[8 rows x 35 columns]"
      ]
     },
     "execution_count": 79,
     "metadata": {},
     "output_type": "execute_result"
    }
   ],
   "source": [
    "base_train_norm.describe()"
   ]
  },
  {
   "cell_type": "code",
   "execution_count": 80,
   "id": "829a8b15",
   "metadata": {},
   "outputs": [],
   "source": [
    "# Separar base normalizada em teste e treino\n",
    "X_norm = base_train_norm.drop('SalePrice',axis=1)\n",
    "X_train_norm , X_test_norm, y_train_norm, y_test_norm = train_test_split(X_norm, y, test_size=0.33, random_state=42)"
   ]
  },
  {
   "cell_type": "code",
   "execution_count": 81,
   "id": "6f0df23e",
   "metadata": {},
   "outputs": [
    {
     "name": "stdout",
     "output_type": "stream",
     "text": [
      "Importância das Features:\n",
      "GrLivArea         84929.020458\n",
      "OverallQual       81183.606712\n",
      "GarageArea/Car    58601.834213\n",
      "LotArea           51564.817488\n",
      "TotRmsAbvGrd      43383.634394\n",
      "ScreenPorch       20443.510306\n",
      "YearBuilt         19966.497148\n",
      "BsmtFullBath      17865.970361\n",
      "BsmtFinSF1        17672.346421\n",
      "MasVnrArea        15760.735204\n",
      "3SsnPorch         14842.666349\n",
      "OverallCond       13911.178366\n",
      "FullBath          10455.632088\n",
      "WoodDeckSF        10236.380383\n",
      "Fireplaces         9737.753072\n",
      "YearRemodAdd       5627.353974\n",
      "LowQualFinSF       3028.225666\n",
      "HalfBath           2637.544214\n",
      "EnclosedPorch      1668.059156\n",
      "YrSold              461.192773\n",
      "MoSold              460.639499\n",
      "AreaTotalBsmt         0.000000\n",
      "BsmtFinSF2         -247.941059\n",
      "BsmtHalfBath       -767.961587\n",
      "BsmtUnfSF         -2036.820301\n",
      "Id                -2657.290493\n",
      "2ndFlrSF          -4811.473988\n",
      "GarageYrBlt       -5325.103962\n",
      "OpenPorchSF       -5775.822622\n",
      "MSSubClass       -17645.477169\n",
      "KitchenAbvGr     -19159.031498\n",
      "MiscVal          -19497.620697\n",
      "LotFrontage      -30907.547381\n",
      "BedroomAbvGr     -35207.389891\n",
      "dtype: float64\n"
     ]
    }
   ],
   "source": [
    "from sklearn.linear_model import Lasso\n",
    "\n",
    "# Treinar o modelo Lasso\n",
    "L = Lasso(alpha=0.1, random_state=random_state,max_iter=10000)\n",
    "L.fit(X_train_norm, y_train_norm)\n",
    "\n",
    "# Obter os coeficientes do modelo\n",
    "feature_importance_L = pd.Series(L.coef_, index=X_norm.columns)\n",
    "feature_importance_L = feature_importance_L.sort_values(ascending=False)\n",
    "# Exibir a importância das features\n",
    "print(\"Importância das Features:\")\n",
    "print(feature_importance_L)"
   ]
  },
  {
   "cell_type": "markdown",
   "id": "9e54d3cb",
   "metadata": {},
   "source": [
    "### Utilizar o modelo em ordem crescente de features com a maior importancia e observar melhor desempenho"
   ]
  },
  {
   "cell_type": "code",
   "execution_count": 100,
   "id": "111f6556",
   "metadata": {},
   "outputs": [
    {
     "name": "stderr",
     "output_type": "stream",
     "text": [
      "C:\\Users\\José Vitor\\AppData\\Local\\Temp\\ipykernel_7004\\280771610.py:7: RuntimeWarning: invalid value encountered in log1p\n",
      "  return np.sqrt(np.mean(np.power(np.log1p(y_pred) - np.log1p(y_true), 2)))\n",
      "C:\\Users\\José Vitor\\AppData\\Local\\Temp\\ipykernel_7004\\280771610.py:7: RuntimeWarning: invalid value encountered in log1p\n",
      "  return np.sqrt(np.mean(np.power(np.log1p(y_pred) - np.log1p(y_true), 2)))\n",
      "C:\\Users\\José Vitor\\AppData\\Local\\Temp\\ipykernel_7004\\280771610.py:7: RuntimeWarning: invalid value encountered in log1p\n",
      "  return np.sqrt(np.mean(np.power(np.log1p(y_pred) - np.log1p(y_true), 2)))\n",
      "C:\\Users\\José Vitor\\AppData\\Local\\Temp\\ipykernel_7004\\280771610.py:7: RuntimeWarning: invalid value encountered in log1p\n",
      "  return np.sqrt(np.mean(np.power(np.log1p(y_pred) - np.log1p(y_true), 2)))\n"
     ]
    },
    {
     "data": {
      "text/plain": [
       "[0.2735080759312324,\n",
       " 0.23262458199602187,\n",
       " 0.21914536372932922,\n",
       " 0.21773267303358962,\n",
       " 0.2183270823181626,\n",
       " 0.22124690090293786,\n",
       " 0.2034360715730782,\n",
       " 0.20383794868094599,\n",
       " 0.2043562176985046,\n",
       " 0.20058032256403277,\n",
       " 0.20166223189088445,\n",
       " 0.1832892247591224,\n",
       " 0.18358069404810784,\n",
       " 0.1841755043914054,\n",
       " 0.20159690631246663,\n",
       " 0.19557741791708302,\n",
       " 0.1959387097037798,\n",
       " 0.1952263342639725,\n",
       " 0.19568206297859966,\n",
       " 0.1958174890339149,\n",
       " 0.19548550416467675,\n",
       " 0.19509273358569962,\n",
       " 0.1951605679039611,\n",
       " 0.1950454076936282,\n",
       " 0.19580439544973052,\n",
       " 0.19573255038055937,\n",
       " 0.19573403458651456,\n",
       " 0.1903868644882559,\n",
       " 0.19038181785274133,\n",
       " 0.18179248515008092,\n",
       " 0.18272177919405075,\n",
       " 0.18267878278608254,\n",
       " 0.18460323104135934,\n",
       " 0.1760678524357901]"
      ]
     },
     "execution_count": 100,
     "metadata": {},
     "output_type": "execute_result"
    }
   ],
   "source": [
    "performance_L = []\n",
    "\n",
    "# Observar quantidade ideal de dimenssão neste modelo (maldição da dimensionalidade)\n",
    "\n",
    "for i in range(1, len(X_train_norm.columns)+1):  \n",
    "    X_train_selected = X_train_norm.loc[:,feature_importance_L.index[:i]]\n",
    "    X_test_selected = X_test_norm.loc[:,feature_importance_L.index[:i]]\n",
    "    \n",
    "    L = Lasso(alpha=0.1, random_state=random_state,max_iter=100000)\n",
    "    L.fit(X_train_selected, y_train_norm)\n",
    "    \n",
    "    y_pred_L = L.predict(X_test_selected)\n",
    "    \n",
    "    performance_L.append(rmsle(y_test, y_pred_L))\n",
    "\n",
    "performance_L"
   ]
  },
  {
   "cell_type": "markdown",
   "id": "ac406bd9",
   "metadata": {},
   "source": [
    "### RMSLE em função da quantidade de features"
   ]
  },
  {
   "cell_type": "code",
   "execution_count": 101,
   "id": "02b46398",
   "metadata": {},
   "outputs": [
    {
     "data": {
      "text/plain": [
       "<Figure size 2400x1600 with 0 Axes>"
      ]
     },
     "metadata": {},
     "output_type": "display_data"
    },
    {
     "data": {
      "image/png": "[encoded data removed]",
      "text/plain": [
       "<Figure size 640x480 with 1 Axes>"
      ]
     },
     "metadata": {},
     "output_type": "display_data"
    }
   ],
   "source": [
    "import matplotlib.pyplot as plt\n",
    "import numpy as np\n",
    "\n",
    "plt.figure(figsize=(24, 16))\n",
    "# plot\n",
    "fig, ax = plt.subplots()\n",
    "\n",
    "ax.plot(range(len(performance_L)), performance_L, linewidth=2.0, marker='o')\n",
    "\n",
    "ax.set_title('Performance do Lasso', fontsize=18)\n",
    "ax.set_xlabel('Número de Features', fontsize=10)\n",
    "ax.set_ylabel('Erro (RMSLE)', fontsize=10)\n",
    "\n",
    "plt.show()"
   ]
  },
  {
   "cell_type": "code",
   "execution_count": 102,
   "id": "7bef9292",
   "metadata": {},
   "outputs": [
    {
     "data": {
      "text/plain": [
       "33"
      ]
     },
     "execution_count": 102,
     "metadata": {},
     "output_type": "execute_result"
    }
   ],
   "source": [
    "# Valore ideal de features\n",
    "performance_L.index(min(performance_L))"
   ]
  },
  {
   "cell_type": "code",
   "execution_count": 104,
   "id": "3e1fabd6",
   "metadata": {},
   "outputs": [
    {
     "data": {
      "text/plain": [
       "0.1760678524357901"
      ]
     },
     "execution_count": 104,
     "metadata": {},
     "output_type": "execute_result"
    }
   ],
   "source": [
    "# Treinando com a quantidade ideal de features\n",
    "L = Lasso(alpha=0.1, random_state=random_state,max_iter=100000)\n",
    "L.fit(X_train_norm.loc[:,feature_importance_L.index[:performance_L.index(min(performance_L))+1]], y_train_norm)\n",
    "\n",
    "y_pred_l = L.predict(X_test_norm.loc[:,feature_importance_L.index[:performance_L.index(min(performance_L))+1]])\n",
    "\n",
    "RMSLE_L = rmsle(y_test, y_pred_l)\n",
    "RMSLE_L"
   ]
  },
  {
   "cell_type": "markdown",
   "id": "fdd63bff",
   "metadata": {},
   "source": [
    "- **Resumo do melhor desempenho de cada modelo:**    "
   ]
  },
  {
   "cell_type": "code",
   "execution_count": 105,
   "id": "269a3bcd",
   "metadata": {},
   "outputs": [
    {
     "name": "stdout",
     "output_type": "stream",
     "text": [
      "Melhores RMSLE\n",
      "Gradiente Boosting: 0.1435236196794134\n",
      "XGBoosting: 0.1545771388039607\n",
      "Lasso: 0.1760678524357901\n"
     ]
    }
   ],
   "source": [
    "# Importando o erro médio absoluto\n",
    "print(\"Melhores RMSLE\")\n",
    "print(\"Gradiente Boosting: {}\".format(RMSLE_GB))\n",
    "print(\"XGBoosting: {}\".format(RMSLE_XG))\n",
    "print(\"Lasso: {}\".format(RMSLE_L))"
   ]
  },
  {
   "cell_type": "markdown",
   "id": "162028e9",
   "metadata": {},
   "source": [
    "- **Podemos plotar visualmente a relação do y_test com as previsões feitas**\n",
    "    - Predições perfeitas seriam se or pontos estivessem exatamente sobre a reta (y=x)\n",
    "    - O Gráfico permite observar também a faixa de preços em que o modelo mais acerta e mais erra\n",
    "    - Preços acima de 500.000 apresentaram dificuldade de predição em todos modelos\n",
    "    - O motivo disso é que estamos priorizando o RMSLE, e essa métrica penalisa valores muito distantes\n",
    "    - Podemos ajustar essa característica em função do negócio\n",
    "- Para isso vamos utilizar o matplotlib\n",
    " - https://matplotlib.org/"
   ]
  },
  {
   "cell_type": "code",
   "execution_count": 87,
   "id": "7e5f78f8",
   "metadata": {},
   "outputs": [],
   "source": [
    "# Importando o matplotlib\n",
    "import matplotlib.pyplot as plt"
   ]
  },
  {
   "cell_type": "code",
   "execution_count": 88,
   "id": "a6bf59eb",
   "metadata": {},
   "outputs": [
    {
     "data": {
      "image/png": "[encoded data removed]",
      "text/plain": [
       "<Figure size 1500x500 with 3 Axes>"
      ]
     },
     "metadata": {},
     "output_type": "display_data"
    }
   ],
   "source": [
    "# Criando esse gráfico\n",
    "fig, ax = plt.subplots(ncols=3,figsize=(15,5))\n",
    "\n",
    "ax[0].scatter(y_test/100000, y_pred_gb/100000)\n",
    "ax[0].plot([0,8],[0,8],'--r')\n",
    "ax[1].scatter(y_test/100000, y_pred_xg/100000)\n",
    "ax[1].plot([0,8],[0,8],'--r')\n",
    "ax[2].scatter(y_test/100000, y_pred_l/100000)\n",
    "ax[2].plot([0,8],[0,8],'--r')\n",
    "\n",
    "ax[0].set(xlim=(0, 8),ylim=(0, 8))\n",
    "ax[0].set_xlabel('y_test (x100.000)')\n",
    "ax[0].set_ylabel('y_pred (x100.000)')\n",
    "ax[0].set_title('Gradiente Boosting')\n",
    "ax[1].set(xlim=(0, 8),ylim=(0, 8))\n",
    "ax[1].set_xlabel('y_test (x100.000)')\n",
    "ax[1].set_ylabel('y_pred (x100.000)')\n",
    "ax[1].set_title('XGBoosting')\n",
    "ax[2].set(xlim=(0, 8),ylim=(0, 8))\n",
    "ax[2].set_xlabel('y_test (x100.000)')\n",
    "ax[2].set_ylabel('y_pred (x100.000)')\n",
    "ax[2].set_title('Lasso')\n",
    "\n",
    "plt.show()"
   ]
  },
  {
   "cell_type": "markdown",
   "id": "d855508c",
   "metadata": {},
   "source": [
    "## Fazendo a previsão para a base de teste da competição\n",
    "- Considerando o melhor modelo para realizar a predição\n",
    "- Realizar seleção de features de acordo com o obtido para o modelo em questão"
   ]
  },
  {
   "cell_type": "code",
   "execution_count": 89,
   "id": "13f15487",
   "metadata": {},
   "outputs": [],
   "source": [
    "colunas_gb = (X_test.loc[:,feature_importance_GB.index[:performance_GB.index(min(performance_GB))+1]]).columns"
   ]
  },
  {
   "cell_type": "code",
   "execution_count": 90,
   "id": "83a9ca6f",
   "metadata": {},
   "outputs": [
    {
     "data": {
      "text/html": [
       "<div>\n",
       "<style scoped>\n",
       "    .dataframe tbody tr th:only-of-type {\n",
       "        vertical-align: middle;\n",
       "    }\n",
       "\n",
       "    .dataframe tbody tr th {\n",
       "        vertical-align: top;\n",
       "    }\n",
       "\n",
       "    .dataframe thead th {\n",
       "        text-align: right;\n",
       "    }\n",
       "</style>\n",
       "<table border=\"1\" class=\"dataframe\">\n",
       "  <thead>\n",
       "    <tr style=\"text-align: right;\">\n",
       "      <th></th>\n",
       "      <th>Id</th>\n",
       "      <th>MSSubClass</th>\n",
       "      <th>LotFrontage</th>\n",
       "      <th>LotArea</th>\n",
       "      <th>OverallQual</th>\n",
       "      <th>OverallCond</th>\n",
       "      <th>YearBuilt</th>\n",
       "      <th>YearRemodAdd</th>\n",
       "      <th>MasVnrArea</th>\n",
       "      <th>BsmtFinSF1</th>\n",
       "      <th>...</th>\n",
       "      <th>WoodDeckSF</th>\n",
       "      <th>OpenPorchSF</th>\n",
       "      <th>EnclosedPorch</th>\n",
       "      <th>3SsnPorch</th>\n",
       "      <th>ScreenPorch</th>\n",
       "      <th>MiscVal</th>\n",
       "      <th>MoSold</th>\n",
       "      <th>YrSold</th>\n",
       "      <th>GarageArea/Car</th>\n",
       "      <th>AreaTotalBsmt</th>\n",
       "    </tr>\n",
       "  </thead>\n",
       "  <tbody>\n",
       "    <tr>\n",
       "      <th>0</th>\n",
       "      <td>1461</td>\n",
       "      <td>20</td>\n",
       "      <td>80.0</td>\n",
       "      <td>11622</td>\n",
       "      <td>5</td>\n",
       "      <td>6</td>\n",
       "      <td>1961</td>\n",
       "      <td>1961</td>\n",
       "      <td>0.0</td>\n",
       "      <td>468.0</td>\n",
       "      <td>...</td>\n",
       "      <td>140</td>\n",
       "      <td>0</td>\n",
       "      <td>0</td>\n",
       "      <td>0</td>\n",
       "      <td>120</td>\n",
       "      <td>0</td>\n",
       "      <td>6</td>\n",
       "      <td>2010</td>\n",
       "      <td>730.0</td>\n",
       "      <td>1778.0</td>\n",
       "    </tr>\n",
       "    <tr>\n",
       "      <th>1</th>\n",
       "      <td>1462</td>\n",
       "      <td>20</td>\n",
       "      <td>81.0</td>\n",
       "      <td>14267</td>\n",
       "      <td>6</td>\n",
       "      <td>6</td>\n",
       "      <td>1958</td>\n",
       "      <td>1958</td>\n",
       "      <td>108.0</td>\n",
       "      <td>923.0</td>\n",
       "      <td>...</td>\n",
       "      <td>393</td>\n",
       "      <td>36</td>\n",
       "      <td>0</td>\n",
       "      <td>0</td>\n",
       "      <td>0</td>\n",
       "      <td>12500</td>\n",
       "      <td>6</td>\n",
       "      <td>2010</td>\n",
       "      <td>312.0</td>\n",
       "      <td>2658.0</td>\n",
       "    </tr>\n",
       "    <tr>\n",
       "      <th>2</th>\n",
       "      <td>1463</td>\n",
       "      <td>60</td>\n",
       "      <td>74.0</td>\n",
       "      <td>13830</td>\n",
       "      <td>5</td>\n",
       "      <td>5</td>\n",
       "      <td>1997</td>\n",
       "      <td>1998</td>\n",
       "      <td>0.0</td>\n",
       "      <td>791.0</td>\n",
       "      <td>...</td>\n",
       "      <td>212</td>\n",
       "      <td>34</td>\n",
       "      <td>0</td>\n",
       "      <td>0</td>\n",
       "      <td>0</td>\n",
       "      <td>0</td>\n",
       "      <td>3</td>\n",
       "      <td>2010</td>\n",
       "      <td>964.0</td>\n",
       "      <td>1856.0</td>\n",
       "    </tr>\n",
       "    <tr>\n",
       "      <th>3</th>\n",
       "      <td>1464</td>\n",
       "      <td>60</td>\n",
       "      <td>78.0</td>\n",
       "      <td>9978</td>\n",
       "      <td>6</td>\n",
       "      <td>6</td>\n",
       "      <td>1998</td>\n",
       "      <td>1998</td>\n",
       "      <td>20.0</td>\n",
       "      <td>602.0</td>\n",
       "      <td>...</td>\n",
       "      <td>360</td>\n",
       "      <td>36</td>\n",
       "      <td>0</td>\n",
       "      <td>0</td>\n",
       "      <td>0</td>\n",
       "      <td>0</td>\n",
       "      <td>6</td>\n",
       "      <td>2010</td>\n",
       "      <td>940.0</td>\n",
       "      <td>1852.0</td>\n",
       "    </tr>\n",
       "    <tr>\n",
       "      <th>4</th>\n",
       "      <td>1465</td>\n",
       "      <td>120</td>\n",
       "      <td>43.0</td>\n",
       "      <td>5005</td>\n",
       "      <td>8</td>\n",
       "      <td>5</td>\n",
       "      <td>1992</td>\n",
       "      <td>1992</td>\n",
       "      <td>0.0</td>\n",
       "      <td>263.0</td>\n",
       "      <td>...</td>\n",
       "      <td>0</td>\n",
       "      <td>82</td>\n",
       "      <td>0</td>\n",
       "      <td>0</td>\n",
       "      <td>144</td>\n",
       "      <td>0</td>\n",
       "      <td>1</td>\n",
       "      <td>2010</td>\n",
       "      <td>1012.0</td>\n",
       "      <td>2560.0</td>\n",
       "    </tr>\n",
       "  </tbody>\n",
       "</table>\n",
       "<p>5 rows × 34 columns</p>\n",
       "</div>"
      ],
      "text/plain": [
       "     Id  MSSubClass  LotFrontage  LotArea  OverallQual  OverallCond  \\\n",
       "0  1461          20         80.0    11622            5            6   \n",
       "1  1462          20         81.0    14267            6            6   \n",
       "2  1463          60         74.0    13830            5            5   \n",
       "3  1464          60         78.0     9978            6            6   \n",
       "4  1465         120         43.0     5005            8            5   \n",
       "\n",
       "   YearBuilt  YearRemodAdd  MasVnrArea  BsmtFinSF1  ...  WoodDeckSF  \\\n",
       "0       1961          1961         0.0       468.0  ...         140   \n",
       "1       1958          1958       108.0       923.0  ...         393   \n",
       "2       1997          1998         0.0       791.0  ...         212   \n",
       "3       1998          1998        20.0       602.0  ...         360   \n",
       "4       1992          1992         0.0       263.0  ...           0   \n",
       "\n",
       "   OpenPorchSF  EnclosedPorch  3SsnPorch  ScreenPorch  MiscVal  MoSold  \\\n",
       "0            0              0          0          120        0       6   \n",
       "1           36              0          0            0    12500       6   \n",
       "2           34              0          0            0        0       3   \n",
       "3           36              0          0            0        0       6   \n",
       "4           82              0          0          144        0       1   \n",
       "\n",
       "   YrSold  GarageArea/Car  AreaTotalBsmt  \n",
       "0    2010           730.0         1778.0  \n",
       "1    2010           312.0         2658.0  \n",
       "2    2010           964.0         1856.0  \n",
       "3    2010           940.0         1852.0  \n",
       "4    2010          1012.0         2560.0  \n",
       "\n",
       "[5 rows x 34 columns]"
      ]
     },
     "execution_count": 90,
     "metadata": {},
     "output_type": "execute_result"
    }
   ],
   "source": [
    "# Visualizando a base com todas features\n",
    "base_test.head()"
   ]
  },
  {
   "cell_type": "code",
   "execution_count": 91,
   "id": "cfce9334",
   "metadata": {},
   "outputs": [],
   "source": [
    "# Utilizar as mesmas colunas na base de teste\n",
    "base_test = base_test[colunas_gb]"
   ]
  },
  {
   "cell_type": "code",
   "execution_count": 92,
   "id": "eb322627",
   "metadata": {},
   "outputs": [
    {
     "data": {
      "text/html": [
       "<div>\n",
       "<style scoped>\n",
       "    .dataframe tbody tr th:only-of-type {\n",
       "        vertical-align: middle;\n",
       "    }\n",
       "\n",
       "    .dataframe tbody tr th {\n",
       "        vertical-align: top;\n",
       "    }\n",
       "\n",
       "    .dataframe thead th {\n",
       "        text-align: right;\n",
       "    }\n",
       "</style>\n",
       "<table border=\"1\" class=\"dataframe\">\n",
       "  <thead>\n",
       "    <tr style=\"text-align: right;\">\n",
       "      <th></th>\n",
       "      <th>OverallQual</th>\n",
       "      <th>GrLivArea</th>\n",
       "      <th>AreaTotalBsmt</th>\n",
       "      <th>GarageArea/Car</th>\n",
       "      <th>BsmtFinSF1</th>\n",
       "      <th>YearBuilt</th>\n",
       "      <th>2ndFlrSF</th>\n",
       "      <th>LotArea</th>\n",
       "      <th>YearRemodAdd</th>\n",
       "      <th>Fireplaces</th>\n",
       "      <th>ScreenPorch</th>\n",
       "      <th>GarageYrBlt</th>\n",
       "      <th>WoodDeckSF</th>\n",
       "      <th>OverallCond</th>\n",
       "      <th>OpenPorchSF</th>\n",
       "      <th>MasVnrArea</th>\n",
       "      <th>TotRmsAbvGrd</th>\n",
       "      <th>MSSubClass</th>\n",
       "    </tr>\n",
       "  </thead>\n",
       "  <tbody>\n",
       "    <tr>\n",
       "      <th>0</th>\n",
       "      <td>5</td>\n",
       "      <td>896</td>\n",
       "      <td>1778.0</td>\n",
       "      <td>730.0</td>\n",
       "      <td>468.0</td>\n",
       "      <td>1961</td>\n",
       "      <td>0</td>\n",
       "      <td>11622</td>\n",
       "      <td>1961</td>\n",
       "      <td>0</td>\n",
       "      <td>120</td>\n",
       "      <td>1961.0</td>\n",
       "      <td>140</td>\n",
       "      <td>6</td>\n",
       "      <td>0</td>\n",
       "      <td>0.0</td>\n",
       "      <td>5</td>\n",
       "      <td>20</td>\n",
       "    </tr>\n",
       "    <tr>\n",
       "      <th>1</th>\n",
       "      <td>6</td>\n",
       "      <td>1329</td>\n",
       "      <td>2658.0</td>\n",
       "      <td>312.0</td>\n",
       "      <td>923.0</td>\n",
       "      <td>1958</td>\n",
       "      <td>0</td>\n",
       "      <td>14267</td>\n",
       "      <td>1958</td>\n",
       "      <td>0</td>\n",
       "      <td>0</td>\n",
       "      <td>1958.0</td>\n",
       "      <td>393</td>\n",
       "      <td>6</td>\n",
       "      <td>36</td>\n",
       "      <td>108.0</td>\n",
       "      <td>6</td>\n",
       "      <td>20</td>\n",
       "    </tr>\n",
       "    <tr>\n",
       "      <th>2</th>\n",
       "      <td>5</td>\n",
       "      <td>1629</td>\n",
       "      <td>1856.0</td>\n",
       "      <td>964.0</td>\n",
       "      <td>791.0</td>\n",
       "      <td>1997</td>\n",
       "      <td>701</td>\n",
       "      <td>13830</td>\n",
       "      <td>1998</td>\n",
       "      <td>1</td>\n",
       "      <td>0</td>\n",
       "      <td>1997.0</td>\n",
       "      <td>212</td>\n",
       "      <td>5</td>\n",
       "      <td>34</td>\n",
       "      <td>0.0</td>\n",
       "      <td>6</td>\n",
       "      <td>60</td>\n",
       "    </tr>\n",
       "    <tr>\n",
       "      <th>3</th>\n",
       "      <td>6</td>\n",
       "      <td>1604</td>\n",
       "      <td>1852.0</td>\n",
       "      <td>940.0</td>\n",
       "      <td>602.0</td>\n",
       "      <td>1998</td>\n",
       "      <td>678</td>\n",
       "      <td>9978</td>\n",
       "      <td>1998</td>\n",
       "      <td>1</td>\n",
       "      <td>0</td>\n",
       "      <td>1998.0</td>\n",
       "      <td>360</td>\n",
       "      <td>6</td>\n",
       "      <td>36</td>\n",
       "      <td>20.0</td>\n",
       "      <td>7</td>\n",
       "      <td>60</td>\n",
       "    </tr>\n",
       "    <tr>\n",
       "      <th>4</th>\n",
       "      <td>8</td>\n",
       "      <td>1280</td>\n",
       "      <td>2560.0</td>\n",
       "      <td>1012.0</td>\n",
       "      <td>263.0</td>\n",
       "      <td>1992</td>\n",
       "      <td>0</td>\n",
       "      <td>5005</td>\n",
       "      <td>1992</td>\n",
       "      <td>0</td>\n",
       "      <td>144</td>\n",
       "      <td>1992.0</td>\n",
       "      <td>0</td>\n",
       "      <td>5</td>\n",
       "      <td>82</td>\n",
       "      <td>0.0</td>\n",
       "      <td>5</td>\n",
       "      <td>120</td>\n",
       "    </tr>\n",
       "  </tbody>\n",
       "</table>\n",
       "</div>"
      ],
      "text/plain": [
       "   OverallQual  GrLivArea  AreaTotalBsmt  GarageArea/Car  BsmtFinSF1  \\\n",
       "0            5        896         1778.0           730.0       468.0   \n",
       "1            6       1329         2658.0           312.0       923.0   \n",
       "2            5       1629         1856.0           964.0       791.0   \n",
       "3            6       1604         1852.0           940.0       602.0   \n",
       "4            8       1280         2560.0          1012.0       263.0   \n",
       "\n",
       "   YearBuilt  2ndFlrSF  LotArea  YearRemodAdd  Fireplaces  ScreenPorch  \\\n",
       "0       1961         0    11622          1961           0          120   \n",
       "1       1958         0    14267          1958           0            0   \n",
       "2       1997       701    13830          1998           1            0   \n",
       "3       1998       678     9978          1998           1            0   \n",
       "4       1992         0     5005          1992           0          144   \n",
       "\n",
       "   GarageYrBlt  WoodDeckSF  OverallCond  OpenPorchSF  MasVnrArea  \\\n",
       "0       1961.0         140            6            0         0.0   \n",
       "1       1958.0         393            6           36       108.0   \n",
       "2       1997.0         212            5           34         0.0   \n",
       "3       1998.0         360            6           36        20.0   \n",
       "4       1992.0           0            5           82         0.0   \n",
       "\n",
       "   TotRmsAbvGrd  MSSubClass  \n",
       "0             5          20  \n",
       "1             6          20  \n",
       "2             6          60  \n",
       "3             7          60  \n",
       "4             5         120  "
      ]
     },
     "execution_count": 92,
     "metadata": {},
     "output_type": "execute_result"
    }
   ],
   "source": [
    "# Verificando a base restante\n",
    "base_test.head()"
   ]
  },
  {
   "cell_type": "code",
   "execution_count": 93,
   "id": "e39fcf94",
   "metadata": {},
   "outputs": [
    {
     "data": {
      "text/plain": [
       "OverallQual       0\n",
       "GrLivArea         0\n",
       "AreaTotalBsmt     0\n",
       "GarageArea/Car    0\n",
       "BsmtFinSF1        0\n",
       "YearBuilt         0\n",
       "2ndFlrSF          0\n",
       "LotArea           0\n",
       "YearRemodAdd      0\n",
       "Fireplaces        0\n",
       "ScreenPorch       0\n",
       "GarageYrBlt       0\n",
       "WoodDeckSF        0\n",
       "OverallCond       0\n",
       "OpenPorchSF       0\n",
       "MasVnrArea        0\n",
       "TotRmsAbvGrd      0\n",
       "MSSubClass        0\n",
       "dtype: int64"
      ]
     },
     "execution_count": 93,
     "metadata": {},
     "output_type": "execute_result"
    }
   ],
   "source": [
    "# Verificar valores nulos\n",
    "base_test.isnull().sum()"
   ]
  },
  {
   "cell_type": "markdown",
   "id": "db767eed",
   "metadata": {},
   "source": [
    "- **Agora podemos usar nosso modelo e ajustar os dados para usarmos no Kaggle**"
   ]
  },
  {
   "cell_type": "code",
   "execution_count": 94,
   "id": "9b09d278",
   "metadata": {},
   "outputs": [],
   "source": [
    "# Vamos usar a Regressão Linear para fazer a previsão\n",
    "y_pred = GB.predict(base_test)"
   ]
  },
  {
   "cell_type": "code",
   "execution_count": 95,
   "id": "511117c5",
   "metadata": {},
   "outputs": [],
   "source": [
    "# Podemos adicionar essa coluna de previsão na nossa base\n",
    "base_test['SalePrice'] = y_pred"
   ]
  },
  {
   "cell_type": "code",
   "execution_count": 96,
   "id": "fc771427",
   "metadata": {},
   "outputs": [],
   "source": [
    "test = pd.read_csv(\"test.csv\") \n",
    "base_test['Id'] =test.Id"
   ]
  },
  {
   "cell_type": "code",
   "execution_count": 97,
   "id": "bc1fd647",
   "metadata": {},
   "outputs": [
    {
     "data": {
      "text/html": [
       "<div>\n",
       "<style scoped>\n",
       "    .dataframe tbody tr th:only-of-type {\n",
       "        vertical-align: middle;\n",
       "    }\n",
       "\n",
       "    .dataframe tbody tr th {\n",
       "        vertical-align: top;\n",
       "    }\n",
       "\n",
       "    .dataframe thead th {\n",
       "        text-align: right;\n",
       "    }\n",
       "</style>\n",
       "<table border=\"1\" class=\"dataframe\">\n",
       "  <thead>\n",
       "    <tr style=\"text-align: right;\">\n",
       "      <th></th>\n",
       "      <th>Id</th>\n",
       "      <th>SalePrice</th>\n",
       "    </tr>\n",
       "  </thead>\n",
       "  <tbody>\n",
       "    <tr>\n",
       "      <th>0</th>\n",
       "      <td>1461</td>\n",
       "      <td>128054.664804</td>\n",
       "    </tr>\n",
       "    <tr>\n",
       "      <th>1</th>\n",
       "      <td>1462</td>\n",
       "      <td>159884.924756</td>\n",
       "    </tr>\n",
       "    <tr>\n",
       "      <th>2</th>\n",
       "      <td>1463</td>\n",
       "      <td>188391.390803</td>\n",
       "    </tr>\n",
       "  </tbody>\n",
       "</table>\n",
       "</div>"
      ],
      "text/plain": [
       "     Id      SalePrice\n",
       "0  1461  128054.664804\n",
       "1  1462  159884.924756\n",
       "2  1463  188391.390803"
      ]
     },
     "execution_count": 97,
     "metadata": {},
     "output_type": "execute_result"
    }
   ],
   "source": [
    "# E extrair somente o Id e o SalePrice\n",
    "base_kaggle = base_test[['Id','SalePrice']]\n",
    "base_kaggle.head(3)"
   ]
  },
  {
   "cell_type": "code",
   "execution_count": 106,
   "id": "9513b665",
   "metadata": {},
   "outputs": [],
   "source": [
    "# Podemos então exportar essa base\n",
    "base_kaggle.to_csv('resultado1.csv',index=False)"
   ]
  }
 ],
 "metadata": {
  "kernelspec": {
   "display_name": "Python 3 (ipykernel)",
   "language": "python",
   "name": "python3"
  },
  "language_info": {
   "codemirror_mode": {
    "name": "ipython",
    "version": 3
   },
   "file_extension": ".py",
   "mimetype": "text/x-python",
   "name": "python",
   "nbconvert_exporter": "python",
   "pygments_lexer": "ipython3",
   "version": "3.11.5"
  }
 },
 "nbformat": 4,
 "nbformat_minor": 5
}
