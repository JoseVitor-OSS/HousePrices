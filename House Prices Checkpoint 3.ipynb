{
 "cells": [
  {
   "cell_type": "markdown",
   "id": "9ab1f7a6",
   "metadata": {},
   "source": [
    "# House Prices - Advanced Regression Techniques\n",
    "(Preços de casas - Técnicas Avançadas de Regressão)\n",
    "\n",
    "<img src=\"https://storage.googleapis.com/kaggle-media/competitions/House%20Prices/kaggle_5407_media_housesbanner.png\" width=800>\n",
    "\n",
    "\n",
    "- Vamos utilizar o [dataset disponível no Kaggle](https://www.kaggle.com/competitions/house-prices-advanced-regression-techniques/overview)\n",
    "    - É um dataset de **competição**\n",
    "    - Temos uma base com a **descrição de cada uma das colunas (data_description.txt)**\n",
    "- **Etapas do Projeto:**\n",
    "    - O projeto será realizado aplicando submissões no kaggle a medida que o tratamento dos dados forem tomando forma, isso possibilita verificar o desempenho dos modelos preditivos a modificações específicas neste tratamento."
   ]
  },
  {
   "cell_type": "code",
   "execution_count": 151,
   "id": "fe3f810d",
   "metadata": {},
   "outputs": [],
   "source": [
    "# importando o pandas\n",
    "import pandas as pd"
   ]
  },
  {
   "cell_type": "code",
   "execution_count": 152,
   "id": "6f80d400",
   "metadata": {},
   "outputs": [],
   "source": [
    "# Importando as bases de treino e teste do checkpoint 1\n",
    "base_train = pd.read_csv(\"train_1.csv\")\n",
    "base_teste = pd.read_csv(\"test_1.csv\")         "
   ]
  },
  {
   "cell_type": "markdown",
   "id": "bcab41f8",
   "metadata": {},
   "source": [
    "# Continuar análise da base"
   ]
  },
  {
   "cell_type": "markdown",
   "id": "efe3521b",
   "metadata": {},
   "source": [
    "### Tratar colunas categóricas"
   ]
  },
  {
   "cell_type": "code",
   "execution_count": 153,
   "id": "04ff3916",
   "metadata": {},
   "outputs": [],
   "source": [
    "# Filtrar colunas categóricas\n",
    "col_cat = base_train.select_dtypes(include=object).columns"
   ]
  },
  {
   "cell_type": "code",
   "execution_count": 154,
   "id": "4dacc1f1",
   "metadata": {
    "scrolled": true
   },
   "outputs": [
    {
     "data": {
      "text/html": [
       "<div>\n",
       "<style scoped>\n",
       "    .dataframe tbody tr th:only-of-type {\n",
       "        vertical-align: middle;\n",
       "    }\n",
       "\n",
       "    .dataframe tbody tr th {\n",
       "        vertical-align: top;\n",
       "    }\n",
       "\n",
       "    .dataframe thead th {\n",
       "        text-align: right;\n",
       "    }\n",
       "</style>\n",
       "<table border=\"1\" class=\"dataframe\">\n",
       "  <thead>\n",
       "    <tr style=\"text-align: right;\">\n",
       "      <th></th>\n",
       "      <th>MSZoning</th>\n",
       "      <th>Street</th>\n",
       "      <th>LotShape</th>\n",
       "      <th>LandContour</th>\n",
       "      <th>Utilities</th>\n",
       "      <th>LotConfig</th>\n",
       "      <th>LandSlope</th>\n",
       "      <th>Neighborhood</th>\n",
       "      <th>Condition1</th>\n",
       "      <th>Condition2</th>\n",
       "      <th>...</th>\n",
       "      <th>Electrical</th>\n",
       "      <th>KitchenQual</th>\n",
       "      <th>Functional</th>\n",
       "      <th>FireplaceQu</th>\n",
       "      <th>GarageType</th>\n",
       "      <th>GarageFinish</th>\n",
       "      <th>GarageQual</th>\n",
       "      <th>PavedDrive</th>\n",
       "      <th>SaleType</th>\n",
       "      <th>SaleCondition</th>\n",
       "    </tr>\n",
       "  </thead>\n",
       "  <tbody>\n",
       "    <tr>\n",
       "      <th>0</th>\n",
       "      <td>RL</td>\n",
       "      <td>Pave</td>\n",
       "      <td>Reg</td>\n",
       "      <td>Lvl</td>\n",
       "      <td>AllPub</td>\n",
       "      <td>Inside</td>\n",
       "      <td>Gtl</td>\n",
       "      <td>CollgCr</td>\n",
       "      <td>Norm</td>\n",
       "      <td>Norm</td>\n",
       "      <td>...</td>\n",
       "      <td>SBrkr</td>\n",
       "      <td>Gd</td>\n",
       "      <td>Typ</td>\n",
       "      <td>-1</td>\n",
       "      <td>Attchd</td>\n",
       "      <td>RFn</td>\n",
       "      <td>TA</td>\n",
       "      <td>Y</td>\n",
       "      <td>WD</td>\n",
       "      <td>Normal</td>\n",
       "    </tr>\n",
       "    <tr>\n",
       "      <th>1</th>\n",
       "      <td>RL</td>\n",
       "      <td>Pave</td>\n",
       "      <td>Reg</td>\n",
       "      <td>Lvl</td>\n",
       "      <td>AllPub</td>\n",
       "      <td>FR2</td>\n",
       "      <td>Gtl</td>\n",
       "      <td>Veenker</td>\n",
       "      <td>Feedr</td>\n",
       "      <td>Norm</td>\n",
       "      <td>...</td>\n",
       "      <td>SBrkr</td>\n",
       "      <td>TA</td>\n",
       "      <td>Typ</td>\n",
       "      <td>TA</td>\n",
       "      <td>Attchd</td>\n",
       "      <td>RFn</td>\n",
       "      <td>TA</td>\n",
       "      <td>Y</td>\n",
       "      <td>WD</td>\n",
       "      <td>Normal</td>\n",
       "    </tr>\n",
       "    <tr>\n",
       "      <th>2</th>\n",
       "      <td>RL</td>\n",
       "      <td>Pave</td>\n",
       "      <td>IR1</td>\n",
       "      <td>Lvl</td>\n",
       "      <td>AllPub</td>\n",
       "      <td>Inside</td>\n",
       "      <td>Gtl</td>\n",
       "      <td>CollgCr</td>\n",
       "      <td>Norm</td>\n",
       "      <td>Norm</td>\n",
       "      <td>...</td>\n",
       "      <td>SBrkr</td>\n",
       "      <td>Gd</td>\n",
       "      <td>Typ</td>\n",
       "      <td>TA</td>\n",
       "      <td>Attchd</td>\n",
       "      <td>RFn</td>\n",
       "      <td>TA</td>\n",
       "      <td>Y</td>\n",
       "      <td>WD</td>\n",
       "      <td>Normal</td>\n",
       "    </tr>\n",
       "    <tr>\n",
       "      <th>3</th>\n",
       "      <td>RL</td>\n",
       "      <td>Pave</td>\n",
       "      <td>IR1</td>\n",
       "      <td>Lvl</td>\n",
       "      <td>AllPub</td>\n",
       "      <td>Corner</td>\n",
       "      <td>Gtl</td>\n",
       "      <td>Crawfor</td>\n",
       "      <td>Norm</td>\n",
       "      <td>Norm</td>\n",
       "      <td>...</td>\n",
       "      <td>SBrkr</td>\n",
       "      <td>Gd</td>\n",
       "      <td>Typ</td>\n",
       "      <td>Gd</td>\n",
       "      <td>Detchd</td>\n",
       "      <td>Unf</td>\n",
       "      <td>TA</td>\n",
       "      <td>Y</td>\n",
       "      <td>WD</td>\n",
       "      <td>Abnorml</td>\n",
       "    </tr>\n",
       "    <tr>\n",
       "      <th>4</th>\n",
       "      <td>RL</td>\n",
       "      <td>Pave</td>\n",
       "      <td>IR1</td>\n",
       "      <td>Lvl</td>\n",
       "      <td>AllPub</td>\n",
       "      <td>FR2</td>\n",
       "      <td>Gtl</td>\n",
       "      <td>NoRidge</td>\n",
       "      <td>Norm</td>\n",
       "      <td>Norm</td>\n",
       "      <td>...</td>\n",
       "      <td>SBrkr</td>\n",
       "      <td>Gd</td>\n",
       "      <td>Typ</td>\n",
       "      <td>TA</td>\n",
       "      <td>Attchd</td>\n",
       "      <td>RFn</td>\n",
       "      <td>TA</td>\n",
       "      <td>Y</td>\n",
       "      <td>WD</td>\n",
       "      <td>Normal</td>\n",
       "    </tr>\n",
       "    <tr>\n",
       "      <th>...</th>\n",
       "      <td>...</td>\n",
       "      <td>...</td>\n",
       "      <td>...</td>\n",
       "      <td>...</td>\n",
       "      <td>...</td>\n",
       "      <td>...</td>\n",
       "      <td>...</td>\n",
       "      <td>...</td>\n",
       "      <td>...</td>\n",
       "      <td>...</td>\n",
       "      <td>...</td>\n",
       "      <td>...</td>\n",
       "      <td>...</td>\n",
       "      <td>...</td>\n",
       "      <td>...</td>\n",
       "      <td>...</td>\n",
       "      <td>...</td>\n",
       "      <td>...</td>\n",
       "      <td>...</td>\n",
       "      <td>...</td>\n",
       "      <td>...</td>\n",
       "    </tr>\n",
       "    <tr>\n",
       "      <th>1455</th>\n",
       "      <td>RL</td>\n",
       "      <td>Pave</td>\n",
       "      <td>Reg</td>\n",
       "      <td>Lvl</td>\n",
       "      <td>AllPub</td>\n",
       "      <td>Inside</td>\n",
       "      <td>Gtl</td>\n",
       "      <td>Gilbert</td>\n",
       "      <td>Norm</td>\n",
       "      <td>Norm</td>\n",
       "      <td>...</td>\n",
       "      <td>SBrkr</td>\n",
       "      <td>TA</td>\n",
       "      <td>Typ</td>\n",
       "      <td>TA</td>\n",
       "      <td>Attchd</td>\n",
       "      <td>RFn</td>\n",
       "      <td>TA</td>\n",
       "      <td>Y</td>\n",
       "      <td>WD</td>\n",
       "      <td>Normal</td>\n",
       "    </tr>\n",
       "    <tr>\n",
       "      <th>1456</th>\n",
       "      <td>RL</td>\n",
       "      <td>Pave</td>\n",
       "      <td>Reg</td>\n",
       "      <td>Lvl</td>\n",
       "      <td>AllPub</td>\n",
       "      <td>Inside</td>\n",
       "      <td>Gtl</td>\n",
       "      <td>NWAmes</td>\n",
       "      <td>Norm</td>\n",
       "      <td>Norm</td>\n",
       "      <td>...</td>\n",
       "      <td>SBrkr</td>\n",
       "      <td>TA</td>\n",
       "      <td>Min1</td>\n",
       "      <td>TA</td>\n",
       "      <td>Attchd</td>\n",
       "      <td>Unf</td>\n",
       "      <td>TA</td>\n",
       "      <td>Y</td>\n",
       "      <td>WD</td>\n",
       "      <td>Normal</td>\n",
       "    </tr>\n",
       "    <tr>\n",
       "      <th>1457</th>\n",
       "      <td>RL</td>\n",
       "      <td>Pave</td>\n",
       "      <td>Reg</td>\n",
       "      <td>Lvl</td>\n",
       "      <td>AllPub</td>\n",
       "      <td>Inside</td>\n",
       "      <td>Gtl</td>\n",
       "      <td>Crawfor</td>\n",
       "      <td>Norm</td>\n",
       "      <td>Norm</td>\n",
       "      <td>...</td>\n",
       "      <td>SBrkr</td>\n",
       "      <td>Gd</td>\n",
       "      <td>Typ</td>\n",
       "      <td>Gd</td>\n",
       "      <td>Attchd</td>\n",
       "      <td>RFn</td>\n",
       "      <td>TA</td>\n",
       "      <td>Y</td>\n",
       "      <td>WD</td>\n",
       "      <td>Normal</td>\n",
       "    </tr>\n",
       "    <tr>\n",
       "      <th>1458</th>\n",
       "      <td>RL</td>\n",
       "      <td>Pave</td>\n",
       "      <td>Reg</td>\n",
       "      <td>Lvl</td>\n",
       "      <td>AllPub</td>\n",
       "      <td>Inside</td>\n",
       "      <td>Gtl</td>\n",
       "      <td>NAmes</td>\n",
       "      <td>Norm</td>\n",
       "      <td>Norm</td>\n",
       "      <td>...</td>\n",
       "      <td>FuseA</td>\n",
       "      <td>Gd</td>\n",
       "      <td>Typ</td>\n",
       "      <td>-1</td>\n",
       "      <td>Attchd</td>\n",
       "      <td>Unf</td>\n",
       "      <td>TA</td>\n",
       "      <td>Y</td>\n",
       "      <td>WD</td>\n",
       "      <td>Normal</td>\n",
       "    </tr>\n",
       "    <tr>\n",
       "      <th>1459</th>\n",
       "      <td>RL</td>\n",
       "      <td>Pave</td>\n",
       "      <td>Reg</td>\n",
       "      <td>Lvl</td>\n",
       "      <td>AllPub</td>\n",
       "      <td>Inside</td>\n",
       "      <td>Gtl</td>\n",
       "      <td>Edwards</td>\n",
       "      <td>Norm</td>\n",
       "      <td>Norm</td>\n",
       "      <td>...</td>\n",
       "      <td>SBrkr</td>\n",
       "      <td>TA</td>\n",
       "      <td>Typ</td>\n",
       "      <td>-1</td>\n",
       "      <td>Attchd</td>\n",
       "      <td>Fin</td>\n",
       "      <td>TA</td>\n",
       "      <td>Y</td>\n",
       "      <td>WD</td>\n",
       "      <td>Normal</td>\n",
       "    </tr>\n",
       "  </tbody>\n",
       "</table>\n",
       "<p>1460 rows × 38 columns</p>\n",
       "</div>"
      ],
      "text/plain": [
       "     MSZoning Street LotShape LandContour Utilities LotConfig LandSlope  \\\n",
       "0          RL   Pave      Reg         Lvl    AllPub    Inside       Gtl   \n",
       "1          RL   Pave      Reg         Lvl    AllPub       FR2       Gtl   \n",
       "2          RL   Pave      IR1         Lvl    AllPub    Inside       Gtl   \n",
       "3          RL   Pave      IR1         Lvl    AllPub    Corner       Gtl   \n",
       "4          RL   Pave      IR1         Lvl    AllPub       FR2       Gtl   \n",
       "...       ...    ...      ...         ...       ...       ...       ...   \n",
       "1455       RL   Pave      Reg         Lvl    AllPub    Inside       Gtl   \n",
       "1456       RL   Pave      Reg         Lvl    AllPub    Inside       Gtl   \n",
       "1457       RL   Pave      Reg         Lvl    AllPub    Inside       Gtl   \n",
       "1458       RL   Pave      Reg         Lvl    AllPub    Inside       Gtl   \n",
       "1459       RL   Pave      Reg         Lvl    AllPub    Inside       Gtl   \n",
       "\n",
       "     Neighborhood Condition1 Condition2  ... Electrical KitchenQual  \\\n",
       "0         CollgCr       Norm       Norm  ...      SBrkr          Gd   \n",
       "1         Veenker      Feedr       Norm  ...      SBrkr          TA   \n",
       "2         CollgCr       Norm       Norm  ...      SBrkr          Gd   \n",
       "3         Crawfor       Norm       Norm  ...      SBrkr          Gd   \n",
       "4         NoRidge       Norm       Norm  ...      SBrkr          Gd   \n",
       "...           ...        ...        ...  ...        ...         ...   \n",
       "1455      Gilbert       Norm       Norm  ...      SBrkr          TA   \n",
       "1456       NWAmes       Norm       Norm  ...      SBrkr          TA   \n",
       "1457      Crawfor       Norm       Norm  ...      SBrkr          Gd   \n",
       "1458        NAmes       Norm       Norm  ...      FuseA          Gd   \n",
       "1459      Edwards       Norm       Norm  ...      SBrkr          TA   \n",
       "\n",
       "     Functional FireplaceQu GarageType GarageFinish GarageQual PavedDrive  \\\n",
       "0           Typ          -1     Attchd          RFn         TA          Y   \n",
       "1           Typ          TA     Attchd          RFn         TA          Y   \n",
       "2           Typ          TA     Attchd          RFn         TA          Y   \n",
       "3           Typ          Gd     Detchd          Unf         TA          Y   \n",
       "4           Typ          TA     Attchd          RFn         TA          Y   \n",
       "...         ...         ...        ...          ...        ...        ...   \n",
       "1455        Typ          TA     Attchd          RFn         TA          Y   \n",
       "1456       Min1          TA     Attchd          Unf         TA          Y   \n",
       "1457        Typ          Gd     Attchd          RFn         TA          Y   \n",
       "1458        Typ          -1     Attchd          Unf         TA          Y   \n",
       "1459        Typ          -1     Attchd          Fin         TA          Y   \n",
       "\n",
       "     SaleType SaleCondition  \n",
       "0          WD        Normal  \n",
       "1          WD        Normal  \n",
       "2          WD        Normal  \n",
       "3          WD       Abnorml  \n",
       "4          WD        Normal  \n",
       "...       ...           ...  \n",
       "1455       WD        Normal  \n",
       "1456       WD        Normal  \n",
       "1457       WD        Normal  \n",
       "1458       WD        Normal  \n",
       "1459       WD        Normal  \n",
       "\n",
       "[1460 rows x 38 columns]"
      ]
     },
     "execution_count": 154,
     "metadata": {},
     "output_type": "execute_result"
    }
   ],
   "source": [
    "base_train[col_cat]"
   ]
  },
  {
   "cell_type": "markdown",
   "id": "2e313804",
   "metadata": {},
   "source": [
    "### Colunas com apenas 2 valores distintos\n",
    "- Nestes casos podemos utilizar a binarização\n",
    "- Também podemos agrupar valores de outras colunas que apresentem um valor muito predominante\n",
    "    - Aqui foi considerado que se a coluna apresentasse um valor com mais de 80% de frequencia, os demais valores poderiam       ser agrupados em um único"
   ]
  },
  {
   "cell_type": "code",
   "execution_count": 155,
   "id": "08ec7dfe",
   "metadata": {},
   "outputs": [
    {
     "data": {
      "text/plain": [
       "MSZoning\n",
       "C (all)     0.684932\n",
       "FV          4.452055\n",
       "RH          1.095890\n",
       "RL         78.835616\n",
       "RM         14.931507\n",
       "Name: SalePrice, dtype: float64"
      ]
     },
     "execution_count": 155,
     "metadata": {},
     "output_type": "execute_result"
    }
   ],
   "source": [
    "# Visão de como funciona essa etapa\n",
    "# Percentual de frequenci de cada valor nessa coluna específica\n",
    "# Se o valor de maior frequencia for maior que 80% os demais serão agrupados em uma só categoria pois possuem baixa frequencia\n",
    "# Esse procedimento não seria interessante se o problema do negócio fosse a identificação de anomalia, como identificar fraudes\n",
    "(base_train.groupby('MSZoning')['SalePrice'].count()/base_train.shape[0])*100"
   ]
  },
  {
   "cell_type": "code",
   "execution_count": 156,
   "id": "17479d18",
   "metadata": {
    "scrolled": true
   },
   "outputs": [
    {
     "data": {
      "text/plain": [
       "['Street',\n",
       " 'LandContour',\n",
       " 'Utilities',\n",
       " 'LandSlope',\n",
       " 'Condition1',\n",
       " 'Condition2',\n",
       " 'BldgType',\n",
       " 'RoofMatl',\n",
       " 'ExterCond',\n",
       " 'BsmtCond',\n",
       " 'BsmtFinType2',\n",
       " 'BsmtFinSF2',\n",
       " 'Heating',\n",
       " 'CentralAir',\n",
       " 'Electrical',\n",
       " 'LowQualFinSF',\n",
       " 'BsmtHalfBath',\n",
       " 'KitchenAbvGr',\n",
       " 'Functional',\n",
       " 'GarageQual',\n",
       " 'PavedDrive',\n",
       " 'EnclosedPorch',\n",
       " '3SsnPorch',\n",
       " 'ScreenPorch',\n",
       " 'MiscVal',\n",
       " 'SaleType',\n",
       " 'SaleCondition']"
      ]
     },
     "execution_count": 156,
     "metadata": {},
     "output_type": "execute_result"
    }
   ],
   "source": [
    "# Filtrar colunas com valor predominante superior a 80% de frequencia e realizar binarização\n",
    "colunas_binary = []\n",
    "for i in base_train.columns:\n",
    "     if ((base_train.groupby(i)['SalePrice']\n",
    "          .count().max())/base_train.shape[0])>0.8:\n",
    "            colunas_binary.append(i)\n",
    "colunas_binary"
   ]
  },
  {
   "cell_type": "code",
   "execution_count": 157,
   "id": "7650da7b",
   "metadata": {},
   "outputs": [],
   "source": [
    "# Realiza a binarização\n",
    "for i in colunas_binary:\n",
    "    base_train[i] = base_train[i].apply(\n",
    "        lambda x: 0 if x == base_train[i].value_counts()\n",
    "        .sort_values(ascending=False).index[0] else 1)\n",
    "    base_train[i] = base_train[i].astype(int)\n",
    "    \n",
    "    #Realizar na base de teste\n",
    "    base_teste[i] = base_teste[i].apply(\n",
    "        lambda x: 0 if x == base_teste[i].value_counts()\n",
    "        .sort_values(ascending=False).index[0] else 1)\n",
    "    base_teste[i] = base_teste[i].astype(int)    "
   ]
  },
  {
   "cell_type": "code",
   "execution_count": 158,
   "id": "a0830b0e",
   "metadata": {
    "scrolled": true
   },
   "outputs": [
    {
     "data": {
      "text/plain": [
       "Index(['MSZoning', 'LotShape', 'LotConfig', 'Neighborhood', 'HouseStyle',\n",
       "       'RoofStyle', 'Exterior1st', 'Exterior2nd', 'MasVnrType', 'ExterQual',\n",
       "       'Foundation', 'BsmtQual', 'BsmtExposure', 'BsmtFinType1', 'HeatingQC',\n",
       "       'KitchenQual', 'FireplaceQu', 'GarageType', 'GarageFinish'],\n",
       "      dtype='object')"
      ]
     },
     "execution_count": 158,
     "metadata": {},
     "output_type": "execute_result"
    }
   ],
   "source": [
    "# Observar colunas restantes\n",
    "col_rest = base_train.select_dtypes(include=object).columns\n",
    "col_rest"
   ]
  },
  {
   "cell_type": "markdown",
   "id": "c40e0515",
   "metadata": {},
   "source": [
    "### Dividir entre colunas Ordinais e não Ordinais\n",
    "#### Ordinais:  'ExterQual','HeatingQC','KitchenQual','FireplaceQu','GarageFinish','LotShape','BsmtQual','BsmtExposure','BsmtFinType1','GarageType'."
   ]
  },
  {
   "cell_type": "code",
   "execution_count": 159,
   "id": "9ef7aaf4",
   "metadata": {},
   "outputs": [
    {
     "data": {
      "text/html": [
       "<div>\n",
       "<style scoped>\n",
       "    .dataframe tbody tr th:only-of-type {\n",
       "        vertical-align: middle;\n",
       "    }\n",
       "\n",
       "    .dataframe tbody tr th {\n",
       "        vertical-align: top;\n",
       "    }\n",
       "\n",
       "    .dataframe thead th {\n",
       "        text-align: right;\n",
       "    }\n",
       "</style>\n",
       "<table border=\"1\" class=\"dataframe\">\n",
       "  <thead>\n",
       "    <tr style=\"text-align: right;\">\n",
       "      <th></th>\n",
       "      <th>ExterQual</th>\n",
       "      <th>HeatingQC</th>\n",
       "      <th>KitchenQual</th>\n",
       "      <th>FireplaceQu</th>\n",
       "      <th>GarageFinish</th>\n",
       "      <th>LotShape</th>\n",
       "      <th>BsmtQual</th>\n",
       "      <th>BsmtExposure</th>\n",
       "      <th>BsmtFinType1</th>\n",
       "      <th>GarageType</th>\n",
       "    </tr>\n",
       "  </thead>\n",
       "  <tbody>\n",
       "    <tr>\n",
       "      <th>0</th>\n",
       "      <td>Gd</td>\n",
       "      <td>Ex</td>\n",
       "      <td>Gd</td>\n",
       "      <td>-1</td>\n",
       "      <td>RFn</td>\n",
       "      <td>Reg</td>\n",
       "      <td>Gd</td>\n",
       "      <td>No</td>\n",
       "      <td>GLQ</td>\n",
       "      <td>Attchd</td>\n",
       "    </tr>\n",
       "    <tr>\n",
       "      <th>1</th>\n",
       "      <td>TA</td>\n",
       "      <td>Ex</td>\n",
       "      <td>TA</td>\n",
       "      <td>TA</td>\n",
       "      <td>RFn</td>\n",
       "      <td>Reg</td>\n",
       "      <td>Gd</td>\n",
       "      <td>Gd</td>\n",
       "      <td>ALQ</td>\n",
       "      <td>Attchd</td>\n",
       "    </tr>\n",
       "    <tr>\n",
       "      <th>2</th>\n",
       "      <td>Gd</td>\n",
       "      <td>Ex</td>\n",
       "      <td>Gd</td>\n",
       "      <td>TA</td>\n",
       "      <td>RFn</td>\n",
       "      <td>IR1</td>\n",
       "      <td>Gd</td>\n",
       "      <td>Mn</td>\n",
       "      <td>GLQ</td>\n",
       "      <td>Attchd</td>\n",
       "    </tr>\n",
       "    <tr>\n",
       "      <th>3</th>\n",
       "      <td>TA</td>\n",
       "      <td>Gd</td>\n",
       "      <td>Gd</td>\n",
       "      <td>Gd</td>\n",
       "      <td>Unf</td>\n",
       "      <td>IR1</td>\n",
       "      <td>TA</td>\n",
       "      <td>No</td>\n",
       "      <td>ALQ</td>\n",
       "      <td>Detchd</td>\n",
       "    </tr>\n",
       "    <tr>\n",
       "      <th>4</th>\n",
       "      <td>Gd</td>\n",
       "      <td>Ex</td>\n",
       "      <td>Gd</td>\n",
       "      <td>TA</td>\n",
       "      <td>RFn</td>\n",
       "      <td>IR1</td>\n",
       "      <td>Gd</td>\n",
       "      <td>Av</td>\n",
       "      <td>GLQ</td>\n",
       "      <td>Attchd</td>\n",
       "    </tr>\n",
       "    <tr>\n",
       "      <th>...</th>\n",
       "      <td>...</td>\n",
       "      <td>...</td>\n",
       "      <td>...</td>\n",
       "      <td>...</td>\n",
       "      <td>...</td>\n",
       "      <td>...</td>\n",
       "      <td>...</td>\n",
       "      <td>...</td>\n",
       "      <td>...</td>\n",
       "      <td>...</td>\n",
       "    </tr>\n",
       "    <tr>\n",
       "      <th>1455</th>\n",
       "      <td>TA</td>\n",
       "      <td>Ex</td>\n",
       "      <td>TA</td>\n",
       "      <td>TA</td>\n",
       "      <td>RFn</td>\n",
       "      <td>Reg</td>\n",
       "      <td>Gd</td>\n",
       "      <td>No</td>\n",
       "      <td>Unf</td>\n",
       "      <td>Attchd</td>\n",
       "    </tr>\n",
       "    <tr>\n",
       "      <th>1456</th>\n",
       "      <td>TA</td>\n",
       "      <td>TA</td>\n",
       "      <td>TA</td>\n",
       "      <td>TA</td>\n",
       "      <td>Unf</td>\n",
       "      <td>Reg</td>\n",
       "      <td>Gd</td>\n",
       "      <td>No</td>\n",
       "      <td>ALQ</td>\n",
       "      <td>Attchd</td>\n",
       "    </tr>\n",
       "    <tr>\n",
       "      <th>1457</th>\n",
       "      <td>Ex</td>\n",
       "      <td>Ex</td>\n",
       "      <td>Gd</td>\n",
       "      <td>Gd</td>\n",
       "      <td>RFn</td>\n",
       "      <td>Reg</td>\n",
       "      <td>TA</td>\n",
       "      <td>No</td>\n",
       "      <td>GLQ</td>\n",
       "      <td>Attchd</td>\n",
       "    </tr>\n",
       "    <tr>\n",
       "      <th>1458</th>\n",
       "      <td>TA</td>\n",
       "      <td>Gd</td>\n",
       "      <td>Gd</td>\n",
       "      <td>-1</td>\n",
       "      <td>Unf</td>\n",
       "      <td>Reg</td>\n",
       "      <td>TA</td>\n",
       "      <td>Mn</td>\n",
       "      <td>GLQ</td>\n",
       "      <td>Attchd</td>\n",
       "    </tr>\n",
       "    <tr>\n",
       "      <th>1459</th>\n",
       "      <td>Gd</td>\n",
       "      <td>Gd</td>\n",
       "      <td>TA</td>\n",
       "      <td>-1</td>\n",
       "      <td>Fin</td>\n",
       "      <td>Reg</td>\n",
       "      <td>TA</td>\n",
       "      <td>No</td>\n",
       "      <td>BLQ</td>\n",
       "      <td>Attchd</td>\n",
       "    </tr>\n",
       "  </tbody>\n",
       "</table>\n",
       "<p>1460 rows × 10 columns</p>\n",
       "</div>"
      ],
      "text/plain": [
       "     ExterQual HeatingQC KitchenQual FireplaceQu GarageFinish LotShape  \\\n",
       "0           Gd        Ex          Gd          -1          RFn      Reg   \n",
       "1           TA        Ex          TA          TA          RFn      Reg   \n",
       "2           Gd        Ex          Gd          TA          RFn      IR1   \n",
       "3           TA        Gd          Gd          Gd          Unf      IR1   \n",
       "4           Gd        Ex          Gd          TA          RFn      IR1   \n",
       "...        ...       ...         ...         ...          ...      ...   \n",
       "1455        TA        Ex          TA          TA          RFn      Reg   \n",
       "1456        TA        TA          TA          TA          Unf      Reg   \n",
       "1457        Ex        Ex          Gd          Gd          RFn      Reg   \n",
       "1458        TA        Gd          Gd          -1          Unf      Reg   \n",
       "1459        Gd        Gd          TA          -1          Fin      Reg   \n",
       "\n",
       "     BsmtQual BsmtExposure BsmtFinType1 GarageType  \n",
       "0          Gd           No          GLQ     Attchd  \n",
       "1          Gd           Gd          ALQ     Attchd  \n",
       "2          Gd           Mn          GLQ     Attchd  \n",
       "3          TA           No          ALQ     Detchd  \n",
       "4          Gd           Av          GLQ     Attchd  \n",
       "...       ...          ...          ...        ...  \n",
       "1455       Gd           No          Unf     Attchd  \n",
       "1456       Gd           No          ALQ     Attchd  \n",
       "1457       TA           No          GLQ     Attchd  \n",
       "1458       TA           Mn          GLQ     Attchd  \n",
       "1459       TA           No          BLQ     Attchd  \n",
       "\n",
       "[1460 rows x 10 columns]"
      ]
     },
     "execution_count": 159,
     "metadata": {},
     "output_type": "execute_result"
    }
   ],
   "source": [
    "col_ord = ['ExterQual','HeatingQC','KitchenQual','FireplaceQu','GarageFinish','LotShape','BsmtQual','BsmtExposure','BsmtFinType1','GarageType']\n",
    "base_train[col_ord]"
   ]
  },
  {
   "cell_type": "markdown",
   "id": "cf46ef64",
   "metadata": {},
   "source": [
    "### Realizar o OrdinalEncoder nas colunas ordinais"
   ]
  },
  {
   "cell_type": "code",
   "execution_count": 160,
   "id": "d1797a73",
   "metadata": {},
   "outputs": [],
   "source": [
    "# Importando OrdinalEncoder\n",
    "from sklearn.preprocessing import OrdinalEncoder"
   ]
  },
  {
   "cell_type": "code",
   "execution_count": 161,
   "id": "ffb1186e",
   "metadata": {},
   "outputs": [
    {
     "name": "stdout",
     "output_type": "stream",
     "text": [
      "<class 'pandas.core.frame.DataFrame'>\n",
      "RangeIndex: 1460 entries, 0 to 1459\n",
      "Data columns (total 10 columns):\n",
      " #   Column        Non-Null Count  Dtype \n",
      "---  ------        --------------  ----- \n",
      " 0   ExterQual     1460 non-null   object\n",
      " 1   HeatingQC     1460 non-null   object\n",
      " 2   KitchenQual   1460 non-null   object\n",
      " 3   FireplaceQu   1460 non-null   object\n",
      " 4   GarageFinish  1460 non-null   object\n",
      " 5   LotShape      1460 non-null   object\n",
      " 6   BsmtQual      1460 non-null   object\n",
      " 7   BsmtExposure  1460 non-null   object\n",
      " 8   BsmtFinType1  1460 non-null   object\n",
      " 9   GarageType    1460 non-null   object\n",
      "dtypes: object(10)\n",
      "memory usage: 114.2+ KB\n"
     ]
    }
   ],
   "source": [
    "base_train[col_ord].info()"
   ]
  },
  {
   "cell_type": "code",
   "execution_count": 162,
   "id": "3d045441",
   "metadata": {},
   "outputs": [
    {
     "data": {
      "text/plain": [
       "GarageType\n",
       "Attchd     870\n",
       "Detchd     387\n",
       "BuiltIn     88\n",
       "-1          81\n",
       "Basment     19\n",
       "CarPort      9\n",
       "2Types       6\n",
       "Name: count, dtype: int64"
      ]
     },
     "execution_count": 162,
     "metadata": {},
     "output_type": "execute_result"
    }
   ],
   "source": [
    "base_train.GarageType.value_counts()"
   ]
  },
  {
   "cell_type": "code",
   "execution_count": 163,
   "id": "931a1b8e",
   "metadata": {},
   "outputs": [],
   "source": [
    "# Devo passar manualmente os valores ordenados de cada coluna (indicado na descrição dos dados)\n",
    "col_ord = ['ExterQual','HeatingQC','KitchenQual','FireplaceQu','GarageFinish',\n",
    "           'LotShape','BsmtQual','BsmtExposure','BsmtFinType1','GarageType']\n",
    "cat1 = ['Fa','TA','Gd','Ex']\n",
    "cat2 = ['Po','Fa','TA','Gd','Ex']\n",
    "cat3 = ['Fa','TA','Gd','Ex']\n",
    "cat4 = ['-1','Po','Fa','TA','Gd','Ex']\n",
    "cat5 = ['-1','Unf','RFn','Fin']\n",
    "cat6 = ['IR3','IR2','IR1','Reg']\n",
    "cat7 = ['-1','Fa','TA','Gd','Ex']\n",
    "cat8 = ['-1','No','Mn','Av','Gd']\n",
    "cat9 = ['-1','Unf','LwQ','Rec','BLQ','ALQ','GLQ']\n",
    "cat10 = ['-1','Detchd','CarPort','BuiltIn','Basment','Attchd','2Types']\n",
    "\n",
    "categories = ['']\n",
    "for i in range(10): \n",
    "    categorias = f'cat{i+1}' \n",
    "    # Criando o objeto e ajustando as categorias\n",
    "    oe = OrdinalEncoder(categories=[globals()[categorias]])\n",
    "    # Transformando os dados diretamente\n",
    "    base_train[col_ord[i]] = oe.fit_transform(base_train[[col_ord[i]]])  \n"
   ]
  },
  {
   "cell_type": "code",
   "execution_count": 164,
   "id": "5bf96bce",
   "metadata": {},
   "outputs": [
    {
     "name": "stdout",
     "output_type": "stream",
     "text": [
      "<class 'pandas.core.frame.DataFrame'>\n",
      "RangeIndex: 1460 entries, 0 to 1459\n",
      "Data columns (total 10 columns):\n",
      " #   Column        Non-Null Count  Dtype  \n",
      "---  ------        --------------  -----  \n",
      " 0   ExterQual     1460 non-null   float64\n",
      " 1   HeatingQC     1460 non-null   float64\n",
      " 2   KitchenQual   1460 non-null   float64\n",
      " 3   FireplaceQu   1460 non-null   float64\n",
      " 4   GarageFinish  1460 non-null   float64\n",
      " 5   LotShape      1460 non-null   float64\n",
      " 6   BsmtQual      1460 non-null   float64\n",
      " 7   BsmtExposure  1460 non-null   float64\n",
      " 8   BsmtFinType1  1460 non-null   float64\n",
      " 9   GarageType    1460 non-null   float64\n",
      "dtypes: float64(10)\n",
      "memory usage: 114.2 KB\n"
     ]
    }
   ],
   "source": [
    "# Agora estão contendo valores numéricos ordenados\n",
    "base_train[col_ord].info()"
   ]
  },
  {
   "cell_type": "code",
   "execution_count": 165,
   "id": "d9222a8b",
   "metadata": {},
   "outputs": [
    {
     "data": {
      "text/plain": [
       "Index(['MSZoning', 'LotConfig', 'Neighborhood', 'HouseStyle', 'RoofStyle',\n",
       "       'Exterior1st', 'Exterior2nd', 'MasVnrType', 'Foundation'],\n",
       "      dtype='object')"
      ]
     },
     "execution_count": 165,
     "metadata": {},
     "output_type": "execute_result"
    }
   ],
   "source": [
    "# Colunas restantes\n",
    "col_rest = base_train.select_dtypes(include=object).columns\n",
    "col_rest"
   ]
  },
  {
   "cell_type": "markdown",
   "id": "111ab136",
   "metadata": {},
   "source": [
    "**Realizar mesmo procedimento na base de teste**"
   ]
  },
  {
   "cell_type": "code",
   "execution_count": 166,
   "id": "04273a20",
   "metadata": {},
   "outputs": [
    {
     "name": "stdout",
     "output_type": "stream",
     "text": [
      "<class 'pandas.core.frame.DataFrame'>\n",
      "RangeIndex: 1459 entries, 0 to 1458\n",
      "Data columns (total 10 columns):\n",
      " #   Column        Non-Null Count  Dtype \n",
      "---  ------        --------------  ----- \n",
      " 0   ExterQual     1459 non-null   object\n",
      " 1   HeatingQC     1459 non-null   object\n",
      " 2   KitchenQual   1459 non-null   object\n",
      " 3   FireplaceQu   1459 non-null   object\n",
      " 4   GarageFinish  1459 non-null   object\n",
      " 5   LotShape      1459 non-null   object\n",
      " 6   BsmtQual      1459 non-null   object\n",
      " 7   BsmtExposure  1459 non-null   object\n",
      " 8   BsmtFinType1  1459 non-null   object\n",
      " 9   GarageType    1459 non-null   object\n",
      "dtypes: object(10)\n",
      "memory usage: 114.1+ KB\n"
     ]
    }
   ],
   "source": [
    "base_teste[col_ord].info()"
   ]
  },
  {
   "cell_type": "code",
   "execution_count": 167,
   "id": "d747a449",
   "metadata": {},
   "outputs": [
    {
     "data": {
      "text/plain": [
       "KitchenQual\n",
       "TA    758\n",
       "Gd    565\n",
       "Ex    105\n",
       "Fa     31\n",
       "Name: count, dtype: int64"
      ]
     },
     "execution_count": 167,
     "metadata": {},
     "output_type": "execute_result"
    }
   ],
   "source": [
    "base_teste.KitchenQual.value_counts()"
   ]
  },
  {
   "cell_type": "code",
   "execution_count": 168,
   "id": "749bdc33",
   "metadata": {},
   "outputs": [],
   "source": [
    "# Devo passar manualmente os valores ordenados de cada coluna (indicado na descrição dos dados)\n",
    "col_ord = ['ExterQual','HeatingQC','KitchenQual','FireplaceQu','GarageFinish',\n",
    "           'LotShape','BsmtQual','BsmtExposure','BsmtFinType1','GarageType']\n",
    "cat1 = ['Fa','TA','Gd','Ex']\n",
    "cat2 = ['Po','Fa','TA','Gd','Ex']\n",
    "cat3 = ['Fa','TA','Gd','Ex']\n",
    "cat4 = ['-1','Po','Fa','TA','Gd','Ex']\n",
    "cat5 = ['-1','Unf','RFn','Fin']\n",
    "cat6 = ['IR3','IR2','IR1','Reg']\n",
    "cat7 = ['-1','Fa','TA','Gd','Ex']\n",
    "cat8 = ['-1','No','Mn','Av','Gd']\n",
    "cat9 = ['-1','Unf','LwQ','Rec','BLQ','ALQ','GLQ']\n",
    "cat10 = ['-1','Detchd','CarPort','BuiltIn','Basment','Attchd','2Types']\n",
    "\n",
    "categories = ['']\n",
    "for i in range(10): \n",
    "    categorias = f'cat{i+1}' \n",
    "    # Criando o objeto e ajustando as categorias\n",
    "    oe = OrdinalEncoder(categories=[globals()[categorias]])\n",
    "    # Transformando os dados diretamente\n",
    "    base_teste[col_ord[i]] = oe.fit_transform(base_teste[[col_ord[i]]])  "
   ]
  },
  {
   "cell_type": "code",
   "execution_count": 169,
   "id": "1c16c72e",
   "metadata": {},
   "outputs": [
    {
     "name": "stdout",
     "output_type": "stream",
     "text": [
      "<class 'pandas.core.frame.DataFrame'>\n",
      "RangeIndex: 1459 entries, 0 to 1458\n",
      "Data columns (total 10 columns):\n",
      " #   Column        Non-Null Count  Dtype  \n",
      "---  ------        --------------  -----  \n",
      " 0   ExterQual     1459 non-null   float64\n",
      " 1   HeatingQC     1459 non-null   float64\n",
      " 2   KitchenQual   1459 non-null   float64\n",
      " 3   FireplaceQu   1459 non-null   float64\n",
      " 4   GarageFinish  1459 non-null   float64\n",
      " 5   LotShape      1459 non-null   float64\n",
      " 6   BsmtQual      1459 non-null   float64\n",
      " 7   BsmtExposure  1459 non-null   float64\n",
      " 8   BsmtFinType1  1459 non-null   float64\n",
      " 9   GarageType    1459 non-null   float64\n",
      "dtypes: float64(10)\n",
      "memory usage: 114.1 KB\n"
     ]
    }
   ],
   "source": [
    "# Agora estão contendo valores numéricos ordenados\n",
    "base_teste[col_ord].info()"
   ]
  },
  {
   "cell_type": "markdown",
   "id": "5f68233c",
   "metadata": {},
   "source": [
    "## Agrupar valores pouco frequentes\n",
    "#### Assim como foi realizada na binarização, posso reduzir a quantidade de classes observando a frequencia delas, isso rerá realizado nas colunas restantes. \n",
    "#### Aqui no entanto, serão mantidas os dois valores mais frequentes e agrupados os demais em uma única outra categoria"
   ]
  },
  {
   "cell_type": "markdown",
   "id": "0f3cf726",
   "metadata": {},
   "source": [
    "**IMPORTANTE: Realizar este procedimento apenas nas colunas não ordinais**\n",
    "- Considerações:\n",
    "    - O ideal seria agrupar esses valores de forma manual, de acordo com o negócio\n",
    "    - Por exemplo: A coluna de vizinhança poderia ser agrupada por locais que são próximos\n",
    "    - Esse agrupamento reduz a quantidade de colunas que serão criadas no processo do One Hot Encoder"
   ]
  },
  {
   "cell_type": "code",
   "execution_count": 170,
   "id": "7ae26faf",
   "metadata": {},
   "outputs": [
    {
     "data": {
      "text/plain": [
       "['MSZoning',\n",
       " 'LotConfig',\n",
       " 'HouseStyle',\n",
       " 'RoofStyle',\n",
       " 'MasVnrType',\n",
       " 'Foundation']"
      ]
     },
     "execution_count": 170,
     "metadata": {},
     "output_type": "execute_result"
    }
   ],
   "source": [
    "# Selecionar as colunas que se encaixam nessas especificações\n",
    "colunas_tres = []\n",
    "for i in col_rest:\n",
    "     if (((base_train.groupby(i)['SalePrice'].count()\n",
    "           .sort_values(ascending=False)\n",
    "           /base_train.shape[0])[0]\n",
    "           +(base_train.groupby(i)['SalePrice']\n",
    "           .count().sort_values(ascending=False)\n",
    "            /base_train.shape[0])[1])>0.8):\n",
    "        colunas_tres.append(i)\n",
    "colunas_tres"
   ]
  },
  {
   "cell_type": "code",
   "execution_count": 171,
   "id": "cb63095e",
   "metadata": {},
   "outputs": [
    {
     "data": {
      "text/plain": [
       "MSZoning         5\n",
       "LotConfig        5\n",
       "Neighborhood    25\n",
       "HouseStyle       8\n",
       "RoofStyle        6\n",
       "Exterior1st     15\n",
       "Exterior2nd     16\n",
       "MasVnrType       4\n",
       "Foundation       6\n",
       "dtype: int64"
      ]
     },
     "execution_count": 171,
     "metadata": {},
     "output_type": "execute_result"
    }
   ],
   "source": [
    "# Observar cardinalidade dessas colunas antes do tratamento\n",
    "base_train[col_rest].nunique()"
   ]
  },
  {
   "cell_type": "code",
   "execution_count": 172,
   "id": "793b2e94",
   "metadata": {},
   "outputs": [],
   "source": [
    "# Com exceção das duas classes de maior frequencia\n",
    "# Transformar todas outras classes em uma única 'outro'\n",
    "# Trasformar base de treino e teste\n",
    "for i in col_rest:\n",
    "    # Base de teste\n",
    "    base_teste[i] = base_teste[i].apply(lambda x: 'Outro' \n",
    "    if (x != base_train.groupby(i)['SalePrice'].count()\n",
    "    .sort_values(ascending=False).index[0])&(x != base_train.groupby(i)\n",
    "    ['SalePrice'].count().sort_values(ascending=False).index[1]) else x)\n",
    "    # Base de treino\n",
    "    base_train[i] = base_train[i].apply(lambda x: 'Outro' \n",
    "    if (x != base_train.groupby(i)['SalePrice'].count()\n",
    "    .sort_values(ascending=False).index[0])&(x != base_train.groupby(i)\n",
    "    ['SalePrice'].count().sort_values(ascending=False).index[1]) else x)"
   ]
  },
  {
   "cell_type": "code",
   "execution_count": 173,
   "id": "de4220b9",
   "metadata": {},
   "outputs": [
    {
     "name": "stdout",
     "output_type": "stream",
     "text": [
      "MSZoning        3\n",
      "LotConfig       3\n",
      "Neighborhood    3\n",
      "HouseStyle      3\n",
      "RoofStyle       3\n",
      "Exterior1st     3\n",
      "Exterior2nd     3\n",
      "MasVnrType      3\n",
      "Foundation      3\n",
      "dtype: int64\n",
      "MSZoning        3\n",
      "LotConfig       3\n",
      "Neighborhood    3\n",
      "HouseStyle      3\n",
      "RoofStyle       3\n",
      "Exterior1st     3\n",
      "Exterior2nd     3\n",
      "MasVnrType      3\n",
      "Foundation      3\n",
      "dtype: int64\n"
     ]
    }
   ],
   "source": [
    "# Observar cardinalidade depois do tratamento\n",
    "print(base_train[col_rest].nunique())\n",
    "print(base_teste[col_rest].nunique())"
   ]
  },
  {
   "cell_type": "markdown",
   "id": "1b253800",
   "metadata": {},
   "source": [
    "### Agora posso realizar o processo de One Hot Encoder\n",
    "**Esse último procedimento foi importante para reduzir a quantidade de colunas que serão geradas agora no One Hot Encoder**"
   ]
  },
  {
   "cell_type": "markdown",
   "id": "97c4565f",
   "metadata": {},
   "source": [
    "### One Hot Encoder"
   ]
  },
  {
   "cell_type": "code",
   "execution_count": 174,
   "id": "2e6f7cd3",
   "metadata": {},
   "outputs": [],
   "source": [
    "# Importando\n",
    "from sklearn.preprocessing import OneHotEncoder"
   ]
  },
  {
   "cell_type": "code",
   "execution_count": 175,
   "id": "7ae695ee",
   "metadata": {},
   "outputs": [],
   "source": [
    "# Utilizando o OneHotEncoder\n",
    "ohe = OneHotEncoder()"
   ]
  },
  {
   "cell_type": "code",
   "execution_count": 176,
   "id": "22fefac4",
   "metadata": {},
   "outputs": [],
   "source": [
    "# Fazendo o fit com os dados\n",
    "# Posso considerar mais de uma coluna no ohe\n",
    "ohe = ohe.fit(base_train[col_rest])"
   ]
  },
  {
   "cell_type": "code",
   "execution_count": 177,
   "id": "12784f21",
   "metadata": {},
   "outputs": [
    {
     "data": {
      "text/plain": [
       "array([[0., 1., 0., ..., 0., 0., 1.],\n",
       "       [0., 1., 0., ..., 1., 0., 0.],\n",
       "       [0., 1., 0., ..., 0., 0., 1.],\n",
       "       ...,\n",
       "       [0., 1., 0., ..., 0., 1., 0.],\n",
       "       [0., 1., 0., ..., 1., 0., 0.],\n",
       "       [0., 1., 0., ..., 1., 0., 0.]])"
      ]
     },
     "execution_count": 177,
     "metadata": {},
     "output_type": "execute_result"
    }
   ],
   "source": [
    "# Fazendo a transformação da coluna Embarked\n",
    "ohe.transform(base_train[col_rest]).toarray()"
   ]
  },
  {
   "cell_type": "code",
   "execution_count": 178,
   "id": "af36cb80",
   "metadata": {},
   "outputs": [],
   "source": [
    "# Podemos transformar esse resultado em um DataFrame\n",
    "ohe_df = pd.DataFrame(ohe.transform(base_train[col_rest]).toarray())"
   ]
  },
  {
   "cell_type": "code",
   "execution_count": 179,
   "id": "677a4585",
   "metadata": {},
   "outputs": [],
   "source": [
    "# Agora podemos utilizar o categories_ para nomear essas colunas\n",
    "ohe_df.columns = ohe.get_feature_names_out()"
   ]
  },
  {
   "cell_type": "markdown",
   "id": "98ae3146",
   "metadata": {},
   "source": [
    "**Podemos notar que as 9 colunas se tornaram 27**"
   ]
  },
  {
   "cell_type": "code",
   "execution_count": 180,
   "id": "c6c1b2f7",
   "metadata": {},
   "outputs": [],
   "source": [
    "# Precisamos agora dropar as colunas antigas e concatenar essa base na base original\n",
    "base_train = base_train.drop(col_rest,axis=1)"
   ]
  },
  {
   "cell_type": "code",
   "execution_count": 181,
   "id": "3334bd06",
   "metadata": {},
   "outputs": [
    {
     "data": {
      "text/plain": [
       "(1460, 91)"
      ]
     },
     "execution_count": 181,
     "metadata": {},
     "output_type": "execute_result"
    }
   ],
   "source": [
    "# Concatenar\n",
    "base_train = pd.concat([base_train,ohe_df], axis=1)\n",
    "base_train.shape"
   ]
  },
  {
   "cell_type": "code",
   "execution_count": 182,
   "id": "e7894108",
   "metadata": {},
   "outputs": [
    {
     "data": {
      "text/html": [
       "<div>\n",
       "<style scoped>\n",
       "    .dataframe tbody tr th:only-of-type {\n",
       "        vertical-align: middle;\n",
       "    }\n",
       "\n",
       "    .dataframe tbody tr th {\n",
       "        vertical-align: top;\n",
       "    }\n",
       "\n",
       "    .dataframe thead th {\n",
       "        text-align: right;\n",
       "    }\n",
       "</style>\n",
       "<table border=\"1\" class=\"dataframe\">\n",
       "  <thead>\n",
       "    <tr style=\"text-align: right;\">\n",
       "      <th></th>\n",
       "      <th>Id</th>\n",
       "      <th>MSSubClass</th>\n",
       "      <th>LotFrontage</th>\n",
       "      <th>LotArea</th>\n",
       "      <th>Street</th>\n",
       "      <th>LotShape</th>\n",
       "      <th>LandContour</th>\n",
       "      <th>Utilities</th>\n",
       "      <th>LandSlope</th>\n",
       "      <th>Condition1</th>\n",
       "      <th>...</th>\n",
       "      <th>Exterior1st_VinylSd</th>\n",
       "      <th>Exterior2nd_MetalSd</th>\n",
       "      <th>Exterior2nd_Outro</th>\n",
       "      <th>Exterior2nd_VinylSd</th>\n",
       "      <th>MasVnrType_-1</th>\n",
       "      <th>MasVnrType_BrkFace</th>\n",
       "      <th>MasVnrType_Outro</th>\n",
       "      <th>Foundation_CBlock</th>\n",
       "      <th>Foundation_Outro</th>\n",
       "      <th>Foundation_PConc</th>\n",
       "    </tr>\n",
       "  </thead>\n",
       "  <tbody>\n",
       "    <tr>\n",
       "      <th>0</th>\n",
       "      <td>1</td>\n",
       "      <td>60</td>\n",
       "      <td>65.0</td>\n",
       "      <td>8450</td>\n",
       "      <td>0</td>\n",
       "      <td>3.0</td>\n",
       "      <td>0</td>\n",
       "      <td>0</td>\n",
       "      <td>0</td>\n",
       "      <td>0</td>\n",
       "      <td>...</td>\n",
       "      <td>1.0</td>\n",
       "      <td>0.0</td>\n",
       "      <td>0.0</td>\n",
       "      <td>1.0</td>\n",
       "      <td>0.0</td>\n",
       "      <td>1.0</td>\n",
       "      <td>0.0</td>\n",
       "      <td>0.0</td>\n",
       "      <td>0.0</td>\n",
       "      <td>1.0</td>\n",
       "    </tr>\n",
       "    <tr>\n",
       "      <th>1</th>\n",
       "      <td>2</td>\n",
       "      <td>20</td>\n",
       "      <td>80.0</td>\n",
       "      <td>9600</td>\n",
       "      <td>0</td>\n",
       "      <td>3.0</td>\n",
       "      <td>0</td>\n",
       "      <td>0</td>\n",
       "      <td>0</td>\n",
       "      <td>1</td>\n",
       "      <td>...</td>\n",
       "      <td>0.0</td>\n",
       "      <td>1.0</td>\n",
       "      <td>0.0</td>\n",
       "      <td>0.0</td>\n",
       "      <td>1.0</td>\n",
       "      <td>0.0</td>\n",
       "      <td>0.0</td>\n",
       "      <td>1.0</td>\n",
       "      <td>0.0</td>\n",
       "      <td>0.0</td>\n",
       "    </tr>\n",
       "    <tr>\n",
       "      <th>2</th>\n",
       "      <td>3</td>\n",
       "      <td>60</td>\n",
       "      <td>68.0</td>\n",
       "      <td>11250</td>\n",
       "      <td>0</td>\n",
       "      <td>2.0</td>\n",
       "      <td>0</td>\n",
       "      <td>0</td>\n",
       "      <td>0</td>\n",
       "      <td>0</td>\n",
       "      <td>...</td>\n",
       "      <td>1.0</td>\n",
       "      <td>0.0</td>\n",
       "      <td>0.0</td>\n",
       "      <td>1.0</td>\n",
       "      <td>0.0</td>\n",
       "      <td>1.0</td>\n",
       "      <td>0.0</td>\n",
       "      <td>0.0</td>\n",
       "      <td>0.0</td>\n",
       "      <td>1.0</td>\n",
       "    </tr>\n",
       "    <tr>\n",
       "      <th>3</th>\n",
       "      <td>4</td>\n",
       "      <td>70</td>\n",
       "      <td>60.0</td>\n",
       "      <td>9550</td>\n",
       "      <td>0</td>\n",
       "      <td>2.0</td>\n",
       "      <td>0</td>\n",
       "      <td>0</td>\n",
       "      <td>0</td>\n",
       "      <td>0</td>\n",
       "      <td>...</td>\n",
       "      <td>0.0</td>\n",
       "      <td>0.0</td>\n",
       "      <td>1.0</td>\n",
       "      <td>0.0</td>\n",
       "      <td>1.0</td>\n",
       "      <td>0.0</td>\n",
       "      <td>0.0</td>\n",
       "      <td>0.0</td>\n",
       "      <td>1.0</td>\n",
       "      <td>0.0</td>\n",
       "    </tr>\n",
       "    <tr>\n",
       "      <th>4</th>\n",
       "      <td>5</td>\n",
       "      <td>60</td>\n",
       "      <td>84.0</td>\n",
       "      <td>14260</td>\n",
       "      <td>0</td>\n",
       "      <td>2.0</td>\n",
       "      <td>0</td>\n",
       "      <td>0</td>\n",
       "      <td>0</td>\n",
       "      <td>0</td>\n",
       "      <td>...</td>\n",
       "      <td>1.0</td>\n",
       "      <td>0.0</td>\n",
       "      <td>0.0</td>\n",
       "      <td>1.0</td>\n",
       "      <td>0.0</td>\n",
       "      <td>1.0</td>\n",
       "      <td>0.0</td>\n",
       "      <td>0.0</td>\n",
       "      <td>0.0</td>\n",
       "      <td>1.0</td>\n",
       "    </tr>\n",
       "  </tbody>\n",
       "</table>\n",
       "<p>5 rows × 91 columns</p>\n",
       "</div>"
      ],
      "text/plain": [
       "   Id  MSSubClass  LotFrontage  LotArea  Street  LotShape  LandContour  \\\n",
       "0   1          60         65.0     8450       0       3.0            0   \n",
       "1   2          20         80.0     9600       0       3.0            0   \n",
       "2   3          60         68.0    11250       0       2.0            0   \n",
       "3   4          70         60.0     9550       0       2.0            0   \n",
       "4   5          60         84.0    14260       0       2.0            0   \n",
       "\n",
       "   Utilities  LandSlope  Condition1  ...  Exterior1st_VinylSd  \\\n",
       "0          0          0           0  ...                  1.0   \n",
       "1          0          0           1  ...                  0.0   \n",
       "2          0          0           0  ...                  1.0   \n",
       "3          0          0           0  ...                  0.0   \n",
       "4          0          0           0  ...                  1.0   \n",
       "\n",
       "   Exterior2nd_MetalSd  Exterior2nd_Outro  Exterior2nd_VinylSd  MasVnrType_-1  \\\n",
       "0                  0.0                0.0                  1.0            0.0   \n",
       "1                  1.0                0.0                  0.0            1.0   \n",
       "2                  0.0                0.0                  1.0            0.0   \n",
       "3                  0.0                1.0                  0.0            1.0   \n",
       "4                  0.0                0.0                  1.0            0.0   \n",
       "\n",
       "   MasVnrType_BrkFace  MasVnrType_Outro  Foundation_CBlock  Foundation_Outro  \\\n",
       "0                 1.0               0.0                0.0               0.0   \n",
       "1                 0.0               0.0                1.0               0.0   \n",
       "2                 1.0               0.0                0.0               0.0   \n",
       "3                 0.0               0.0                0.0               1.0   \n",
       "4                 1.0               0.0                0.0               0.0   \n",
       "\n",
       "   Foundation_PConc  \n",
       "0               1.0  \n",
       "1               0.0  \n",
       "2               1.0  \n",
       "3               0.0  \n",
       "4               1.0  \n",
       "\n",
       "[5 rows x 91 columns]"
      ]
     },
     "execution_count": 182,
     "metadata": {},
     "output_type": "execute_result"
    }
   ],
   "source": [
    "base_train.head()"
   ]
  },
  {
   "cell_type": "code",
   "execution_count": 183,
   "id": "23b01c50",
   "metadata": {},
   "outputs": [
    {
     "name": "stdout",
     "output_type": "stream",
     "text": [
      "Index([], dtype='object')\n"
     ]
    }
   ],
   "source": [
    "# Observar se restaram colunas de texto\n",
    "print(base_train.select_dtypes(object).columns)"
   ]
  },
  {
   "cell_type": "markdown",
   "id": "c4c35afb",
   "metadata": {},
   "source": [
    "### Repetir procedimento para base de teste"
   ]
  },
  {
   "cell_type": "code",
   "execution_count": 184,
   "id": "f9cca5eb",
   "metadata": {},
   "outputs": [],
   "source": [
    "# Utilizando o OneHotEncoder\n",
    "ohe = OneHotEncoder()"
   ]
  },
  {
   "cell_type": "code",
   "execution_count": 185,
   "id": "c286f634",
   "metadata": {},
   "outputs": [],
   "source": [
    "# Fazendo o fit com os dados\n",
    "# Posso considerar mais de uma coluna no ohe\n",
    "ohe = ohe.fit(base_teste[col_rest])"
   ]
  },
  {
   "cell_type": "code",
   "execution_count": 186,
   "id": "793c2f59",
   "metadata": {},
   "outputs": [
    {
     "data": {
      "text/plain": [
       "array([[1., 0., 0., ..., 1., 0., 0.],\n",
       "       [0., 1., 0., ..., 1., 0., 0.],\n",
       "       [0., 1., 0., ..., 0., 0., 1.],\n",
       "       ...,\n",
       "       [0., 1., 0., ..., 1., 0., 0.],\n",
       "       [0., 1., 0., ..., 0., 0., 1.],\n",
       "       [0., 1., 0., ..., 0., 0., 1.]])"
      ]
     },
     "execution_count": 186,
     "metadata": {},
     "output_type": "execute_result"
    }
   ],
   "source": [
    "# Fazendo a transformação da coluna Embarked\n",
    "ohe.transform(base_teste[col_rest]).toarray()"
   ]
  },
  {
   "cell_type": "code",
   "execution_count": 187,
   "id": "a76c12dd",
   "metadata": {},
   "outputs": [],
   "source": [
    "# Podemos transformar esse resultado em um DataFrame\n",
    "ohe_df = pd.DataFrame(ohe.transform(base_teste[col_rest]).toarray())"
   ]
  },
  {
   "cell_type": "code",
   "execution_count": 188,
   "id": "449978be",
   "metadata": {},
   "outputs": [],
   "source": [
    "# Agora podemos utilizar o categories_ para nomear essas colunas\n",
    "ohe_df.columns = ohe.get_feature_names_out()"
   ]
  },
  {
   "cell_type": "code",
   "execution_count": 189,
   "id": "f998606f",
   "metadata": {},
   "outputs": [],
   "source": [
    "# Precisamos agora dropar as colunas antigas e concatenar essa base na base original\n",
    "base_teste = base_teste.drop(col_rest,axis=1)"
   ]
  },
  {
   "cell_type": "code",
   "execution_count": 190,
   "id": "c6aebced",
   "metadata": {},
   "outputs": [
    {
     "data": {
      "text/plain": [
       "(1459, 90)"
      ]
     },
     "execution_count": 190,
     "metadata": {},
     "output_type": "execute_result"
    }
   ],
   "source": [
    "# Concatenar\n",
    "base_teste = pd.concat([base_teste,ohe_df], axis=1)\n",
    "base_teste.shape"
   ]
  },
  {
   "cell_type": "code",
   "execution_count": 191,
   "id": "71b58b52",
   "metadata": {},
   "outputs": [
    {
     "data": {
      "text/html": [
       "<div>\n",
       "<style scoped>\n",
       "    .dataframe tbody tr th:only-of-type {\n",
       "        vertical-align: middle;\n",
       "    }\n",
       "\n",
       "    .dataframe tbody tr th {\n",
       "        vertical-align: top;\n",
       "    }\n",
       "\n",
       "    .dataframe thead th {\n",
       "        text-align: right;\n",
       "    }\n",
       "</style>\n",
       "<table border=\"1\" class=\"dataframe\">\n",
       "  <thead>\n",
       "    <tr style=\"text-align: right;\">\n",
       "      <th></th>\n",
       "      <th>Id</th>\n",
       "      <th>MSSubClass</th>\n",
       "      <th>LotFrontage</th>\n",
       "      <th>LotArea</th>\n",
       "      <th>Street</th>\n",
       "      <th>LotShape</th>\n",
       "      <th>LandContour</th>\n",
       "      <th>Utilities</th>\n",
       "      <th>LandSlope</th>\n",
       "      <th>Condition1</th>\n",
       "      <th>...</th>\n",
       "      <th>Exterior1st_VinylSd</th>\n",
       "      <th>Exterior2nd_MetalSd</th>\n",
       "      <th>Exterior2nd_Outro</th>\n",
       "      <th>Exterior2nd_VinylSd</th>\n",
       "      <th>MasVnrType_-1</th>\n",
       "      <th>MasVnrType_BrkFace</th>\n",
       "      <th>MasVnrType_Outro</th>\n",
       "      <th>Foundation_CBlock</th>\n",
       "      <th>Foundation_Outro</th>\n",
       "      <th>Foundation_PConc</th>\n",
       "    </tr>\n",
       "  </thead>\n",
       "  <tbody>\n",
       "    <tr>\n",
       "      <th>0</th>\n",
       "      <td>1461</td>\n",
       "      <td>20</td>\n",
       "      <td>80.0</td>\n",
       "      <td>11622</td>\n",
       "      <td>0</td>\n",
       "      <td>3.0</td>\n",
       "      <td>0</td>\n",
       "      <td>0</td>\n",
       "      <td>0</td>\n",
       "      <td>1</td>\n",
       "      <td>...</td>\n",
       "      <td>1.0</td>\n",
       "      <td>0.0</td>\n",
       "      <td>0.0</td>\n",
       "      <td>1.0</td>\n",
       "      <td>1.0</td>\n",
       "      <td>0.0</td>\n",
       "      <td>0.0</td>\n",
       "      <td>1.0</td>\n",
       "      <td>0.0</td>\n",
       "      <td>0.0</td>\n",
       "    </tr>\n",
       "    <tr>\n",
       "      <th>1</th>\n",
       "      <td>1462</td>\n",
       "      <td>20</td>\n",
       "      <td>81.0</td>\n",
       "      <td>14267</td>\n",
       "      <td>0</td>\n",
       "      <td>2.0</td>\n",
       "      <td>0</td>\n",
       "      <td>0</td>\n",
       "      <td>0</td>\n",
       "      <td>0</td>\n",
       "      <td>...</td>\n",
       "      <td>0.0</td>\n",
       "      <td>0.0</td>\n",
       "      <td>1.0</td>\n",
       "      <td>0.0</td>\n",
       "      <td>0.0</td>\n",
       "      <td>1.0</td>\n",
       "      <td>0.0</td>\n",
       "      <td>1.0</td>\n",
       "      <td>0.0</td>\n",
       "      <td>0.0</td>\n",
       "    </tr>\n",
       "    <tr>\n",
       "      <th>2</th>\n",
       "      <td>1463</td>\n",
       "      <td>60</td>\n",
       "      <td>74.0</td>\n",
       "      <td>13830</td>\n",
       "      <td>0</td>\n",
       "      <td>2.0</td>\n",
       "      <td>0</td>\n",
       "      <td>0</td>\n",
       "      <td>0</td>\n",
       "      <td>0</td>\n",
       "      <td>...</td>\n",
       "      <td>1.0</td>\n",
       "      <td>0.0</td>\n",
       "      <td>0.0</td>\n",
       "      <td>1.0</td>\n",
       "      <td>1.0</td>\n",
       "      <td>0.0</td>\n",
       "      <td>0.0</td>\n",
       "      <td>0.0</td>\n",
       "      <td>0.0</td>\n",
       "      <td>1.0</td>\n",
       "    </tr>\n",
       "    <tr>\n",
       "      <th>3</th>\n",
       "      <td>1464</td>\n",
       "      <td>60</td>\n",
       "      <td>78.0</td>\n",
       "      <td>9978</td>\n",
       "      <td>0</td>\n",
       "      <td>2.0</td>\n",
       "      <td>0</td>\n",
       "      <td>0</td>\n",
       "      <td>0</td>\n",
       "      <td>0</td>\n",
       "      <td>...</td>\n",
       "      <td>1.0</td>\n",
       "      <td>0.0</td>\n",
       "      <td>0.0</td>\n",
       "      <td>1.0</td>\n",
       "      <td>0.0</td>\n",
       "      <td>1.0</td>\n",
       "      <td>0.0</td>\n",
       "      <td>0.0</td>\n",
       "      <td>0.0</td>\n",
       "      <td>1.0</td>\n",
       "    </tr>\n",
       "    <tr>\n",
       "      <th>4</th>\n",
       "      <td>1465</td>\n",
       "      <td>120</td>\n",
       "      <td>43.0</td>\n",
       "      <td>5005</td>\n",
       "      <td>0</td>\n",
       "      <td>2.0</td>\n",
       "      <td>1</td>\n",
       "      <td>0</td>\n",
       "      <td>0</td>\n",
       "      <td>0</td>\n",
       "      <td>...</td>\n",
       "      <td>0.0</td>\n",
       "      <td>0.0</td>\n",
       "      <td>1.0</td>\n",
       "      <td>0.0</td>\n",
       "      <td>1.0</td>\n",
       "      <td>0.0</td>\n",
       "      <td>0.0</td>\n",
       "      <td>0.0</td>\n",
       "      <td>0.0</td>\n",
       "      <td>1.0</td>\n",
       "    </tr>\n",
       "  </tbody>\n",
       "</table>\n",
       "<p>5 rows × 90 columns</p>\n",
       "</div>"
      ],
      "text/plain": [
       "     Id  MSSubClass  LotFrontage  LotArea  Street  LotShape  LandContour  \\\n",
       "0  1461          20         80.0    11622       0       3.0            0   \n",
       "1  1462          20         81.0    14267       0       2.0            0   \n",
       "2  1463          60         74.0    13830       0       2.0            0   \n",
       "3  1464          60         78.0     9978       0       2.0            0   \n",
       "4  1465         120         43.0     5005       0       2.0            1   \n",
       "\n",
       "   Utilities  LandSlope  Condition1  ...  Exterior1st_VinylSd  \\\n",
       "0          0          0           1  ...                  1.0   \n",
       "1          0          0           0  ...                  0.0   \n",
       "2          0          0           0  ...                  1.0   \n",
       "3          0          0           0  ...                  1.0   \n",
       "4          0          0           0  ...                  0.0   \n",
       "\n",
       "   Exterior2nd_MetalSd  Exterior2nd_Outro  Exterior2nd_VinylSd  MasVnrType_-1  \\\n",
       "0                  0.0                0.0                  1.0            1.0   \n",
       "1                  0.0                1.0                  0.0            0.0   \n",
       "2                  0.0                0.0                  1.0            1.0   \n",
       "3                  0.0                0.0                  1.0            0.0   \n",
       "4                  0.0                1.0                  0.0            1.0   \n",
       "\n",
       "   MasVnrType_BrkFace  MasVnrType_Outro  Foundation_CBlock  Foundation_Outro  \\\n",
       "0                 0.0               0.0                1.0               0.0   \n",
       "1                 1.0               0.0                1.0               0.0   \n",
       "2                 0.0               0.0                0.0               0.0   \n",
       "3                 1.0               0.0                0.0               0.0   \n",
       "4                 0.0               0.0                0.0               0.0   \n",
       "\n",
       "   Foundation_PConc  \n",
       "0               0.0  \n",
       "1               0.0  \n",
       "2               1.0  \n",
       "3               1.0  \n",
       "4               1.0  \n",
       "\n",
       "[5 rows x 90 columns]"
      ]
     },
     "execution_count": 191,
     "metadata": {},
     "output_type": "execute_result"
    }
   ],
   "source": [
    "base_teste.head()"
   ]
  },
  {
   "cell_type": "code",
   "execution_count": 192,
   "id": "b7295d35",
   "metadata": {},
   "outputs": [
    {
     "name": "stdout",
     "output_type": "stream",
     "text": [
      "Index([], dtype='object')\n"
     ]
    }
   ],
   "source": [
    "# Observar se restaram colunas de texto\n",
    "print(base_teste.select_dtypes(object).columns)"
   ]
  },
  {
   "cell_type": "markdown",
   "id": "26491179",
   "metadata": {},
   "source": [
    "## Checkpoint 3\n",
    "- Terceira base para observar o desempenho nos modelos que forem escolhidos"
   ]
  },
  {
   "cell_type": "code",
   "execution_count": 195,
   "id": "4b8d4372",
   "metadata": {},
   "outputs": [],
   "source": [
    "# Exportando a base de treino e teste\n",
    "base_train.to_csv('train_3.csv',index=False)\n",
    "base_teste.to_csv('test_3.csv',index=False)"
   ]
  }
 ],
 "metadata": {
  "kernelspec": {
   "display_name": "Python 3 (ipykernel)",
   "language": "python",
   "name": "python3"
  },
  "language_info": {
   "codemirror_mode": {
    "name": "ipython",
    "version": 3
   },
   "file_extension": ".py",
   "mimetype": "text/x-python",
   "name": "python",
   "nbconvert_exporter": "python",
   "pygments_lexer": "ipython3",
   "version": "3.11.5"
  }
 },
 "nbformat": 4,
 "nbformat_minor": 5
}
