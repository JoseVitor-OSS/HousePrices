{
 "cells": [
  {
   "cell_type": "markdown",
   "id": "9ab1f7a6",
   "metadata": {},
   "source": [
    "# House Prices - Advanced Regression Techniques\n",
    "(Preços de casas - Técnicas Avançadas de Regressão)\n",
    "\n",
    "<img src=\"https://storage.googleapis.com/kaggle-media/competitions/House%20Prices/kaggle_5407_media_housesbanner.png\" width=800>\n",
    "\n",
    "\n",
    "- Vamos utilizar o [dataset disponível no Kaggle](https://www.kaggle.com/competitions/house-prices-advanced-regression-techniques/overview)\n",
    "    - É um dataset de **competição**\n",
    "    - Temos uma base com a **descrição de cada uma das colunas (data_description.txt)**\n",
    "- **Etapas do Projeto:**\n",
    "    - O projeto será realizado aplicando submissões no kaggle a medida que o tratamento dos dados forem tomando forma, isso possibilita verificar o desempenho dos modelos preditivos a modificações específicas neste tratamento."
   ]
  },
  {
   "cell_type": "code",
   "execution_count": 172,
   "id": "fe3f810d",
   "metadata": {},
   "outputs": [],
   "source": [
    "# importando o pandas\n",
    "import pandas as pd"
   ]
  },
  {
   "cell_type": "code",
   "execution_count": 173,
   "id": "6f80d400",
   "metadata": {},
   "outputs": [],
   "source": [
    "# Importando as bases de treino e teste disponibilizadas\n",
    "base_train = pd.read_csv(\"train.csv\")\n",
    "base_teste = pd.read_csv(\"test.csv\")         "
   ]
  },
  {
   "cell_type": "markdown",
   "id": "25c0bfd1",
   "metadata": {},
   "source": [
    "### Primeira observação\n",
    "- A base possui muitas colunas e relativamento poucas linhas\n",
    "- Isso deve ser considerado na escolha dos modelos\n",
    "- Essa característica pode tender a Overfitting"
   ]
  },
  {
   "cell_type": "code",
   "execution_count": 174,
   "id": "c04310cd",
   "metadata": {},
   "outputs": [
    {
     "name": "stdout",
     "output_type": "stream",
     "text": [
      "(1460, 81)\n",
      "(1459, 80)\n"
     ]
    }
   ],
   "source": [
    "# Observar shape das bases\n",
    "print(base_train.shape)\n",
    "print(base_teste.shape)"
   ]
  },
  {
   "cell_type": "code",
   "execution_count": 175,
   "id": "4105492e",
   "metadata": {},
   "outputs": [
    {
     "name": "stdout",
     "output_type": "stream",
     "text": [
      "<class 'pandas.core.frame.DataFrame'>\n",
      "RangeIndex: 1460 entries, 0 to 1459\n",
      "Data columns (total 81 columns):\n",
      " #   Column         Non-Null Count  Dtype  \n",
      "---  ------         --------------  -----  \n",
      " 0   Id             1460 non-null   int64  \n",
      " 1   MSSubClass     1460 non-null   int64  \n",
      " 2   MSZoning       1460 non-null   object \n",
      " 3   LotFrontage    1201 non-null   float64\n",
      " 4   LotArea        1460 non-null   int64  \n",
      " 5   Street         1460 non-null   object \n",
      " 6   Alley          91 non-null     object \n",
      " 7   LotShape       1460 non-null   object \n",
      " 8   LandContour    1460 non-null   object \n",
      " 9   Utilities      1460 non-null   object \n",
      " 10  LotConfig      1460 non-null   object \n",
      " 11  LandSlope      1460 non-null   object \n",
      " 12  Neighborhood   1460 non-null   object \n",
      " 13  Condition1     1460 non-null   object \n",
      " 14  Condition2     1460 non-null   object \n",
      " 15  BldgType       1460 non-null   object \n",
      " 16  HouseStyle     1460 non-null   object \n",
      " 17  OverallQual    1460 non-null   int64  \n",
      " 18  OverallCond    1460 non-null   int64  \n",
      " 19  YearBuilt      1460 non-null   int64  \n",
      " 20  YearRemodAdd   1460 non-null   int64  \n",
      " 21  RoofStyle      1460 non-null   object \n",
      " 22  RoofMatl       1460 non-null   object \n",
      " 23  Exterior1st    1460 non-null   object \n",
      " 24  Exterior2nd    1460 non-null   object \n",
      " 25  MasVnrType     588 non-null    object \n",
      " 26  MasVnrArea     1452 non-null   float64\n",
      " 27  ExterQual      1460 non-null   object \n",
      " 28  ExterCond      1460 non-null   object \n",
      " 29  Foundation     1460 non-null   object \n",
      " 30  BsmtQual       1423 non-null   object \n",
      " 31  BsmtCond       1423 non-null   object \n",
      " 32  BsmtExposure   1422 non-null   object \n",
      " 33  BsmtFinType1   1423 non-null   object \n",
      " 34  BsmtFinSF1     1460 non-null   int64  \n",
      " 35  BsmtFinType2   1422 non-null   object \n",
      " 36  BsmtFinSF2     1460 non-null   int64  \n",
      " 37  BsmtUnfSF      1460 non-null   int64  \n",
      " 38  TotalBsmtSF    1460 non-null   int64  \n",
      " 39  Heating        1460 non-null   object \n",
      " 40  HeatingQC      1460 non-null   object \n",
      " 41  CentralAir     1460 non-null   object \n",
      " 42  Electrical     1459 non-null   object \n",
      " 43  1stFlrSF       1460 non-null   int64  \n",
      " 44  2ndFlrSF       1460 non-null   int64  \n",
      " 45  LowQualFinSF   1460 non-null   int64  \n",
      " 46  GrLivArea      1460 non-null   int64  \n",
      " 47  BsmtFullBath   1460 non-null   int64  \n",
      " 48  BsmtHalfBath   1460 non-null   int64  \n",
      " 49  FullBath       1460 non-null   int64  \n",
      " 50  HalfBath       1460 non-null   int64  \n",
      " 51  BedroomAbvGr   1460 non-null   int64  \n",
      " 52  KitchenAbvGr   1460 non-null   int64  \n",
      " 53  KitchenQual    1460 non-null   object \n",
      " 54  TotRmsAbvGrd   1460 non-null   int64  \n",
      " 55  Functional     1460 non-null   object \n",
      " 56  Fireplaces     1460 non-null   int64  \n",
      " 57  FireplaceQu    770 non-null    object \n",
      " 58  GarageType     1379 non-null   object \n",
      " 59  GarageYrBlt    1379 non-null   float64\n",
      " 60  GarageFinish   1379 non-null   object \n",
      " 61  GarageCars     1460 non-null   int64  \n",
      " 62  GarageArea     1460 non-null   int64  \n",
      " 63  GarageQual     1379 non-null   object \n",
      " 64  GarageCond     1379 non-null   object \n",
      " 65  PavedDrive     1460 non-null   object \n",
      " 66  WoodDeckSF     1460 non-null   int64  \n",
      " 67  OpenPorchSF    1460 non-null   int64  \n",
      " 68  EnclosedPorch  1460 non-null   int64  \n",
      " 69  3SsnPorch      1460 non-null   int64  \n",
      " 70  ScreenPorch    1460 non-null   int64  \n",
      " 71  PoolArea       1460 non-null   int64  \n",
      " 72  PoolQC         7 non-null      object \n",
      " 73  Fence          281 non-null    object \n",
      " 74  MiscFeature    54 non-null     object \n",
      " 75  MiscVal        1460 non-null   int64  \n",
      " 76  MoSold         1460 non-null   int64  \n",
      " 77  YrSold         1460 non-null   int64  \n",
      " 78  SaleType       1460 non-null   object \n",
      " 79  SaleCondition  1460 non-null   object \n",
      " 80  SalePrice      1460 non-null   int64  \n",
      "dtypes: float64(3), int64(35), object(43)\n",
      "memory usage: 924.0+ KB\n"
     ]
    }
   ],
   "source": [
    "# Informações\n",
    "base_train.info()"
   ]
  },
  {
   "cell_type": "markdown",
   "id": "3d95d279",
   "metadata": {},
   "source": [
    "### Pequena predominância de colunas categóricas até agora\n",
    "- 43 colunas categóricas\n",
    "- 37 colunas numéricas"
   ]
  },
  {
   "cell_type": "code",
   "execution_count": 176,
   "id": "f1daf8d2",
   "metadata": {},
   "outputs": [
    {
     "data": {
      "text/plain": [
       "43"
      ]
     },
     "execution_count": 176,
     "metadata": {},
     "output_type": "execute_result"
    }
   ],
   "source": [
    "# Contar colunas do tipo object na base de treino\n",
    "train_obj = base_train.select_dtypes(include=['object'])\n",
    "len(train_obj.columns)"
   ]
  },
  {
   "cell_type": "markdown",
   "id": "f8215f76",
   "metadata": {},
   "source": [
    "## Analisar se as colunas com valores ausentes realmente representa problema na base\n",
    "- Caso não seja problema da base posso tratar como uma informação\n",
    "- Observar descrição da base"
   ]
  },
  {
   "cell_type": "code",
   "execution_count": 177,
   "id": "ad3f8212",
   "metadata": {},
   "outputs": [
    {
     "data": {
      "text/plain": [
       "PoolQC          1453\n",
       "MiscFeature     1406\n",
       "Alley           1369\n",
       "Fence           1179\n",
       "MasVnrType       872\n",
       "FireplaceQu      690\n",
       "LotFrontage      259\n",
       "GarageType        81\n",
       "GarageYrBlt       81\n",
       "GarageFinish      81\n",
       "GarageQual        81\n",
       "GarageCond        81\n",
       "BsmtFinType2      38\n",
       "BsmtExposure      38\n",
       "BsmtFinType1      37\n",
       "BsmtCond          37\n",
       "BsmtQual          37\n",
       "MasVnrArea         8\n",
       "Electrical         1\n",
       "dtype: int64"
      ]
     },
     "execution_count": 177,
     "metadata": {},
     "output_type": "execute_result"
    }
   ],
   "source": [
    "base_train[base_train.columns[base_train.isnull().sum()>0]].isnull().sum().sort_values(ascending=False)"
   ]
  },
  {
   "cell_type": "markdown",
   "id": "84a7c9ef",
   "metadata": {},
   "source": [
    "## Descartar colunas com muitos valores ausentes\n",
    "- Antes de descartar preciso verificar se esses valores ausentes realmente é um problema da base ou tem um significado\n",
    "- O critério aqui adotado é descartar features com mais de 20% de valores nulos\n",
    "- Um baixo percentual devido a base já possuir poucas linhas"
   ]
  },
  {
   "cell_type": "code",
   "execution_count": 178,
   "id": "b5fd2bf0",
   "metadata": {},
   "outputs": [
    {
     "data": {
      "text/plain": [
       "PoolQC          99.520548\n",
       "MiscFeature     96.301370\n",
       "Alley           93.767123\n",
       "Fence           80.753425\n",
       "MasVnrType      59.726027\n",
       "FireplaceQu     47.260274\n",
       "LotFrontage     17.739726\n",
       "GarageType       5.547945\n",
       "GarageYrBlt      5.547945\n",
       "GarageFinish     5.547945\n",
       "GarageQual       5.547945\n",
       "GarageCond       5.547945\n",
       "BsmtFinType2     2.602740\n",
       "BsmtExposure     2.602740\n",
       "BsmtFinType1     2.534247\n",
       "BsmtCond         2.534247\n",
       "BsmtQual         2.534247\n",
       "MasVnrArea       0.547945\n",
       "Electrical       0.068493\n",
       "dtype: float64"
      ]
     },
     "execution_count": 178,
     "metadata": {},
     "output_type": "execute_result"
    }
   ],
   "source": [
    "(base_train[base_train.columns[base_train.isnull().sum() > 0]].isnull().sum().sort_values(ascending=False)/base_train.shape[0])*100"
   ]
  },
  {
   "cell_type": "markdown",
   "id": "a8917ceb",
   "metadata": {},
   "source": [
    "**A descrição informa que os valores nulos da coluna PoolQC significam que a casa não possuem piscina**\n",
    "- Poderia considerar essa informação, porém, apenas um percentual insignificante dos dados possuem piscina\n",
    "- Posso descartar essa coluna e outras que possuam informalção sobre piscina, no caso, a PoolArea"
   ]
  },
  {
   "cell_type": "code",
   "execution_count": 179,
   "id": "a1a7ec03",
   "metadata": {},
   "outputs": [
    {
     "data": {
      "text/plain": [
       "0.0"
      ]
     },
     "execution_count": 179,
     "metadata": {},
     "output_type": "execute_result"
    }
   ],
   "source": [
    "# Demonstrando que mais de 99% dos dados dessa base correspondem a 0\n",
    "base_train.PoolArea.quantile(0.99)"
   ]
  },
  {
   "cell_type": "code",
   "execution_count": 180,
   "id": "8bd55503",
   "metadata": {},
   "outputs": [],
   "source": [
    "# Dropar colunas PoolQC e PoolArea nas bases de treino e teste\n",
    "base_train = base_train.drop(['PoolQC','PoolArea'],axis=1)\n",
    "base_teste = base_teste.drop(['PoolQC','PoolArea'],axis=1)"
   ]
  },
  {
   "cell_type": "markdown",
   "id": "08c0b6cb",
   "metadata": {},
   "source": [
    "**Devido a pequena quantidade de linhas, os dados que apresentam um valor com predominancia acima de 80% também serão descartados**\n",
    "- Na coluna Fence os valores nulos significam que não possui cerca, porém, pelo critéri citado, também será descartada "
   ]
  },
  {
   "cell_type": "code",
   "execution_count": 181,
   "id": "1fdfc650",
   "metadata": {},
   "outputs": [],
   "source": [
    "base_train = base_train.drop(['MiscFeature','Alley','Fence'],axis=1)\n",
    "base_teste = base_teste.drop(['MiscFeature','Alley','Fence'],axis=1)"
   ]
  },
  {
   "cell_type": "code",
   "execution_count": 182,
   "id": "7c16d379",
   "metadata": {},
   "outputs": [
    {
     "data": {
      "text/plain": [
       "MasVnrType      59.726027\n",
       "FireplaceQu     47.260274\n",
       "LotFrontage     17.739726\n",
       "GarageType       5.547945\n",
       "GarageYrBlt      5.547945\n",
       "GarageFinish     5.547945\n",
       "GarageQual       5.547945\n",
       "GarageCond       5.547945\n",
       "BsmtExposure     2.602740\n",
       "BsmtFinType2     2.602740\n",
       "BsmtQual         2.534247\n",
       "BsmtCond         2.534247\n",
       "BsmtFinType1     2.534247\n",
       "MasVnrArea       0.547945\n",
       "Electrical       0.068493\n",
       "dtype: float64"
      ]
     },
     "execution_count": 182,
     "metadata": {},
     "output_type": "execute_result"
    }
   ],
   "source": [
    "# Verificar colunas restantes\n",
    "(base_train[base_train.columns[base_train.isnull().sum() > 0]].isnull().sum().sort_values(ascending=False)/base_train.shape[0])*100"
   ]
  },
  {
   "cell_type": "markdown",
   "id": "82caddab",
   "metadata": {},
   "source": [
    "**Não há informação sobre os nulos da coluna MasVnrType**\n",
    "- Porém, existe outra coluna com valores parecidos que podem ser comparados"
   ]
  },
  {
   "cell_type": "code",
   "execution_count": 183,
   "id": "c6677bf6",
   "metadata": {},
   "outputs": [
    {
     "data": {
      "text/plain": [
       "MasVnrType  MasVnrArea\n",
       "NaN         0.0           859\n",
       "            NaN             8\n",
       "BrkFace     180.0           7\n",
       "            120.0           7\n",
       "            16.0            6\n",
       "                         ... \n",
       "            278.0           1\n",
       "            272.0           1\n",
       "            263.0           1\n",
       "            262.0           1\n",
       "BrkCmn      41.0            1\n",
       "Name: count, Length: 402, dtype: int64"
      ]
     },
     "execution_count": 183,
     "metadata": {},
     "output_type": "execute_result"
    }
   ],
   "source": [
    "# Os valores nulos em Type provavelmente significa ausencia dele quando a Area tem valor 0\n",
    "base_train[['MasVnrType','MasVnrArea']].value_counts(dropna=False)"
   ]
  },
  {
   "cell_type": "code",
   "execution_count": 184,
   "id": "277e12d9",
   "metadata": {},
   "outputs": [],
   "source": [
    "# Substituir por -1 quando a área for 0\n",
    "base_train.loc[base_train.MasVnrType.isnull() & (base_train.MasVnrArea == 0),'MasVnrType'] = '-1'"
   ]
  },
  {
   "cell_type": "code",
   "execution_count": 185,
   "id": "59153cfc",
   "metadata": {},
   "outputs": [
    {
     "data": {
      "text/plain": [
       "MasVnrType  MasVnrArea\n",
       "-1          0.0           859\n",
       "NaN         NaN             8\n",
       "BrkFace     120.0           7\n",
       "            180.0           7\n",
       "            16.0            6\n",
       "                         ... \n",
       "            361.0           1\n",
       "            57.0            1\n",
       "            365.0           1\n",
       "            368.0           1\n",
       "BrkCmn      66.0            1\n",
       "Name: count, Length: 402, dtype: int64"
      ]
     },
     "execution_count": 185,
     "metadata": {},
     "output_type": "execute_result"
    }
   ],
   "source": [
    "# Nos casos onde ambos são NaN podemos substituir o Type pela moda e a Area pela mediana\n",
    "base_train[['MasVnrType','MasVnrArea']].value_counts(dropna=False)"
   ]
  },
  {
   "cell_type": "code",
   "execution_count": 186,
   "id": "0eaaced2",
   "metadata": {},
   "outputs": [],
   "source": [
    "# Tratar demais valores\n",
    "base_train.MasVnrArea.fillna(base_train.MasVnrArea.median(),inplace=True) \n",
    "base_train.loc[base_train.MasVnrType.isnull(),'MasVnrType'] = '-1'"
   ]
  },
  {
   "cell_type": "code",
   "execution_count": 187,
   "id": "eb41d294",
   "metadata": {},
   "outputs": [
    {
     "data": {
      "text/plain": [
       "MasVnrType  MasVnrArea\n",
       "-1          0.0           867\n",
       "BrkFace     120.0           7\n",
       "            180.0           7\n",
       "            80.0            6\n",
       "            108.0           6\n",
       "                         ... \n",
       "            256.0           1\n",
       "            255.0           1\n",
       "            254.0           1\n",
       "            250.0           1\n",
       "Stone       860.0           1\n",
       "Name: count, Length: 401, dtype: int64"
      ]
     },
     "execution_count": 187,
     "metadata": {},
     "output_type": "execute_result"
    }
   ],
   "source": [
    "base_train[['MasVnrType','MasVnrArea']].value_counts(dropna=False)"
   ]
  },
  {
   "cell_type": "markdown",
   "id": "4dd128f7",
   "metadata": {},
   "source": [
    "**Repetir procedimento na base de teste**"
   ]
  },
  {
   "cell_type": "code",
   "execution_count": 188,
   "id": "afd62c09",
   "metadata": {},
   "outputs": [
    {
     "data": {
      "text/plain": [
       "MasVnrType  MasVnrArea\n",
       "NaN         0.0           876\n",
       "            NaN            15\n",
       "BrkFace     176.0           8\n",
       "            200.0           7\n",
       "            216.0           6\n",
       "                         ... \n",
       "            283.0           1\n",
       "            278.0           1\n",
       "            276.0           1\n",
       "            275.0           1\n",
       "            332.0           1\n",
       "Name: count, Length: 371, dtype: int64"
      ]
     },
     "execution_count": 188,
     "metadata": {},
     "output_type": "execute_result"
    }
   ],
   "source": [
    "base_teste[['MasVnrType','MasVnrArea']].value_counts(dropna=False)"
   ]
  },
  {
   "cell_type": "code",
   "execution_count": 189,
   "id": "bff08c0a",
   "metadata": {},
   "outputs": [],
   "source": [
    "# Substituir por -1 quando a área for 0\n",
    "base_teste.loc[base_teste.MasVnrType.isnull() & (base_teste.MasVnrArea == 0),'MasVnrType'] = '-1'"
   ]
  },
  {
   "cell_type": "code",
   "execution_count": 190,
   "id": "6f23a83a",
   "metadata": {},
   "outputs": [],
   "source": [
    "# Tratar demais valores\n",
    "base_teste.MasVnrArea.fillna(base_teste.MasVnrArea.median(),inplace=True) \n",
    "base_teste.loc[base_teste.MasVnrType.isnull(),'MasVnrType'] = base_teste.MasVnrType.mode()[0]"
   ]
  },
  {
   "cell_type": "code",
   "execution_count": 191,
   "id": "befe3350",
   "metadata": {},
   "outputs": [
    {
     "data": {
      "text/plain": [
       "MasVnrType  MasVnrArea\n",
       "-1          0.0           891\n",
       "BrkFace     176.0           8\n",
       "            200.0           7\n",
       "            144.0           6\n",
       "            504.0           6\n",
       "                         ... \n",
       "            359.0           1\n",
       "            89.0            1\n",
       "            364.0           1\n",
       "            365.0           1\n",
       "Stone       1224.0          1\n",
       "Name: count, Length: 370, dtype: int64"
      ]
     },
     "execution_count": 191,
     "metadata": {},
     "output_type": "execute_result"
    }
   ],
   "source": [
    "# Nos casos onde ambos são NaN podemos substituir o Type pela moda e a Area pela mediana\n",
    "base_teste[['MasVnrType','MasVnrArea']].value_counts(dropna=False)"
   ]
  },
  {
   "cell_type": "code",
   "execution_count": 192,
   "id": "d63d86fc",
   "metadata": {},
   "outputs": [
    {
     "data": {
      "text/plain": [
       "FireplaceQu     47.260274\n",
       "LotFrontage     17.739726\n",
       "GarageType       5.547945\n",
       "GarageYrBlt      5.547945\n",
       "GarageFinish     5.547945\n",
       "GarageQual       5.547945\n",
       "GarageCond       5.547945\n",
       "BsmtExposure     2.602740\n",
       "BsmtFinType2     2.602740\n",
       "BsmtQual         2.534247\n",
       "BsmtCond         2.534247\n",
       "BsmtFinType1     2.534247\n",
       "Electrical       0.068493\n",
       "dtype: float64"
      ]
     },
     "execution_count": 192,
     "metadata": {},
     "output_type": "execute_result"
    }
   ],
   "source": [
    "(base_train[base_train.columns[base_train.isnull().sum() > 0]].isnull().sum().sort_values(ascending=False)/base_train.shape[0])*100"
   ]
  },
  {
   "cell_type": "markdown",
   "id": "79e95903",
   "metadata": {},
   "source": [
    "**Coluna FireplaceQu**\n",
    "- A descrição dos dados aponta que significa ausencia de Fireplaces os casos onde esta nulo"
   ]
  },
  {
   "cell_type": "code",
   "execution_count": 193,
   "id": "157f2cd8",
   "metadata": {},
   "outputs": [
    {
     "data": {
      "text/plain": [
       "FireplaceQu  Fireplaces\n",
       "NaN          0             690\n",
       "Gd           1             324\n",
       "TA           1             259\n",
       "Gd           2              54\n",
       "TA           2              53\n",
       "Fa           1              28\n",
       "Po           1              20\n",
       "Ex           1              19\n",
       "             2               4\n",
       "Fa           2               4\n",
       "Gd           3               2\n",
       "Ex           3               1\n",
       "Fa           3               1\n",
       "TA           3               1\n",
       "Name: count, dtype: int64"
      ]
     },
     "execution_count": 193,
     "metadata": {},
     "output_type": "execute_result"
    }
   ],
   "source": [
    "# Podemos notar que todos os nulos aqui se referem a casas sem lareira\n",
    "base_train[['FireplaceQu','Fireplaces']].value_counts(dropna=False)"
   ]
  },
  {
   "cell_type": "code",
   "execution_count": 194,
   "id": "c3ab8155",
   "metadata": {},
   "outputs": [],
   "source": [
    "base_train.loc[base_train.FireplaceQu.isnull(), 'FireplaceQu'] = '-1'"
   ]
  },
  {
   "cell_type": "code",
   "execution_count": 195,
   "id": "da5361ef",
   "metadata": {},
   "outputs": [
    {
     "data": {
      "text/plain": [
       "FireplaceQu  Fireplaces\n",
       "-1           0             690\n",
       "Gd           1             324\n",
       "TA           1             259\n",
       "Gd           2              54\n",
       "TA           2              53\n",
       "Fa           1              28\n",
       "Po           1              20\n",
       "Ex           1              19\n",
       "             2               4\n",
       "Fa           2               4\n",
       "Gd           3               2\n",
       "Ex           3               1\n",
       "Fa           3               1\n",
       "TA           3               1\n",
       "Name: count, dtype: int64"
      ]
     },
     "execution_count": 195,
     "metadata": {},
     "output_type": "execute_result"
    }
   ],
   "source": [
    "base_train[['FireplaceQu','Fireplaces']].value_counts(dropna=False)"
   ]
  },
  {
   "cell_type": "markdown",
   "id": "f052ddd9",
   "metadata": {},
   "source": [
    "**Base de teste**"
   ]
  },
  {
   "cell_type": "code",
   "execution_count": 196,
   "id": "2392524a",
   "metadata": {},
   "outputs": [
    {
     "data": {
      "text/plain": [
       "FireplaceQu  Fireplaces\n",
       "NaN          0             730\n",
       "Gd           1             303\n",
       "TA           1             236\n",
       "Gd           2              58\n",
       "TA           2              39\n",
       "Fa           1              35\n",
       "Po           1              26\n",
       "Ex           1              18\n",
       "Fa           2               6\n",
       "Gd           3               3\n",
       "TA           3               3\n",
       "Ex           2               1\n",
       "TA           4               1\n",
       "Name: count, dtype: int64"
      ]
     },
     "execution_count": 196,
     "metadata": {},
     "output_type": "execute_result"
    }
   ],
   "source": [
    "base_teste[['FireplaceQu','Fireplaces']].value_counts(dropna=False)"
   ]
  },
  {
   "cell_type": "code",
   "execution_count": 197,
   "id": "b4e0792d",
   "metadata": {},
   "outputs": [],
   "source": [
    "base_teste.loc[base_teste.FireplaceQu.isnull(), 'FireplaceQu'] = '-1'"
   ]
  },
  {
   "cell_type": "code",
   "execution_count": 198,
   "id": "ba533952",
   "metadata": {},
   "outputs": [
    {
     "data": {
      "text/plain": [
       "LotFrontage     17.739726\n",
       "GarageType       5.547945\n",
       "GarageYrBlt      5.547945\n",
       "GarageFinish     5.547945\n",
       "GarageQual       5.547945\n",
       "GarageCond       5.547945\n",
       "BsmtExposure     2.602740\n",
       "BsmtFinType2     2.602740\n",
       "BsmtQual         2.534247\n",
       "BsmtCond         2.534247\n",
       "BsmtFinType1     2.534247\n",
       "Electrical       0.068493\n",
       "dtype: float64"
      ]
     },
     "execution_count": 198,
     "metadata": {},
     "output_type": "execute_result"
    }
   ],
   "source": [
    "(base_train[base_train.columns[base_train.isnull().sum() > 0]].isnull().sum().sort_values(ascending=False)/base_train.shape[0])*100"
   ]
  },
  {
   "cell_type": "markdown",
   "id": "75eee1b1",
   "metadata": {},
   "source": [
    "**LotFrontage**\n",
    "- Não tem informações relevantes a respeito dos valores nulos nem parece fazer sentido possuir um valor 0\n",
    "- Substituir pela mediana"
   ]
  },
  {
   "cell_type": "code",
   "execution_count": 199,
   "id": "0c80fced",
   "metadata": {},
   "outputs": [],
   "source": [
    "base_train.LotFrontage.fillna(base_train.LotFrontage.median(),inplace=True)\n",
    "base_teste.LotFrontage.fillna(base_teste.LotFrontage.median(),inplace=True)"
   ]
  },
  {
   "cell_type": "code",
   "execution_count": 200,
   "id": "4c604255",
   "metadata": {},
   "outputs": [
    {
     "data": {
      "text/plain": [
       "GarageType      5.547945\n",
       "GarageYrBlt     5.547945\n",
       "GarageFinish    5.547945\n",
       "GarageQual      5.547945\n",
       "GarageCond      5.547945\n",
       "BsmtExposure    2.602740\n",
       "BsmtFinType2    2.602740\n",
       "BsmtQual        2.534247\n",
       "BsmtCond        2.534247\n",
       "BsmtFinType1    2.534247\n",
       "Electrical      0.068493\n",
       "dtype: float64"
      ]
     },
     "execution_count": 200,
     "metadata": {},
     "output_type": "execute_result"
    }
   ],
   "source": [
    "(base_train[base_train.columns[base_train.isnull().sum() > 0]].isnull().sum().sort_values(ascending=False)/base_train.shape[0])*100"
   ]
  },
  {
   "cell_type": "markdown",
   "id": "cd063d01",
   "metadata": {},
   "source": [
    "**Colunas que contem informação sobre garagem**"
   ]
  },
  {
   "cell_type": "code",
   "execution_count": 201,
   "id": "71097c02",
   "metadata": {},
   "outputs": [
    {
     "data": {
      "text/plain": [
       "Index(['GarageType', 'GarageYrBlt', 'GarageFinish', 'GarageCars', 'GarageArea',\n",
       "       'GarageQual', 'GarageCond'],\n",
       "      dtype='object')"
      ]
     },
     "execution_count": 201,
     "metadata": {},
     "output_type": "execute_result"
    }
   ],
   "source": [
    "base_train.columns[base_train.columns.str.contains('Garage')]"
   ]
  },
  {
   "cell_type": "code",
   "execution_count": 202,
   "id": "394ec9bc",
   "metadata": {},
   "outputs": [
    {
     "data": {
      "text/plain": [
       "GarageType  GarageYrBlt  GarageFinish  GarageCars  GarageArea  GarageQual  GarageCond\n",
       "NaN         NaN          NaN           0           0           NaN         NaN           81\n",
       "Attchd      2004.0       RFn           2           420         TA          TA             5\n",
       "Detchd      1940.0       Unf           1           240         TA          TA             5\n",
       "Attchd      2003.0       Fin           2           420         TA          TA             5\n",
       "Detchd      1948.0       Unf           1           240         TA          TA             4\n",
       "                                                                                         ..\n",
       "Attchd      1992.0       Unf           2           564         TA          TA             1\n",
       "                         RFn           2           590         TA          TA             1\n",
       "                                                   564         TA          TA             1\n",
       "                                                   546         TA          TA             1\n",
       "            2004.0       RFn           2           400         TA          TA             1\n",
       "Name: count, Length: 1282, dtype: int64"
      ]
     },
     "execution_count": 202,
     "metadata": {},
     "output_type": "execute_result"
    }
   ],
   "source": [
    "# Podemos notar que quando GarageCars e GarageArea são 0 significa que a casa não possui garagem\n",
    "# Posso atribuir -1 as colunas onde estão com valores nulos nessas linhas\n",
    "base_train[['GarageType', 'GarageYrBlt', 'GarageFinish', 'GarageCars', 'GarageArea',\n",
    "       'GarageQual', 'GarageCond']].value_counts(dropna=False)"
   ]
  },
  {
   "cell_type": "code",
   "execution_count": 203,
   "id": "9849d976",
   "metadata": {},
   "outputs": [],
   "source": [
    "base_train.loc[(base_train.GarageCars == 0)&(base_train.GarageArea ==0),['GarageType', 'GarageYrBlt', 'GarageFinish',\n",
    "       'GarageQual', 'GarageCond']] = -1"
   ]
  },
  {
   "cell_type": "code",
   "execution_count": 204,
   "id": "f5087c38",
   "metadata": {},
   "outputs": [
    {
     "data": {
      "text/plain": [
       "GarageType      0\n",
       "GarageYrBlt     0\n",
       "GarageFinish    0\n",
       "GarageCars      0\n",
       "GarageArea      0\n",
       "GarageQual      0\n",
       "GarageCond      0\n",
       "dtype: int64"
      ]
     },
     "execution_count": 204,
     "metadata": {},
     "output_type": "execute_result"
    }
   ],
   "source": [
    "# Verificando o que restou\n",
    "base_train[['GarageType', 'GarageYrBlt', 'GarageFinish', 'GarageCars', 'GarageArea',\n",
    "       'GarageQual', 'GarageCond']].isnull().sum()"
   ]
  },
  {
   "cell_type": "markdown",
   "id": "3c3db75d",
   "metadata": {},
   "source": [
    "**Repetir procedimento para base de teste**"
   ]
  },
  {
   "cell_type": "code",
   "execution_count": 205,
   "id": "d8f434ef",
   "metadata": {},
   "outputs": [],
   "source": [
    "base_teste.loc[(base_teste.GarageCars == 0)&(base_teste.GarageArea ==0),['GarageType', 'GarageYrBlt', 'GarageFinish',\n",
    "       'GarageQual', 'GarageCond']] = -1"
   ]
  },
  {
   "cell_type": "code",
   "execution_count": 206,
   "id": "a0b03fec",
   "metadata": {},
   "outputs": [
    {
     "data": {
      "text/plain": [
       "GarageType      0\n",
       "GarageYrBlt     2\n",
       "GarageFinish    2\n",
       "GarageCars      1\n",
       "GarageArea      1\n",
       "GarageQual      2\n",
       "GarageCond      2\n",
       "dtype: int64"
      ]
     },
     "execution_count": 206,
     "metadata": {},
     "output_type": "execute_result"
    }
   ],
   "source": [
    "base_teste[['GarageType', 'GarageYrBlt', 'GarageFinish', 'GarageCars', 'GarageArea',\n",
    "       'GarageQual', 'GarageCond']].isnull().sum()"
   ]
  },
  {
   "cell_type": "code",
   "execution_count": 207,
   "id": "a19f0c94",
   "metadata": {},
   "outputs": [
    {
     "data": {
      "text/plain": [
       "GarageType  GarageYrBlt  GarageFinish  GarageCars  GarageArea  GarageQual  GarageCond\n",
       "Detchd      NaN          NaN           1.0         360.0       NaN         NaN           1\n",
       "                                       NaN         NaN         NaN         NaN           1\n",
       "Name: count, dtype: int64"
      ]
     },
     "execution_count": 207,
     "metadata": {},
     "output_type": "execute_result"
    }
   ],
   "source": [
    "# Ainda sobraram linhas com valores ausentes\n",
    "# Observando quando GarageYrBlt por exemplo\n",
    "base_teste[['GarageType', 'GarageYrBlt', 'GarageFinish', 'GarageCars', 'GarageArea',\n",
    "       'GarageQual', 'GarageCond']].loc[base_teste.GarageYrBlt.isnull()].value_counts(dropna=False)"
   ]
  },
  {
   "cell_type": "code",
   "execution_count": 208,
   "id": "21b031ca",
   "metadata": {},
   "outputs": [
    {
     "data": {
      "text/html": [
       "<div>\n",
       "<style scoped>\n",
       "    .dataframe tbody tr th:only-of-type {\n",
       "        vertical-align: middle;\n",
       "    }\n",
       "\n",
       "    .dataframe tbody tr th {\n",
       "        vertical-align: top;\n",
       "    }\n",
       "\n",
       "    .dataframe thead th {\n",
       "        text-align: right;\n",
       "    }\n",
       "</style>\n",
       "<table border=\"1\" class=\"dataframe\">\n",
       "  <thead>\n",
       "    <tr style=\"text-align: right;\">\n",
       "      <th></th>\n",
       "      <th>GarageType</th>\n",
       "      <th>GarageYrBlt</th>\n",
       "      <th>GarageFinish</th>\n",
       "      <th>GarageCars</th>\n",
       "      <th>GarageArea</th>\n",
       "      <th>GarageQual</th>\n",
       "      <th>GarageCond</th>\n",
       "    </tr>\n",
       "  </thead>\n",
       "  <tbody>\n",
       "    <tr>\n",
       "      <th>666</th>\n",
       "      <td>Detchd</td>\n",
       "      <td>NaN</td>\n",
       "      <td>NaN</td>\n",
       "      <td>1.0</td>\n",
       "      <td>360.0</td>\n",
       "      <td>NaN</td>\n",
       "      <td>NaN</td>\n",
       "    </tr>\n",
       "    <tr>\n",
       "      <th>754</th>\n",
       "      <td>Detchd</td>\n",
       "      <td>1934.0</td>\n",
       "      <td>RFn</td>\n",
       "      <td>1.0</td>\n",
       "      <td>360.0</td>\n",
       "      <td>TA</td>\n",
       "      <td>TA</td>\n",
       "    </tr>\n",
       "    <tr>\n",
       "      <th>825</th>\n",
       "      <td>Detchd</td>\n",
       "      <td>1974.0</td>\n",
       "      <td>Unf</td>\n",
       "      <td>1.0</td>\n",
       "      <td>360.0</td>\n",
       "      <td>TA</td>\n",
       "      <td>TA</td>\n",
       "    </tr>\n",
       "    <tr>\n",
       "      <th>1127</th>\n",
       "      <td>Attchd</td>\n",
       "      <td>1975.0</td>\n",
       "      <td>Unf</td>\n",
       "      <td>1.0</td>\n",
       "      <td>360.0</td>\n",
       "      <td>TA</td>\n",
       "      <td>TA</td>\n",
       "    </tr>\n",
       "    <tr>\n",
       "      <th>1400</th>\n",
       "      <td>Attchd</td>\n",
       "      <td>1969.0</td>\n",
       "      <td>Unf</td>\n",
       "      <td>1.0</td>\n",
       "      <td>360.0</td>\n",
       "      <td>TA</td>\n",
       "      <td>TA</td>\n",
       "    </tr>\n",
       "  </tbody>\n",
       "</table>\n",
       "</div>"
      ],
      "text/plain": [
       "     GarageType  GarageYrBlt GarageFinish  GarageCars  GarageArea GarageQual  \\\n",
       "666      Detchd          NaN          NaN         1.0       360.0        NaN   \n",
       "754      Detchd       1934.0          RFn         1.0       360.0         TA   \n",
       "825      Detchd       1974.0          Unf         1.0       360.0         TA   \n",
       "1127     Attchd       1975.0          Unf         1.0       360.0         TA   \n",
       "1400     Attchd       1969.0          Unf         1.0       360.0         TA   \n",
       "\n",
       "     GarageCond  \n",
       "666         NaN  \n",
       "754          TA  \n",
       "825          TA  \n",
       "1127         TA  \n",
       "1400         TA  "
      ]
     },
     "execution_count": 208,
     "metadata": {},
     "output_type": "execute_result"
    }
   ],
   "source": [
    "# Caso onde GarageCars =1 e GarageArea = 360\n",
    "# provavel que GarageQual e GarageCond sejam TA, GarageFinish seja Unf e o ano entre 1934 e 1974\n",
    "base_teste[['GarageType', 'GarageYrBlt', 'GarageFinish', 'GarageCars', 'GarageArea',\n",
    "       'GarageQual', 'GarageCond']].loc[(base_teste.GarageCars == 1)&(base_teste.GarageArea == 360)]"
   ]
  },
  {
   "cell_type": "code",
   "execution_count": 209,
   "id": "21ecafd1",
   "metadata": {},
   "outputs": [],
   "source": [
    "base_teste.loc[(base_teste.GarageCars == 1)&(base_teste.GarageArea == 360),['GarageYrBlt']] = 1950\n",
    "base_teste.loc[(base_teste.GarageCars == 1)&(base_teste.GarageArea == 360),['GarageQual','GarageCond']] = \"TA\"\n",
    "base_teste.loc[(base_teste.GarageCars == 1)&(base_teste.GarageArea == 360),['GarageFinish']] = \"Unf\""
   ]
  },
  {
   "cell_type": "code",
   "execution_count": 210,
   "id": "cbbd1a0f",
   "metadata": {},
   "outputs": [],
   "source": [
    "# Para a linha onde quase todas são nulas posso substituir pela mediana os valores numericos e pela moda os textos\n",
    "base_teste.GarageYrBlt = base_teste.GarageYrBlt.fillna(base_teste.GarageYrBlt.median())\n",
    "base_teste.GarageFinish = base_teste.GarageFinish.fillna(base_teste.GarageFinish.mode()[0])\n",
    "base_teste.GarageCars = base_teste.GarageCars.fillna(base_teste.GarageCars.median())\n",
    "base_teste.GarageArea = base_teste.GarageArea.fillna(base_teste.GarageArea.median())\n",
    "base_teste.GarageQual = base_teste.GarageQual.fillna(base_teste.GarageQual.mode()[0])\n",
    "base_teste.GarageCond = base_teste.GarageCond.fillna(base_teste.GarageCond.mode()[0])"
   ]
  },
  {
   "cell_type": "code",
   "execution_count": 211,
   "id": "3eae2cc8",
   "metadata": {},
   "outputs": [
    {
     "data": {
      "text/plain": [
       "GarageType      0\n",
       "GarageYrBlt     0\n",
       "GarageFinish    0\n",
       "GarageCars      0\n",
       "GarageArea      0\n",
       "GarageQual      0\n",
       "GarageCond      0\n",
       "dtype: int64"
      ]
     },
     "execution_count": 211,
     "metadata": {},
     "output_type": "execute_result"
    }
   ],
   "source": [
    "# Observar se restaram valores nulos\n",
    "base_teste[['GarageType', 'GarageYrBlt', 'GarageFinish', 'GarageCars', 'GarageArea',\n",
    "       'GarageQual', 'GarageCond']].isnull().sum()"
   ]
  },
  {
   "cell_type": "markdown",
   "id": "a8b704b3",
   "metadata": {},
   "source": [
    "**Podemos notar que as colunas GarageQual e GarageCond parecem ter sempre os mesmos valores**"
   ]
  },
  {
   "cell_type": "code",
   "execution_count": 212,
   "id": "1590e03e",
   "metadata": {},
   "outputs": [
    {
     "data": {
      "text/plain": [
       "GarageQual  GarageCond\n",
       "TA          TA            1291\n",
       "-1          -1              81\n",
       "Fa          TA              24\n",
       "            Fa              20\n",
       "TA          Fa              15\n",
       "Gd          TA              10\n",
       "TA          Gd               5\n",
       "Fa          Po               4\n",
       "Gd          Gd               4\n",
       "Po          Po               3\n",
       "Ex          Ex               2\n",
       "            TA               1\n",
       "Name: count, dtype: int64"
      ]
     },
     "execution_count": 212,
     "metadata": {},
     "output_type": "execute_result"
    }
   ],
   "source": [
    "# Existe uma grande correlação entre elas\n",
    "base_train[['GarageQual','GarageCond']].value_counts()"
   ]
  },
  {
   "cell_type": "code",
   "execution_count": 213,
   "id": "35d0643b",
   "metadata": {},
   "outputs": [
    {
     "data": {
      "text/plain": [
       "95.95890410958904"
      ]
     },
     "execution_count": 213,
     "metadata": {},
     "output_type": "execute_result"
    }
   ],
   "source": [
    "# Verificar porcentage d valores iguais entre essas colunas\n",
    "# Praticamente 96% das linhas dessas duas colunas são iguais\n",
    "((base_train.loc[(base_train.GarageQual == base_train.GarageCond)].shape[0])/base_train.shape[0])*100"
   ]
  },
  {
   "cell_type": "code",
   "execution_count": 214,
   "id": "0fda4f67",
   "metadata": {},
   "outputs": [],
   "source": [
    "# Qual das duas 'dropar'? Como o percentual é muito elevado não vaiu fazer muita diferença, dispença análise\n",
    "base_train.drop('GarageCond',axis=1,inplace=True)\n",
    "base_teste.drop('GarageCond',axis=1,inplace=True)"
   ]
  },
  {
   "cell_type": "code",
   "execution_count": 215,
   "id": "f5981e5c",
   "metadata": {},
   "outputs": [
    {
     "data": {
      "text/plain": [
       "BsmtExposure    2.602740\n",
       "BsmtFinType2    2.602740\n",
       "BsmtQual        2.534247\n",
       "BsmtCond        2.534247\n",
       "BsmtFinType1    2.534247\n",
       "Electrical      0.068493\n",
       "dtype: float64"
      ]
     },
     "execution_count": 215,
     "metadata": {},
     "output_type": "execute_result"
    }
   ],
   "source": [
    "# Atualizar col_null\n",
    "col_null = base_train.columns[base_train.isnull().sum() != 0]\n",
    "((base_train[col_null].isnull().sum().sort_values(ascending=False))/base_train.shape[0])*100"
   ]
  },
  {
   "cell_type": "markdown",
   "id": "a2e1a53a",
   "metadata": {},
   "source": [
    "**Colunas que contém Bsmt(porão)**"
   ]
  },
  {
   "cell_type": "code",
   "execution_count": 216,
   "id": "ffb6a778",
   "metadata": {},
   "outputs": [
    {
     "data": {
      "text/plain": [
       "Index(['BsmtQual', 'BsmtCond', 'BsmtExposure', 'BsmtFinType1', 'BsmtFinSF1',\n",
       "       'BsmtFinType2', 'BsmtFinSF2', 'BsmtUnfSF', 'TotalBsmtSF',\n",
       "       'BsmtFullBath', 'BsmtHalfBath'],\n",
       "      dtype='object')"
      ]
     },
     "execution_count": 216,
     "metadata": {},
     "output_type": "execute_result"
    }
   ],
   "source": [
    "base_train.columns[base_train.columns.str.contains(\"Bsmt\")]"
   ]
  },
  {
   "cell_type": "code",
   "execution_count": 217,
   "id": "51c25294",
   "metadata": {},
   "outputs": [
    {
     "data": {
      "text/plain": [
       "BsmtQual  BsmtCond  BsmtExposure  BsmtFinType1  BsmtFinSF1  BsmtFinType2  BsmtFinSF2  BsmtUnfSF  TotalBsmtSF  BsmtFullBath  BsmtHalfBath\n",
       "NaN       NaN       NaN           NaN           0           NaN           0           0          0            0             0               37\n",
       "Gd        TA        No            Unf           0           Unf           0           728        728          0             0                5\n",
       "                                                                                      384        384          0             0                5\n",
       "                                                                                      600        600          0             0                4\n",
       "TA        TA        No            Unf           0           Unf           0           672        672          0             0                4\n",
       "                                                                                                                                            ..\n",
       "Gd        TA        No            ALQ           623         LwQ           121         0          744          1             0                1\n",
       "                                                604         Unf           0           92         696          1             0                1\n",
       "                                                602         LwQ           438         14         1054         1             0                1\n",
       "                                                592         Unf           0           99         691          0             0                1\n",
       "                                  Unf           0           Unf           0           926        926          0             0                1\n",
       "Name: count, Length: 1363, dtype: int64"
      ]
     },
     "execution_count": 217,
     "metadata": {},
     "output_type": "execute_result"
    }
   ],
   "source": [
    "# Aqui também pode ser considerado que as colunas que apresentam valores nulos quando as demais são 0\n",
    "base_train[['BsmtQual', 'BsmtCond', 'BsmtExposure', 'BsmtFinType1', 'BsmtFinSF1',\n",
    "       'BsmtFinType2', 'BsmtFinSF2', 'BsmtUnfSF', 'TotalBsmtSF',\n",
    "       'BsmtFullBath', 'BsmtHalfBath']].value_counts(dropna=False)"
   ]
  },
  {
   "cell_type": "code",
   "execution_count": 218,
   "id": "8cb49b23",
   "metadata": {},
   "outputs": [],
   "source": [
    "base_train.loc[(base_train.BsmtFinSF1 == 0)&(base_train.BsmtFinSF2 == 0)&(base_train.BsmtUnfSF == 0),['BsmtQual','BsmtCond','BsmtExposure','BsmtFinType1','BsmtFinType2']] = -1"
   ]
  },
  {
   "cell_type": "code",
   "execution_count": 219,
   "id": "27e914e1",
   "metadata": {},
   "outputs": [
    {
     "data": {
      "text/plain": [
       "BsmtQual        0\n",
       "BsmtCond        0\n",
       "BsmtExposure    1\n",
       "BsmtFinType1    0\n",
       "BsmtFinSF1      0\n",
       "BsmtFinType2    1\n",
       "BsmtFinSF2      0\n",
       "BsmtUnfSF       0\n",
       "TotalBsmtSF     0\n",
       "BsmtFullBath    0\n",
       "BsmtHalfBath    0\n",
       "dtype: int64"
      ]
     },
     "execution_count": 219,
     "metadata": {},
     "output_type": "execute_result"
    }
   ],
   "source": [
    "# Ainda restam valores nulos\n",
    "base_train[['BsmtQual', 'BsmtCond', 'BsmtExposure', 'BsmtFinType1', 'BsmtFinSF1',\n",
    "       'BsmtFinType2', 'BsmtFinSF2', 'BsmtUnfSF', 'TotalBsmtSF',\n",
    "       'BsmtFullBath', 'BsmtHalfBath']].isnull().sum()"
   ]
  },
  {
   "cell_type": "code",
   "execution_count": 220,
   "id": "7126c232",
   "metadata": {},
   "outputs": [],
   "source": [
    "# Substituir os valores nulos pela moda\n",
    "base_train.BsmtExposure = base_train.BsmtExposure.fillna(base_train.BsmtExposure.mode()[0])\n",
    "base_train.BsmtFinType2 = base_train.BsmtFinType2.fillna(base_train.BsmtFinType2.mode()[0])"
   ]
  },
  {
   "cell_type": "markdown",
   "id": "31a5a9b5",
   "metadata": {},
   "source": [
    "**Repetir procedimento para base de teste**"
   ]
  },
  {
   "cell_type": "code",
   "execution_count": 221,
   "id": "9cb9205d",
   "metadata": {},
   "outputs": [
    {
     "data": {
      "text/plain": [
       "BsmtQual  BsmtCond  BsmtExposure  BsmtFinType1  BsmtFinSF1  BsmtFinType2  BsmtFinSF2  BsmtUnfSF  TotalBsmtSF  BsmtFullBath  BsmtHalfBath\n",
       "NaN       NaN       NaN           NaN           0.0         NaN           0.0         0.0        0.0          0.0           0.0             40\n",
       "Gd        TA        No            Unf           0.0         Unf           0.0         738.0      738.0        0.0           0.0              5\n",
       "TA        TA        No            Unf           0.0         Unf           0.0         816.0      816.0        0.0           0.0              5\n",
       "                                                                                      546.0      546.0        0.0           0.0              4\n",
       "                                                                                      672.0      672.0        0.0           0.0              4\n",
       "                                                                                                                                            ..\n",
       "Gd        TA        No            ALQ           215.0       BLQ           80.0        970.0      1265.0       0.0           1.0              1\n",
       "                                                70.0        Unf           0.0         785.0      855.0        0.0           0.0              1\n",
       "                    Mn            Unf           0.0         Unf           0.0         1696.0     1696.0       0.0           0.0              1\n",
       "                                                                                      1574.0     1574.0       0.0           0.0              1\n",
       "NaN       NaN       NaN           NaN           NaN         NaN           NaN         NaN        NaN          NaN           NaN              1\n",
       "Name: count, Length: 1362, dtype: int64"
      ]
     },
     "execution_count": 221,
     "metadata": {},
     "output_type": "execute_result"
    }
   ],
   "source": [
    "base_teste[['BsmtQual', 'BsmtCond', 'BsmtExposure', 'BsmtFinType1', 'BsmtFinSF1',\n",
    "       'BsmtFinType2', 'BsmtFinSF2', 'BsmtUnfSF', 'TotalBsmtSF',\n",
    "       'BsmtFullBath', 'BsmtHalfBath']].value_counts(dropna=False)"
   ]
  },
  {
   "cell_type": "code",
   "execution_count": 222,
   "id": "97146741",
   "metadata": {},
   "outputs": [],
   "source": [
    "base_teste.loc[(base_teste.BsmtFinSF1 == 0)&(base_teste.BsmtFinSF2 == 0)&(base_teste.BsmtUnfSF == 0),['BsmtQual','BsmtCond','BsmtExposure','BsmtFinType1','BsmtFinType2']] = -1"
   ]
  },
  {
   "cell_type": "code",
   "execution_count": 223,
   "id": "710092a0",
   "metadata": {},
   "outputs": [
    {
     "data": {
      "text/plain": [
       "BsmtQual        3\n",
       "BsmtCond        4\n",
       "BsmtExposure    3\n",
       "BsmtFinType1    1\n",
       "BsmtFinSF1      1\n",
       "BsmtFinType2    1\n",
       "BsmtFinSF2      1\n",
       "BsmtUnfSF       1\n",
       "TotalBsmtSF     1\n",
       "BsmtFullBath    2\n",
       "BsmtHalfBath    2\n",
       "dtype: int64"
      ]
     },
     "execution_count": 223,
     "metadata": {},
     "output_type": "execute_result"
    }
   ],
   "source": [
    "base_teste[['BsmtQual', 'BsmtCond', 'BsmtExposure', 'BsmtFinType1', 'BsmtFinSF1',\n",
    "       'BsmtFinType2', 'BsmtFinSF2', 'BsmtUnfSF', 'TotalBsmtSF',\n",
    "       'BsmtFullBath', 'BsmtHalfBath']].isnull().sum()"
   ]
  },
  {
   "cell_type": "code",
   "execution_count": 224,
   "id": "341b5b7e",
   "metadata": {},
   "outputs": [],
   "source": [
    "# Para a linha onde quase todas são nulas posso substituir pela mediana os valores numericos e pela moda os textos\n",
    "base_teste.BsmtQual = base_teste.BsmtQual.fillna(base_teste.BsmtQual.mode()[0])\n",
    "base_teste.BsmtCond = base_teste.BsmtCond.fillna(base_teste.BsmtCond.mode()[0])\n",
    "base_teste.BsmtExposure = base_teste.BsmtExposure.fillna(base_teste.BsmtExposure.mode()[0])\n",
    "base_teste.BsmtFinType1 = base_teste.BsmtFinType1.fillna(base_teste.BsmtFinType1.mode()[0])\n",
    "base_teste.BsmtFinType2 = base_teste.BsmtFinType2.fillna(base_teste.BsmtFinType2.mode()[0])\n",
    "base_teste.TotalBsmtSF = base_teste.TotalBsmtSF.fillna(base_teste.TotalBsmtSF.median())\n",
    "base_teste.BsmtUnfSF = base_teste.BsmtUnfSF.fillna(base_teste.BsmtUnfSF.median())\n",
    "base_teste.BsmtFinSF2 = base_teste.BsmtFinSF2.fillna(base_teste.BsmtFinSF2.median())\n",
    "base_teste.BsmtFinSF1 = base_teste.BsmtFinSF1.fillna(base_teste.BsmtFinSF1.median())\n",
    "base_teste.BsmtFullBath = base_teste.BsmtFullBath.fillna(base_teste.BsmtFullBath.median())\n",
    "base_teste.BsmtHalfBath = base_teste.BsmtHalfBath.fillna(base_teste.BsmtHalfBath.median())"
   ]
  },
  {
   "cell_type": "code",
   "execution_count": 225,
   "id": "45466cfe",
   "metadata": {},
   "outputs": [
    {
     "data": {
      "text/plain": [
       "Electrical    0.068493\n",
       "dtype: float64"
      ]
     },
     "execution_count": 225,
     "metadata": {},
     "output_type": "execute_result"
    }
   ],
   "source": [
    "# Atualizar col_null\n",
    "col_null = base_train.columns[base_train.isnull().sum() != 0]\n",
    "((base_train[col_null].isnull().sum().sort_values(ascending=False))/base_train.shape[0])*100"
   ]
  },
  {
   "cell_type": "code",
   "execution_count": 226,
   "id": "ba6ed01c",
   "metadata": {},
   "outputs": [],
   "source": [
    "# A coluna Electrical será preenchida pela moda\n",
    "base_train.Electrical = base_train.Electrical.fillna(base_train.Electrical.mode()[0])\n",
    "base_teste.Electrical = base_teste.Electrical.fillna(base_teste.Electrical.mode()[0])"
   ]
  },
  {
   "cell_type": "code",
   "execution_count": 227,
   "id": "92afd394",
   "metadata": {},
   "outputs": [
    {
     "data": {
      "text/plain": [
       "Series([], dtype: float64)"
      ]
     },
     "execution_count": 227,
     "metadata": {},
     "output_type": "execute_result"
    }
   ],
   "source": [
    "# Atualizar col_null\n",
    "col_null = base_train.columns[base_train.isnull().sum() != 0]\n",
    "((base_train[col_null].isnull().sum().sort_values(ascending=False))/base_train.shape[0])*100"
   ]
  },
  {
   "cell_type": "code",
   "execution_count": 228,
   "id": "8695a5b5",
   "metadata": {},
   "outputs": [
    {
     "data": {
      "text/plain": [
       "MSZoning       0.27416\n",
       "Utilities      0.13708\n",
       "Functional     0.13708\n",
       "Exterior1st    0.06854\n",
       "Exterior2nd    0.06854\n",
       "KitchenQual    0.06854\n",
       "SaleType       0.06854\n",
       "dtype: float64"
      ]
     },
     "execution_count": 228,
     "metadata": {},
     "output_type": "execute_result"
    }
   ],
   "source": [
    "# Atualizar col_null\n",
    "col_null = base_teste.columns[base_teste.isnull().sum() != 0]\n",
    "((base_teste[col_null].isnull().sum().sort_values(ascending=False))/base_teste.shape[0])*100"
   ]
  },
  {
   "cell_type": "code",
   "execution_count": 229,
   "id": "9e6fac95",
   "metadata": {},
   "outputs": [],
   "source": [
    "# tratar demais colunas\n",
    "base_teste.MSZoning = base_teste.MSZoning.fillna(base_teste.MSZoning.mode()[0])\n",
    "base_teste.Utilities= base_teste.Utilities.fillna(base_teste.Utilities.mode()[0])\n",
    "base_teste.Functional = base_teste.Functional.fillna(base_teste.Functional.mode()[0])\n",
    "base_teste.Exterior1st = base_teste.Exterior1st.fillna(base_teste.Exterior1st.mode()[0])\n",
    "base_teste.Exterior2nd = base_teste.Exterior2nd.fillna(base_teste.Exterior2nd.mode()[0])\n",
    "base_teste.KitchenQual = base_teste.KitchenQual.fillna(base_teste.KitchenQual.mode()[0])\n",
    "base_teste.SaleType= base_teste.SaleType.fillna(base_teste.SaleType.mode()[0])"
   ]
  },
  {
   "cell_type": "code",
   "execution_count": 230,
   "id": "a4ebf21c",
   "metadata": {},
   "outputs": [
    {
     "data": {
      "text/plain": [
       "0"
      ]
     },
     "execution_count": 230,
     "metadata": {},
     "output_type": "execute_result"
    }
   ],
   "source": [
    "base_teste.isnull().sum().sum()"
   ]
  },
  {
   "cell_type": "code",
   "execution_count": 231,
   "id": "d7f14e42",
   "metadata": {},
   "outputs": [
    {
     "data": {
      "text/plain": [
       "0"
      ]
     },
     "execution_count": 231,
     "metadata": {},
     "output_type": "execute_result"
    }
   ],
   "source": [
    "base_train.isnull().sum().sum()"
   ]
  },
  {
   "cell_type": "code",
   "execution_count": 232,
   "id": "f8b39080",
   "metadata": {},
   "outputs": [
    {
     "data": {
      "text/plain": [
       "Index([], dtype='object')"
      ]
     },
     "execution_count": 232,
     "metadata": {},
     "output_type": "execute_result"
    }
   ],
   "source": [
    "base_teste.columns[base_teste.isnull().sum()>0]"
   ]
  },
  {
   "cell_type": "markdown",
   "id": "bcab41f8",
   "metadata": {},
   "source": [
    "# Continuar análise da base"
   ]
  },
  {
   "cell_type": "markdown",
   "id": "efe3521b",
   "metadata": {},
   "source": [
    "### Observar possibilidade de agregar colunas"
   ]
  },
  {
   "cell_type": "code",
   "execution_count": 233,
   "id": "04ff3916",
   "metadata": {},
   "outputs": [
    {
     "data": {
      "text/plain": [
       "Index(['GarageYrBlt', 'GarageCars', 'GarageArea'], dtype='object')"
      ]
     },
     "execution_count": 233,
     "metadata": {},
     "output_type": "execute_result"
    }
   ],
   "source": [
    "base_train.select_dtypes(exclude=object).columns[base_train.select_dtypes(exclude=object).columns.str.contains('Garage')]"
   ]
  },
  {
   "cell_type": "code",
   "execution_count": 234,
   "id": "a0c91bee",
   "metadata": {},
   "outputs": [],
   "source": [
    "# Multiplicar carros na garagem com Area da garagem\n",
    "# Multiplicação para nao ter problema com divisao por 0\n",
    "base_train['GarageArea/Car'] =  base_train.GarageArea*base_train.GarageCars \n",
    "base_teste['GarageArea/Car'] =  base_teste.GarageArea*base_teste.GarageCars \n",
    "base_train.drop(['GarageCars','GarageArea'],axis=1,inplace=True)\n",
    "base_teste.drop(['GarageCars','GarageArea'],axis=1,inplace=True)"
   ]
  },
  {
   "cell_type": "code",
   "execution_count": 235,
   "id": "55d02bcf",
   "metadata": {},
   "outputs": [
    {
     "data": {
      "text/plain": [
       "Index(['Id', 'MSSubClass', 'LotFrontage', 'LotArea', 'OverallQual',\n",
       "       'OverallCond', 'YearBuilt', 'YearRemodAdd', 'MasVnrArea', 'BsmtFinSF1',\n",
       "       'BsmtFinSF2', 'BsmtUnfSF', 'TotalBsmtSF', '1stFlrSF', '2ndFlrSF',\n",
       "       'LowQualFinSF', 'GrLivArea', 'BsmtFullBath', 'BsmtHalfBath', 'FullBath',\n",
       "       'HalfBath', 'BedroomAbvGr', 'KitchenAbvGr', 'TotRmsAbvGrd',\n",
       "       'Fireplaces', 'GarageYrBlt', 'WoodDeckSF', 'OpenPorchSF',\n",
       "       'EnclosedPorch', '3SsnPorch', 'ScreenPorch', 'MiscVal', 'MoSold',\n",
       "       'YrSold', 'SalePrice', 'GarageArea/Car'],\n",
       "      dtype='object')"
      ]
     },
     "execution_count": 235,
     "metadata": {},
     "output_type": "execute_result"
    }
   ],
   "source": [
    "base_train.select_dtypes(exclude=object).columns"
   ]
  },
  {
   "cell_type": "code",
   "execution_count": 236,
   "id": "e43c2398",
   "metadata": {},
   "outputs": [],
   "source": [
    "# TotalBsmtSF e 1stFlrSF colunas indicam a área do porão e a área do primeiro andar\n",
    "# AreaTotal\n",
    "base_train['AreaTotalBsmt'] = base_train.TotalBsmtSF + base_train['1stFlrSF']\n",
    "base_teste['AreaTotalBsmt'] = base_teste.TotalBsmtSF + base_teste['1stFlrSF']\n",
    "base_train.drop(['TotalBsmtSF','1stFlrSF'],axis=1,inplace=True)\n",
    "base_teste.drop(['TotalBsmtSF','1stFlrSF'],axis=1,inplace=True)"
   ]
  },
  {
   "cell_type": "markdown",
   "id": "ce361107",
   "metadata": {},
   "source": [
    "## Observar distribuição da variável target"
   ]
  },
  {
   "cell_type": "code",
   "execution_count": 237,
   "id": "ba90dcbd",
   "metadata": {},
   "outputs": [
    {
     "data": {
      "text/plain": [
       "count      1460.000000\n",
       "mean     180921.195890\n",
       "std       79442.502883\n",
       "min       34900.000000\n",
       "25%      129975.000000\n",
       "50%      163000.000000\n",
       "75%      214000.000000\n",
       "max      755000.000000\n",
       "Name: SalePrice, dtype: float64"
      ]
     },
     "execution_count": 237,
     "metadata": {},
     "output_type": "execute_result"
    }
   ],
   "source": [
    "base_train.SalePrice.describe()"
   ]
  },
  {
   "cell_type": "code",
   "execution_count": 238,
   "id": "e5037997",
   "metadata": {},
   "outputs": [
    {
     "data": {
      "image/png": "[encoded data removed]",
      "text/plain": [
       "<Figure size 1000x600 with 1 Axes>"
      ]
     },
     "metadata": {},
     "output_type": "display_data"
    }
   ],
   "source": [
    "import seaborn as sns\n",
    "import matplotlib.pyplot as plt\n",
    "\n",
    "plt.figure(figsize=(10, 6))\n",
    "sns.histplot(base_train['SalePrice'], bins=30, kde=True)  # kde=True adiciona a curva de densidade\n",
    "plt.title('Distribuição dos preços')\n",
    "plt.xlabel('Valor')\n",
    "plt.ylabel('Frequência')\n",
    "plt.grid(True)\n",
    "plt.show()"
   ]
  },
  {
   "cell_type": "code",
   "execution_count": 239,
   "id": "9d1a76cb",
   "metadata": {},
   "outputs": [
    {
     "data": {
      "text/plain": [
       "Index([], dtype='object')"
      ]
     },
     "execution_count": 239,
     "metadata": {},
     "output_type": "execute_result"
    }
   ],
   "source": [
    "base_train.columns[base_train.isnull().sum()>0]"
   ]
  },
  {
   "cell_type": "markdown",
   "id": "a861c8ab",
   "metadata": {},
   "source": [
    "### Distribuição das features numéricas"
   ]
  },
  {
   "cell_type": "code",
   "execution_count": 240,
   "id": "85b9e273",
   "metadata": {},
   "outputs": [],
   "source": [
    "base_num = base_train.select_dtypes(exclude=object)"
   ]
  },
  {
   "cell_type": "code",
   "execution_count": 241,
   "id": "34dac782",
   "metadata": {},
   "outputs": [
    {
     "data": {
      "text/html": [
       "<div>\n",
       "<style scoped>\n",
       "    .dataframe tbody tr th:only-of-type {\n",
       "        vertical-align: middle;\n",
       "    }\n",
       "\n",
       "    .dataframe tbody tr th {\n",
       "        vertical-align: top;\n",
       "    }\n",
       "\n",
       "    .dataframe thead th {\n",
       "        text-align: right;\n",
       "    }\n",
       "</style>\n",
       "<table border=\"1\" class=\"dataframe\">\n",
       "  <thead>\n",
       "    <tr style=\"text-align: right;\">\n",
       "      <th></th>\n",
       "      <th>Id</th>\n",
       "      <th>MSSubClass</th>\n",
       "      <th>LotFrontage</th>\n",
       "      <th>LotArea</th>\n",
       "      <th>OverallQual</th>\n",
       "      <th>OverallCond</th>\n",
       "      <th>YearBuilt</th>\n",
       "      <th>YearRemodAdd</th>\n",
       "      <th>MasVnrArea</th>\n",
       "      <th>BsmtFinSF1</th>\n",
       "      <th>...</th>\n",
       "      <th>OpenPorchSF</th>\n",
       "      <th>EnclosedPorch</th>\n",
       "      <th>3SsnPorch</th>\n",
       "      <th>ScreenPorch</th>\n",
       "      <th>MiscVal</th>\n",
       "      <th>MoSold</th>\n",
       "      <th>YrSold</th>\n",
       "      <th>SalePrice</th>\n",
       "      <th>GarageArea/Car</th>\n",
       "      <th>AreaTotalBsmt</th>\n",
       "    </tr>\n",
       "  </thead>\n",
       "  <tbody>\n",
       "    <tr>\n",
       "      <th>count</th>\n",
       "      <td>1460.000000</td>\n",
       "      <td>1460.000000</td>\n",
       "      <td>1460.000000</td>\n",
       "      <td>1460.000000</td>\n",
       "      <td>1460.000000</td>\n",
       "      <td>1460.000000</td>\n",
       "      <td>1460.000000</td>\n",
       "      <td>1460.000000</td>\n",
       "      <td>1460.000000</td>\n",
       "      <td>1460.000000</td>\n",
       "      <td>...</td>\n",
       "      <td>1460.000000</td>\n",
       "      <td>1460.000000</td>\n",
       "      <td>1460.000000</td>\n",
       "      <td>1460.000000</td>\n",
       "      <td>1460.000000</td>\n",
       "      <td>1460.000000</td>\n",
       "      <td>1460.000000</td>\n",
       "      <td>1460.000000</td>\n",
       "      <td>1460.000000</td>\n",
       "      <td>1460.000000</td>\n",
       "    </tr>\n",
       "    <tr>\n",
       "      <th>mean</th>\n",
       "      <td>730.500000</td>\n",
       "      <td>56.897260</td>\n",
       "      <td>69.863699</td>\n",
       "      <td>10516.828082</td>\n",
       "      <td>6.099315</td>\n",
       "      <td>5.575342</td>\n",
       "      <td>1971.267808</td>\n",
       "      <td>1984.865753</td>\n",
       "      <td>103.117123</td>\n",
       "      <td>443.639726</td>\n",
       "      <td>...</td>\n",
       "      <td>46.660274</td>\n",
       "      <td>21.954110</td>\n",
       "      <td>3.409589</td>\n",
       "      <td>15.060959</td>\n",
       "      <td>43.489041</td>\n",
       "      <td>6.321918</td>\n",
       "      <td>2007.815753</td>\n",
       "      <td>180921.195890</td>\n",
       "      <td>976.719178</td>\n",
       "      <td>2220.056164</td>\n",
       "    </tr>\n",
       "    <tr>\n",
       "      <th>std</th>\n",
       "      <td>421.610009</td>\n",
       "      <td>42.300571</td>\n",
       "      <td>22.027677</td>\n",
       "      <td>9981.264932</td>\n",
       "      <td>1.382997</td>\n",
       "      <td>1.112799</td>\n",
       "      <td>30.202904</td>\n",
       "      <td>20.645407</td>\n",
       "      <td>180.731373</td>\n",
       "      <td>456.098091</td>\n",
       "      <td>...</td>\n",
       "      <td>66.256028</td>\n",
       "      <td>61.119149</td>\n",
       "      <td>29.317331</td>\n",
       "      <td>55.757415</td>\n",
       "      <td>496.123024</td>\n",
       "      <td>2.703626</td>\n",
       "      <td>1.328095</td>\n",
       "      <td>79442.502883</td>\n",
       "      <td>709.723243</td>\n",
       "      <td>787.333406</td>\n",
       "    </tr>\n",
       "    <tr>\n",
       "      <th>min</th>\n",
       "      <td>1.000000</td>\n",
       "      <td>20.000000</td>\n",
       "      <td>21.000000</td>\n",
       "      <td>1300.000000</td>\n",
       "      <td>1.000000</td>\n",
       "      <td>1.000000</td>\n",
       "      <td>1872.000000</td>\n",
       "      <td>1950.000000</td>\n",
       "      <td>0.000000</td>\n",
       "      <td>0.000000</td>\n",
       "      <td>...</td>\n",
       "      <td>0.000000</td>\n",
       "      <td>0.000000</td>\n",
       "      <td>0.000000</td>\n",
       "      <td>0.000000</td>\n",
       "      <td>0.000000</td>\n",
       "      <td>1.000000</td>\n",
       "      <td>2006.000000</td>\n",
       "      <td>34900.000000</td>\n",
       "      <td>0.000000</td>\n",
       "      <td>334.000000</td>\n",
       "    </tr>\n",
       "    <tr>\n",
       "      <th>25%</th>\n",
       "      <td>365.750000</td>\n",
       "      <td>20.000000</td>\n",
       "      <td>60.000000</td>\n",
       "      <td>7553.500000</td>\n",
       "      <td>5.000000</td>\n",
       "      <td>5.000000</td>\n",
       "      <td>1954.000000</td>\n",
       "      <td>1967.000000</td>\n",
       "      <td>0.000000</td>\n",
       "      <td>0.000000</td>\n",
       "      <td>...</td>\n",
       "      <td>0.000000</td>\n",
       "      <td>0.000000</td>\n",
       "      <td>0.000000</td>\n",
       "      <td>0.000000</td>\n",
       "      <td>0.000000</td>\n",
       "      <td>5.000000</td>\n",
       "      <td>2007.000000</td>\n",
       "      <td>129975.000000</td>\n",
       "      <td>336.000000</td>\n",
       "      <td>1696.000000</td>\n",
       "    </tr>\n",
       "    <tr>\n",
       "      <th>50%</th>\n",
       "      <td>730.500000</td>\n",
       "      <td>50.000000</td>\n",
       "      <td>69.000000</td>\n",
       "      <td>9478.500000</td>\n",
       "      <td>6.000000</td>\n",
       "      <td>5.000000</td>\n",
       "      <td>1973.000000</td>\n",
       "      <td>1994.000000</td>\n",
       "      <td>0.000000</td>\n",
       "      <td>383.500000</td>\n",
       "      <td>...</td>\n",
       "      <td>25.000000</td>\n",
       "      <td>0.000000</td>\n",
       "      <td>0.000000</td>\n",
       "      <td>0.000000</td>\n",
       "      <td>0.000000</td>\n",
       "      <td>6.000000</td>\n",
       "      <td>2008.000000</td>\n",
       "      <td>163000.000000</td>\n",
       "      <td>948.000000</td>\n",
       "      <td>2064.000000</td>\n",
       "    </tr>\n",
       "    <tr>\n",
       "      <th>75%</th>\n",
       "      <td>1095.250000</td>\n",
       "      <td>70.000000</td>\n",
       "      <td>79.000000</td>\n",
       "      <td>11601.500000</td>\n",
       "      <td>7.000000</td>\n",
       "      <td>6.000000</td>\n",
       "      <td>2000.000000</td>\n",
       "      <td>2004.000000</td>\n",
       "      <td>164.250000</td>\n",
       "      <td>712.250000</td>\n",
       "      <td>...</td>\n",
       "      <td>68.000000</td>\n",
       "      <td>0.000000</td>\n",
       "      <td>0.000000</td>\n",
       "      <td>0.000000</td>\n",
       "      <td>0.000000</td>\n",
       "      <td>8.000000</td>\n",
       "      <td>2009.000000</td>\n",
       "      <td>214000.000000</td>\n",
       "      <td>1152.000000</td>\n",
       "      <td>2661.000000</td>\n",
       "    </tr>\n",
       "    <tr>\n",
       "      <th>max</th>\n",
       "      <td>1460.000000</td>\n",
       "      <td>190.000000</td>\n",
       "      <td>313.000000</td>\n",
       "      <td>215245.000000</td>\n",
       "      <td>10.000000</td>\n",
       "      <td>9.000000</td>\n",
       "      <td>2010.000000</td>\n",
       "      <td>2010.000000</td>\n",
       "      <td>1600.000000</td>\n",
       "      <td>5644.000000</td>\n",
       "      <td>...</td>\n",
       "      <td>547.000000</td>\n",
       "      <td>552.000000</td>\n",
       "      <td>508.000000</td>\n",
       "      <td>480.000000</td>\n",
       "      <td>15500.000000</td>\n",
       "      <td>12.000000</td>\n",
       "      <td>2010.000000</td>\n",
       "      <td>755000.000000</td>\n",
       "      <td>5424.000000</td>\n",
       "      <td>10802.000000</td>\n",
       "    </tr>\n",
       "  </tbody>\n",
       "</table>\n",
       "<p>8 rows × 35 columns</p>\n",
       "</div>"
      ],
      "text/plain": [
       "                Id   MSSubClass  LotFrontage        LotArea  OverallQual  \\\n",
       "count  1460.000000  1460.000000  1460.000000    1460.000000  1460.000000   \n",
       "mean    730.500000    56.897260    69.863699   10516.828082     6.099315   \n",
       "std     421.610009    42.300571    22.027677    9981.264932     1.382997   \n",
       "min       1.000000    20.000000    21.000000    1300.000000     1.000000   \n",
       "25%     365.750000    20.000000    60.000000    7553.500000     5.000000   \n",
       "50%     730.500000    50.000000    69.000000    9478.500000     6.000000   \n",
       "75%    1095.250000    70.000000    79.000000   11601.500000     7.000000   \n",
       "max    1460.000000   190.000000   313.000000  215245.000000    10.000000   \n",
       "\n",
       "       OverallCond    YearBuilt  YearRemodAdd   MasVnrArea   BsmtFinSF1  ...  \\\n",
       "count  1460.000000  1460.000000   1460.000000  1460.000000  1460.000000  ...   \n",
       "mean      5.575342  1971.267808   1984.865753   103.117123   443.639726  ...   \n",
       "std       1.112799    30.202904     20.645407   180.731373   456.098091  ...   \n",
       "min       1.000000  1872.000000   1950.000000     0.000000     0.000000  ...   \n",
       "25%       5.000000  1954.000000   1967.000000     0.000000     0.000000  ...   \n",
       "50%       5.000000  1973.000000   1994.000000     0.000000   383.500000  ...   \n",
       "75%       6.000000  2000.000000   2004.000000   164.250000   712.250000  ...   \n",
       "max       9.000000  2010.000000   2010.000000  1600.000000  5644.000000  ...   \n",
       "\n",
       "       OpenPorchSF  EnclosedPorch    3SsnPorch  ScreenPorch       MiscVal  \\\n",
       "count  1460.000000    1460.000000  1460.000000  1460.000000   1460.000000   \n",
       "mean     46.660274      21.954110     3.409589    15.060959     43.489041   \n",
       "std      66.256028      61.119149    29.317331    55.757415    496.123024   \n",
       "min       0.000000       0.000000     0.000000     0.000000      0.000000   \n",
       "25%       0.000000       0.000000     0.000000     0.000000      0.000000   \n",
       "50%      25.000000       0.000000     0.000000     0.000000      0.000000   \n",
       "75%      68.000000       0.000000     0.000000     0.000000      0.000000   \n",
       "max     547.000000     552.000000   508.000000   480.000000  15500.000000   \n",
       "\n",
       "            MoSold       YrSold      SalePrice  GarageArea/Car  AreaTotalBsmt  \n",
       "count  1460.000000  1460.000000    1460.000000     1460.000000    1460.000000  \n",
       "mean      6.321918  2007.815753  180921.195890      976.719178    2220.056164  \n",
       "std       2.703626     1.328095   79442.502883      709.723243     787.333406  \n",
       "min       1.000000  2006.000000   34900.000000        0.000000     334.000000  \n",
       "25%       5.000000  2007.000000  129975.000000      336.000000    1696.000000  \n",
       "50%       6.000000  2008.000000  163000.000000      948.000000    2064.000000  \n",
       "75%       8.000000  2009.000000  214000.000000     1152.000000    2661.000000  \n",
       "max      12.000000  2010.000000  755000.000000     5424.000000   10802.000000  \n",
       "\n",
       "[8 rows x 35 columns]"
      ]
     },
     "execution_count": 241,
     "metadata": {},
     "output_type": "execute_result"
    }
   ],
   "source": [
    "# Existem colunas com uma predominância muito elevada de valores 0\n",
    "base_num.describe()"
   ]
  },
  {
   "cell_type": "markdown",
   "id": "aa6b4634",
   "metadata": {},
   "source": [
    "## Checkpoint 1\n",
    "- Primeira base para observar o desempenho nos modelos que forem escolhidos"
   ]
  },
  {
   "cell_type": "code",
   "execution_count": 242,
   "id": "1d3df8f8",
   "metadata": {},
   "outputs": [],
   "source": [
    "# Exportando a base de treino e teste\n",
    "base_train.to_csv('train_1.csv',index=False)\n",
    "base_teste.to_csv('test_1.csv',index=False)"
   ]
  },
  {
   "cell_type": "markdown",
   "id": "f2dede5a",
   "metadata": {},
   "source": [
    "### Análise de correlação com a variável target\n",
    "- Filtrar colunas pouco correlatas"
   ]
  },
  {
   "cell_type": "code",
   "execution_count": 243,
   "id": "94e656f3",
   "metadata": {},
   "outputs": [
    {
     "data": {
      "image/png": "[encoded data removed]",
      "text/plain": [
       "<Figure size 800x600 with 2 Axes>"
      ]
     },
     "metadata": {},
     "output_type": "display_data"
    }
   ],
   "source": [
    "corr_matrix = base_train.corr(numeric_only=True)\n",
    "\n",
    "# Cria um DataFrame apenas com as correlações com a variável target\n",
    "target_corr = abs(corr_matrix[['SalePrice']].drop('SalePrice')).sort_values(by='SalePrice',ascending=False)\n",
    "\n",
    "# Plota o heatmap\n",
    "plt.figure(figsize=(8, 6))\n",
    "sns.heatmap(target_corr, annot=True, cmap='coolwarm', fmt='.2f', vmin=0, vmax=1)\n",
    "plt.title('Correlação entre Variáveis e Target')\n",
    "plt.show()"
   ]
  },
  {
   "cell_type": "code",
   "execution_count": 244,
   "id": "006e8231",
   "metadata": {},
   "outputs": [
    {
     "data": {
      "image/png": "[encoded data removed]",
      "text/plain": [
       "<Figure size 800x600 with 2 Axes>"
      ]
     },
     "metadata": {},
     "output_type": "display_data"
    }
   ],
   "source": [
    "corr_matrix2 = base_train.corr(numeric_only=True,method='spearman')\n",
    "\n",
    "# Cria um DataFrame apenas com as correlações com a variável target\n",
    "target_corr2 = abs(corr_matrix2[['SalePrice']].drop('SalePrice')).sort_values(by='SalePrice',ascending=False)\n",
    "\n",
    "# Plota o heatmap\n",
    "plt.figure(figsize=(8, 6))\n",
    "sns.heatmap(target_corr2, annot=True, cmap='coolwarm', fmt='.2f', vmin=0, vmax=1)\n",
    "plt.title('Correlação entre Variáveis e Target')\n",
    "plt.show()"
   ]
  },
  {
   "cell_type": "code",
   "execution_count": 245,
   "id": "d4c990a7",
   "metadata": {},
   "outputs": [],
   "source": [
    "# Renomear coluna da correlação de Pearson\n",
    "target_corr.columns = ['SalePrice2']"
   ]
  },
  {
   "cell_type": "code",
   "execution_count": 246,
   "id": "206a9404",
   "metadata": {},
   "outputs": [],
   "source": [
    "# Juntar as duas bases de correlação\n",
    "target_corr['Nome'] = target_corr2.index\n",
    "target_corr['SalePrice'] = target_corr2.values"
   ]
  },
  {
   "cell_type": "code",
   "execution_count": 247,
   "id": "97ecef0d",
   "metadata": {},
   "outputs": [
    {
     "data": {
      "text/html": [
       "<div>\n",
       "<style scoped>\n",
       "    .dataframe tbody tr th:only-of-type {\n",
       "        vertical-align: middle;\n",
       "    }\n",
       "\n",
       "    .dataframe tbody tr th {\n",
       "        vertical-align: top;\n",
       "    }\n",
       "\n",
       "    .dataframe thead th {\n",
       "        text-align: right;\n",
       "    }\n",
       "</style>\n",
       "<table border=\"1\" class=\"dataframe\">\n",
       "  <thead>\n",
       "    <tr style=\"text-align: right;\">\n",
       "      <th></th>\n",
       "      <th>SalePrice2</th>\n",
       "      <th>Nome</th>\n",
       "      <th>SalePrice</th>\n",
       "    </tr>\n",
       "  </thead>\n",
       "  <tbody>\n",
       "    <tr>\n",
       "      <th>OverallQual</th>\n",
       "      <td>0.790982</td>\n",
       "      <td>OverallQual</td>\n",
       "      <td>0.809829</td>\n",
       "    </tr>\n",
       "    <tr>\n",
       "      <th>GrLivArea</th>\n",
       "      <td>0.708624</td>\n",
       "      <td>GrLivArea</td>\n",
       "      <td>0.731310</td>\n",
       "    </tr>\n",
       "    <tr>\n",
       "      <th>GarageArea/Car</th>\n",
       "      <td>0.680058</td>\n",
       "      <td>GarageArea/Car</td>\n",
       "      <td>0.668591</td>\n",
       "    </tr>\n",
       "    <tr>\n",
       "      <th>AreaTotalBsmt</th>\n",
       "      <td>0.639368</td>\n",
       "      <td>YearBuilt</td>\n",
       "      <td>0.652682</td>\n",
       "    </tr>\n",
       "    <tr>\n",
       "      <th>FullBath</th>\n",
       "      <td>0.560664</td>\n",
       "      <td>FullBath</td>\n",
       "      <td>0.635957</td>\n",
       "    </tr>\n",
       "    <tr>\n",
       "      <th>TotRmsAbvGrd</th>\n",
       "      <td>0.533723</td>\n",
       "      <td>GarageYrBlt</td>\n",
       "      <td>0.634095</td>\n",
       "    </tr>\n",
       "    <tr>\n",
       "      <th>YearBuilt</th>\n",
       "      <td>0.522897</td>\n",
       "      <td>AreaTotalBsmt</td>\n",
       "      <td>0.623865</td>\n",
       "    </tr>\n",
       "    <tr>\n",
       "      <th>YearRemodAdd</th>\n",
       "      <td>0.507101</td>\n",
       "      <td>YearRemodAdd</td>\n",
       "      <td>0.571159</td>\n",
       "    </tr>\n",
       "    <tr>\n",
       "      <th>MasVnrArea</th>\n",
       "      <td>0.472614</td>\n",
       "      <td>TotRmsAbvGrd</td>\n",
       "      <td>0.532586</td>\n",
       "    </tr>\n",
       "    <tr>\n",
       "      <th>Fireplaces</th>\n",
       "      <td>0.466929</td>\n",
       "      <td>Fireplaces</td>\n",
       "      <td>0.519247</td>\n",
       "    </tr>\n",
       "    <tr>\n",
       "      <th>BsmtFinSF1</th>\n",
       "      <td>0.386420</td>\n",
       "      <td>OpenPorchSF</td>\n",
       "      <td>0.477561</td>\n",
       "    </tr>\n",
       "    <tr>\n",
       "      <th>LotFrontage</th>\n",
       "      <td>0.334771</td>\n",
       "      <td>LotArea</td>\n",
       "      <td>0.456461</td>\n",
       "    </tr>\n",
       "    <tr>\n",
       "      <th>WoodDeckSF</th>\n",
       "      <td>0.324413</td>\n",
       "      <td>MasVnrArea</td>\n",
       "      <td>0.415906</td>\n",
       "    </tr>\n",
       "    <tr>\n",
       "      <th>2ndFlrSF</th>\n",
       "      <td>0.319334</td>\n",
       "      <td>LotFrontage</td>\n",
       "      <td>0.375590</td>\n",
       "    </tr>\n",
       "    <tr>\n",
       "      <th>OpenPorchSF</th>\n",
       "      <td>0.315856</td>\n",
       "      <td>WoodDeckSF</td>\n",
       "      <td>0.353802</td>\n",
       "    </tr>\n",
       "    <tr>\n",
       "      <th>HalfBath</th>\n",
       "      <td>0.284108</td>\n",
       "      <td>HalfBath</td>\n",
       "      <td>0.343008</td>\n",
       "    </tr>\n",
       "    <tr>\n",
       "      <th>LotArea</th>\n",
       "      <td>0.263843</td>\n",
       "      <td>BsmtFinSF1</td>\n",
       "      <td>0.301871</td>\n",
       "    </tr>\n",
       "    <tr>\n",
       "      <th>GarageYrBlt</th>\n",
       "      <td>0.261354</td>\n",
       "      <td>2ndFlrSF</td>\n",
       "      <td>0.293598</td>\n",
       "    </tr>\n",
       "    <tr>\n",
       "      <th>BsmtFullBath</th>\n",
       "      <td>0.227122</td>\n",
       "      <td>BedroomAbvGr</td>\n",
       "      <td>0.234907</td>\n",
       "    </tr>\n",
       "    <tr>\n",
       "      <th>BsmtUnfSF</th>\n",
       "      <td>0.214479</td>\n",
       "      <td>BsmtFullBath</td>\n",
       "      <td>0.225125</td>\n",
       "    </tr>\n",
       "    <tr>\n",
       "      <th>BedroomAbvGr</th>\n",
       "      <td>0.168213</td>\n",
       "      <td>EnclosedPorch</td>\n",
       "      <td>0.218394</td>\n",
       "    </tr>\n",
       "    <tr>\n",
       "      <th>KitchenAbvGr</th>\n",
       "      <td>0.135907</td>\n",
       "      <td>BsmtUnfSF</td>\n",
       "      <td>0.185197</td>\n",
       "    </tr>\n",
       "    <tr>\n",
       "      <th>EnclosedPorch</th>\n",
       "      <td>0.128578</td>\n",
       "      <td>KitchenAbvGr</td>\n",
       "      <td>0.164826</td>\n",
       "    </tr>\n",
       "    <tr>\n",
       "      <th>ScreenPorch</th>\n",
       "      <td>0.111447</td>\n",
       "      <td>OverallCond</td>\n",
       "      <td>0.129325</td>\n",
       "    </tr>\n",
       "    <tr>\n",
       "      <th>MSSubClass</th>\n",
       "      <td>0.084284</td>\n",
       "      <td>ScreenPorch</td>\n",
       "      <td>0.100070</td>\n",
       "    </tr>\n",
       "    <tr>\n",
       "      <th>OverallCond</th>\n",
       "      <td>0.077856</td>\n",
       "      <td>MoSold</td>\n",
       "      <td>0.069432</td>\n",
       "    </tr>\n",
       "    <tr>\n",
       "      <th>MoSold</th>\n",
       "      <td>0.046432</td>\n",
       "      <td>LowQualFinSF</td>\n",
       "      <td>0.067719</td>\n",
       "    </tr>\n",
       "    <tr>\n",
       "      <th>3SsnPorch</th>\n",
       "      <td>0.044584</td>\n",
       "      <td>3SsnPorch</td>\n",
       "      <td>0.065440</td>\n",
       "    </tr>\n",
       "    <tr>\n",
       "      <th>YrSold</th>\n",
       "      <td>0.028923</td>\n",
       "      <td>MiscVal</td>\n",
       "      <td>0.062727</td>\n",
       "    </tr>\n",
       "    <tr>\n",
       "      <th>LowQualFinSF</th>\n",
       "      <td>0.025606</td>\n",
       "      <td>BsmtFinSF2</td>\n",
       "      <td>0.038806</td>\n",
       "    </tr>\n",
       "    <tr>\n",
       "      <th>Id</th>\n",
       "      <td>0.021917</td>\n",
       "      <td>YrSold</td>\n",
       "      <td>0.029899</td>\n",
       "    </tr>\n",
       "    <tr>\n",
       "      <th>MiscVal</th>\n",
       "      <td>0.021190</td>\n",
       "      <td>Id</td>\n",
       "      <td>0.018546</td>\n",
       "    </tr>\n",
       "    <tr>\n",
       "      <th>BsmtHalfBath</th>\n",
       "      <td>0.016844</td>\n",
       "      <td>BsmtHalfBath</td>\n",
       "      <td>0.012189</td>\n",
       "    </tr>\n",
       "    <tr>\n",
       "      <th>BsmtFinSF2</th>\n",
       "      <td>0.011378</td>\n",
       "      <td>MSSubClass</td>\n",
       "      <td>0.007192</td>\n",
       "    </tr>\n",
       "  </tbody>\n",
       "</table>\n",
       "</div>"
      ],
      "text/plain": [
       "                SalePrice2            Nome  SalePrice\n",
       "OverallQual       0.790982     OverallQual   0.809829\n",
       "GrLivArea         0.708624       GrLivArea   0.731310\n",
       "GarageArea/Car    0.680058  GarageArea/Car   0.668591\n",
       "AreaTotalBsmt     0.639368       YearBuilt   0.652682\n",
       "FullBath          0.560664        FullBath   0.635957\n",
       "TotRmsAbvGrd      0.533723     GarageYrBlt   0.634095\n",
       "YearBuilt         0.522897   AreaTotalBsmt   0.623865\n",
       "YearRemodAdd      0.507101    YearRemodAdd   0.571159\n",
       "MasVnrArea        0.472614    TotRmsAbvGrd   0.532586\n",
       "Fireplaces        0.466929      Fireplaces   0.519247\n",
       "BsmtFinSF1        0.386420     OpenPorchSF   0.477561\n",
       "LotFrontage       0.334771         LotArea   0.456461\n",
       "WoodDeckSF        0.324413      MasVnrArea   0.415906\n",
       "2ndFlrSF          0.319334     LotFrontage   0.375590\n",
       "OpenPorchSF       0.315856      WoodDeckSF   0.353802\n",
       "HalfBath          0.284108        HalfBath   0.343008\n",
       "LotArea           0.263843      BsmtFinSF1   0.301871\n",
       "GarageYrBlt       0.261354        2ndFlrSF   0.293598\n",
       "BsmtFullBath      0.227122    BedroomAbvGr   0.234907\n",
       "BsmtUnfSF         0.214479    BsmtFullBath   0.225125\n",
       "BedroomAbvGr      0.168213   EnclosedPorch   0.218394\n",
       "KitchenAbvGr      0.135907       BsmtUnfSF   0.185197\n",
       "EnclosedPorch     0.128578    KitchenAbvGr   0.164826\n",
       "ScreenPorch       0.111447     OverallCond   0.129325\n",
       "MSSubClass        0.084284     ScreenPorch   0.100070\n",
       "OverallCond       0.077856          MoSold   0.069432\n",
       "MoSold            0.046432    LowQualFinSF   0.067719\n",
       "3SsnPorch         0.044584       3SsnPorch   0.065440\n",
       "YrSold            0.028923         MiscVal   0.062727\n",
       "LowQualFinSF      0.025606      BsmtFinSF2   0.038806\n",
       "Id                0.021917          YrSold   0.029899\n",
       "MiscVal           0.021190              Id   0.018546\n",
       "BsmtHalfBath      0.016844    BsmtHalfBath   0.012189\n",
       "BsmtFinSF2        0.011378      MSSubClass   0.007192"
      ]
     },
     "execution_count": 247,
     "metadata": {},
     "output_type": "execute_result"
    }
   ],
   "source": [
    "# As correlações das features de Spearman são maiores comparadas a correlação de Pearson\n",
    "target_corr"
   ]
  },
  {
   "cell_type": "code",
   "execution_count": 248,
   "id": "9c022a17",
   "metadata": {},
   "outputs": [
    {
     "data": {
      "text/plain": [
       "Index(['OverallQual', 'GrLivArea', 'GarageArea/Car', 'YearBuilt', 'FullBath',\n",
       "       'GarageYrBlt', 'AreaTotalBsmt', 'YearRemodAdd', 'TotRmsAbvGrd',\n",
       "       'Fireplaces', 'OpenPorchSF', 'LotArea', 'MasVnrArea', 'LotFrontage',\n",
       "       'WoodDeckSF', 'HalfBath', 'BsmtFinSF1'],\n",
       "      dtype='object')"
      ]
     },
     "execution_count": 248,
     "metadata": {},
     "output_type": "execute_result"
    }
   ],
   "source": [
    "# Considerar correlação de spearman\n",
    "# Filtrar correlações maiores de 0.3\n",
    "target_corr2.index[target_corr2.SalePrice > 0.3]"
   ]
  },
  {
   "cell_type": "code",
   "execution_count": 249,
   "id": "e685e570",
   "metadata": {},
   "outputs": [],
   "source": [
    "# Filtrar essas colunas em treino e teste\n",
    "base_train = base_train[target_corr2.index[target_corr2.SalePrice > 0.3]]\n",
    "base_teste = base_teste[target_corr2.index[target_corr2.SalePrice > 0.3]]"
   ]
  },
  {
   "cell_type": "code",
   "execution_count": 250,
   "id": "0c18f812",
   "metadata": {
    "scrolled": true
   },
   "outputs": [
    {
     "data": {
      "text/html": [
       "<div>\n",
       "<style scoped>\n",
       "    .dataframe tbody tr th:only-of-type {\n",
       "        vertical-align: middle;\n",
       "    }\n",
       "\n",
       "    .dataframe tbody tr th {\n",
       "        vertical-align: top;\n",
       "    }\n",
       "\n",
       "    .dataframe thead th {\n",
       "        text-align: right;\n",
       "    }\n",
       "</style>\n",
       "<table border=\"1\" class=\"dataframe\">\n",
       "  <thead>\n",
       "    <tr style=\"text-align: right;\">\n",
       "      <th></th>\n",
       "      <th>OverallQual</th>\n",
       "      <th>GrLivArea</th>\n",
       "      <th>GarageArea/Car</th>\n",
       "      <th>YearBuilt</th>\n",
       "      <th>FullBath</th>\n",
       "      <th>GarageYrBlt</th>\n",
       "      <th>AreaTotalBsmt</th>\n",
       "      <th>YearRemodAdd</th>\n",
       "      <th>TotRmsAbvGrd</th>\n",
       "      <th>Fireplaces</th>\n",
       "      <th>OpenPorchSF</th>\n",
       "      <th>LotArea</th>\n",
       "      <th>MasVnrArea</th>\n",
       "      <th>LotFrontage</th>\n",
       "      <th>WoodDeckSF</th>\n",
       "      <th>HalfBath</th>\n",
       "      <th>BsmtFinSF1</th>\n",
       "    </tr>\n",
       "  </thead>\n",
       "  <tbody>\n",
       "    <tr>\n",
       "      <th>count</th>\n",
       "      <td>1460.000000</td>\n",
       "      <td>1460.000000</td>\n",
       "      <td>1460.000000</td>\n",
       "      <td>1460.000000</td>\n",
       "      <td>1460.000000</td>\n",
       "      <td>1460.000000</td>\n",
       "      <td>1460.000000</td>\n",
       "      <td>1460.000000</td>\n",
       "      <td>1460.000000</td>\n",
       "      <td>1460.000000</td>\n",
       "      <td>1460.000000</td>\n",
       "      <td>1460.000000</td>\n",
       "      <td>1460.000000</td>\n",
       "      <td>1460.000000</td>\n",
       "      <td>1460.000000</td>\n",
       "      <td>1460.000000</td>\n",
       "      <td>1460.000000</td>\n",
       "    </tr>\n",
       "    <tr>\n",
       "      <th>mean</th>\n",
       "      <td>6.099315</td>\n",
       "      <td>1515.463699</td>\n",
       "      <td>976.719178</td>\n",
       "      <td>1971.267808</td>\n",
       "      <td>1.565068</td>\n",
       "      <td>1868.684247</td>\n",
       "      <td>2220.056164</td>\n",
       "      <td>1984.865753</td>\n",
       "      <td>6.517808</td>\n",
       "      <td>0.613014</td>\n",
       "      <td>46.660274</td>\n",
       "      <td>10516.828082</td>\n",
       "      <td>103.117123</td>\n",
       "      <td>69.863699</td>\n",
       "      <td>94.244521</td>\n",
       "      <td>0.382877</td>\n",
       "      <td>443.639726</td>\n",
       "    </tr>\n",
       "    <tr>\n",
       "      <th>std</th>\n",
       "      <td>1.382997</td>\n",
       "      <td>525.480383</td>\n",
       "      <td>709.723243</td>\n",
       "      <td>30.202904</td>\n",
       "      <td>0.550916</td>\n",
       "      <td>453.925967</td>\n",
       "      <td>787.333406</td>\n",
       "      <td>20.645407</td>\n",
       "      <td>1.625393</td>\n",
       "      <td>0.644666</td>\n",
       "      <td>66.256028</td>\n",
       "      <td>9981.264932</td>\n",
       "      <td>180.731373</td>\n",
       "      <td>22.027677</td>\n",
       "      <td>125.338794</td>\n",
       "      <td>0.502885</td>\n",
       "      <td>456.098091</td>\n",
       "    </tr>\n",
       "    <tr>\n",
       "      <th>min</th>\n",
       "      <td>1.000000</td>\n",
       "      <td>334.000000</td>\n",
       "      <td>0.000000</td>\n",
       "      <td>1872.000000</td>\n",
       "      <td>0.000000</td>\n",
       "      <td>-1.000000</td>\n",
       "      <td>334.000000</td>\n",
       "      <td>1950.000000</td>\n",
       "      <td>2.000000</td>\n",
       "      <td>0.000000</td>\n",
       "      <td>0.000000</td>\n",
       "      <td>1300.000000</td>\n",
       "      <td>0.000000</td>\n",
       "      <td>21.000000</td>\n",
       "      <td>0.000000</td>\n",
       "      <td>0.000000</td>\n",
       "      <td>0.000000</td>\n",
       "    </tr>\n",
       "    <tr>\n",
       "      <th>25%</th>\n",
       "      <td>5.000000</td>\n",
       "      <td>1129.500000</td>\n",
       "      <td>336.000000</td>\n",
       "      <td>1954.000000</td>\n",
       "      <td>1.000000</td>\n",
       "      <td>1958.000000</td>\n",
       "      <td>1696.000000</td>\n",
       "      <td>1967.000000</td>\n",
       "      <td>5.000000</td>\n",
       "      <td>0.000000</td>\n",
       "      <td>0.000000</td>\n",
       "      <td>7553.500000</td>\n",
       "      <td>0.000000</td>\n",
       "      <td>60.000000</td>\n",
       "      <td>0.000000</td>\n",
       "      <td>0.000000</td>\n",
       "      <td>0.000000</td>\n",
       "    </tr>\n",
       "    <tr>\n",
       "      <th>50%</th>\n",
       "      <td>6.000000</td>\n",
       "      <td>1464.000000</td>\n",
       "      <td>948.000000</td>\n",
       "      <td>1973.000000</td>\n",
       "      <td>2.000000</td>\n",
       "      <td>1977.000000</td>\n",
       "      <td>2064.000000</td>\n",
       "      <td>1994.000000</td>\n",
       "      <td>6.000000</td>\n",
       "      <td>1.000000</td>\n",
       "      <td>25.000000</td>\n",
       "      <td>9478.500000</td>\n",
       "      <td>0.000000</td>\n",
       "      <td>69.000000</td>\n",
       "      <td>0.000000</td>\n",
       "      <td>0.000000</td>\n",
       "      <td>383.500000</td>\n",
       "    </tr>\n",
       "    <tr>\n",
       "      <th>75%</th>\n",
       "      <td>7.000000</td>\n",
       "      <td>1776.750000</td>\n",
       "      <td>1152.000000</td>\n",
       "      <td>2000.000000</td>\n",
       "      <td>2.000000</td>\n",
       "      <td>2001.000000</td>\n",
       "      <td>2661.000000</td>\n",
       "      <td>2004.000000</td>\n",
       "      <td>7.000000</td>\n",
       "      <td>1.000000</td>\n",
       "      <td>68.000000</td>\n",
       "      <td>11601.500000</td>\n",
       "      <td>164.250000</td>\n",
       "      <td>79.000000</td>\n",
       "      <td>168.000000</td>\n",
       "      <td>1.000000</td>\n",
       "      <td>712.250000</td>\n",
       "    </tr>\n",
       "    <tr>\n",
       "      <th>max</th>\n",
       "      <td>10.000000</td>\n",
       "      <td>5642.000000</td>\n",
       "      <td>5424.000000</td>\n",
       "      <td>2010.000000</td>\n",
       "      <td>3.000000</td>\n",
       "      <td>2010.000000</td>\n",
       "      <td>10802.000000</td>\n",
       "      <td>2010.000000</td>\n",
       "      <td>14.000000</td>\n",
       "      <td>3.000000</td>\n",
       "      <td>547.000000</td>\n",
       "      <td>215245.000000</td>\n",
       "      <td>1600.000000</td>\n",
       "      <td>313.000000</td>\n",
       "      <td>857.000000</td>\n",
       "      <td>2.000000</td>\n",
       "      <td>5644.000000</td>\n",
       "    </tr>\n",
       "  </tbody>\n",
       "</table>\n",
       "</div>"
      ],
      "text/plain": [
       "       OverallQual    GrLivArea  GarageArea/Car    YearBuilt     FullBath  \\\n",
       "count  1460.000000  1460.000000     1460.000000  1460.000000  1460.000000   \n",
       "mean      6.099315  1515.463699      976.719178  1971.267808     1.565068   \n",
       "std       1.382997   525.480383      709.723243    30.202904     0.550916   \n",
       "min       1.000000   334.000000        0.000000  1872.000000     0.000000   \n",
       "25%       5.000000  1129.500000      336.000000  1954.000000     1.000000   \n",
       "50%       6.000000  1464.000000      948.000000  1973.000000     2.000000   \n",
       "75%       7.000000  1776.750000     1152.000000  2000.000000     2.000000   \n",
       "max      10.000000  5642.000000     5424.000000  2010.000000     3.000000   \n",
       "\n",
       "       GarageYrBlt  AreaTotalBsmt  YearRemodAdd  TotRmsAbvGrd   Fireplaces  \\\n",
       "count  1460.000000    1460.000000   1460.000000   1460.000000  1460.000000   \n",
       "mean   1868.684247    2220.056164   1984.865753      6.517808     0.613014   \n",
       "std     453.925967     787.333406     20.645407      1.625393     0.644666   \n",
       "min      -1.000000     334.000000   1950.000000      2.000000     0.000000   \n",
       "25%    1958.000000    1696.000000   1967.000000      5.000000     0.000000   \n",
       "50%    1977.000000    2064.000000   1994.000000      6.000000     1.000000   \n",
       "75%    2001.000000    2661.000000   2004.000000      7.000000     1.000000   \n",
       "max    2010.000000   10802.000000   2010.000000     14.000000     3.000000   \n",
       "\n",
       "       OpenPorchSF        LotArea   MasVnrArea  LotFrontage   WoodDeckSF  \\\n",
       "count  1460.000000    1460.000000  1460.000000  1460.000000  1460.000000   \n",
       "mean     46.660274   10516.828082   103.117123    69.863699    94.244521   \n",
       "std      66.256028    9981.264932   180.731373    22.027677   125.338794   \n",
       "min       0.000000    1300.000000     0.000000    21.000000     0.000000   \n",
       "25%       0.000000    7553.500000     0.000000    60.000000     0.000000   \n",
       "50%      25.000000    9478.500000     0.000000    69.000000     0.000000   \n",
       "75%      68.000000   11601.500000   164.250000    79.000000   168.000000   \n",
       "max     547.000000  215245.000000  1600.000000   313.000000   857.000000   \n",
       "\n",
       "          HalfBath   BsmtFinSF1  \n",
       "count  1460.000000  1460.000000  \n",
       "mean      0.382877   443.639726  \n",
       "std       0.502885   456.098091  \n",
       "min       0.000000     0.000000  \n",
       "25%       0.000000     0.000000  \n",
       "50%       0.000000   383.500000  \n",
       "75%       1.000000   712.250000  \n",
       "max       2.000000  5644.000000  "
      ]
     },
     "execution_count": 250,
     "metadata": {},
     "output_type": "execute_result"
    }
   ],
   "source": [
    "# Observar estatísticas\n",
    "# Podemos perceber que algumas colunas com muita predominância de zeros ainda foram mantidas por apresentar correlação maior que 0.3\n",
    "base_num = base_train.select_dtypes(exclude=object)\n",
    "base_num.describe()"
   ]
  },
  {
   "cell_type": "code",
   "execution_count": 251,
   "id": "78c40354",
   "metadata": {},
   "outputs": [],
   "source": [
    "# Adicionar coluna target\n",
    "base_train_targ = pd.read_csv(\"train_1.csv\")    "
   ]
  },
  {
   "cell_type": "code",
   "execution_count": 252,
   "id": "33ba9548",
   "metadata": {},
   "outputs": [],
   "source": [
    "base_train['SalePrice'] = base_train_targ['SalePrice']"
   ]
  },
  {
   "cell_type": "markdown",
   "id": "26491179",
   "metadata": {},
   "source": [
    "## Checkpoint 2\n",
    "- Segunda base para observar o desempenho nos modelos que forem escolhidos"
   ]
  },
  {
   "cell_type": "code",
   "execution_count": 253,
   "id": "4b8d4372",
   "metadata": {},
   "outputs": [],
   "source": [
    "# Exportando a base de treino e teste\n",
    "base_train.to_csv('train_2.csv',index=False)\n",
    "base_teste.to_csv('test_2.csv',index=False)"
   ]
  }
 ],
 "metadata": {
  "kernelspec": {
   "display_name": "Python 3 (ipykernel)",
   "language": "python",
   "name": "python3"
  },
  "language_info": {
   "codemirror_mode": {
    "name": "ipython",
    "version": 3
   },
   "file_extension": ".py",
   "mimetype": "text/x-python",
   "name": "python",
   "nbconvert_exporter": "python",
   "pygments_lexer": "ipython3",
   "version": "3.11.5"
  }
 },
 "nbformat": 4,
 "nbformat_minor": 5
}
